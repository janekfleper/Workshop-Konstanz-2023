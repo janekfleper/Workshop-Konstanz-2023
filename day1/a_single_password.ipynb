{
 "cells": [
  {
   "cell_type": "markdown",
   "id": "14a69c6b-6c86-48be-bcec-b2f19262429b",
   "metadata": {},
   "source": [
    "## A single password\n",
    "Choose a password that consists of regular letters, numbers and a few special characters (anything you can find on your keyboard). The password will be a variable of type `string` which is indicated by either single or double quotes:\n",
    "```python\n",
    "password = \"duck137][(!\"\n",
    "password = 'duck137][(!'\n",
    "```\n",
    "Execute the cell to make sure that the string can be assigned to the variable `password` without any error. If there is an error, the relevant position will be highlighted. Just try to simplify/change the password to get rid of the error for now. You can also rely on the syntax highlighting. In a Jupyter notebook a valid string (including the quotes) will be written in a red font.    \n",
    "\n",
    "- Create a new cell for each assignment using the mouse icons or the keyboard shortcuts. There should be at least three cells in this section once you're done.\n",
    "- Print the password by passing it to the built-in function `print(password)` and check that it matches your input string. In the case that anything looks different, which characters are affected?\n",
    "- Instead of using the `print()` function, just write `password` in a cell and execute it. What is the difference compared to the printed cell output?"
   ]
  },
  {
   "cell_type": "code",
   "execution_count": null,
   "id": "b11ce466-11d5-4f34-b1ad-ec9a5634f47d",
   "metadata": {},
   "outputs": [],
   "source": []
  },
  {
   "cell_type": "markdown",
   "id": "4b186a05-f07e-4639-9ba7-65c44f04480e",
   "metadata": {},
   "source": [
    "## Character indexing\n",
    "To analyze the password you need to access the individual characters in the string. This can be done by specifying an index in square brackets. E.g. `password[1]` will return the character `\"u\"` for the example password from the first exercise. The index in the square brackets must be an integer. Besides individual characters, you can also select multiple characters by specifying an index range. The expression `password[start:stop]` will return the characters in the password from the `start` to the `stop`.\n",
    "\n",
    "- Try to understand how the indexing of the password string works to access the individual characters. Which index returns the first/last character?\n",
    "- What is the smallest/greatest allowed value for the index? An `IndexError` will be raised if the index is outside of the allowed range.\n",
    "- How does the string slicing work with an index range? Try to find index values for `start` and `stop` that return the entire password.\n",
    "- What values are required for `start` and `stop` to return an individual character at any position in the string?\n",
    "- Check if you can find values for `start` and `stop` to raise an `IndexError`. If you can't find any values, what happens in the cases where you would expect an error to be raised?"
   ]
  },
  {
   "cell_type": "code",
   "execution_count": null,
   "id": "3c3ebeeb-6309-405e-b370-e77c2f259609",
   "metadata": {},
   "outputs": [],
   "source": []
  },
  {
   "cell_type": "markdown",
   "id": "c3d92a99-0430-4352-97a1-b91cf32e17ab",
   "metadata": {},
   "source": [
    "## Index iteration\n",
    "In the previous section you learned how to get any individual character from the password. To iterate over all characters you need all valid index values from the first to the last character in the password. Instead of writing the index values into a list manually you can generate them based on the length of the password. The built-in function `len()` will return the number of characters in the password, and the built-in function `range()` will then return the individual indices. Iterations over a fixed range are done with a `for` loop, see the following code snippet that will print all the characters in the password one by one:\n",
    "```python\n",
    "for i in range(len(password)):\n",
    "    print(password[i])\n",
    "```\n",
    "The code in the for-loop must be indented by four spaces. You can still use the tab key since it will automatically be replaced by four spaces in a Jupyter Notebook. This will be true for any development environment that is correctly configured for Python.\n",
    "\n",
    "- Try to understand the individual keywords in the for-loop. Which variable can you rename in the cell without raising an error or changing the output?\n",
    "- Look at the error messages when you omit the colon at the end of the first line or the indent at the start of the second line. Remember the errors since they happen quite easily when writing Python code.\n",
    "- What happens if you print/output the `range()`? Can you get the values from the range with the slicing from the previous section? Try a single index and an index range."
   ]
  },
  {
   "cell_type": "code",
   "execution_count": null,
   "id": "73e2fa39-c26c-41ad-8737-d48b408b2aab",
   "metadata": {},
   "outputs": [],
   "source": []
  },
  {
   "cell_type": "markdown",
   "id": "2cb772df-c946-4087-ac74-a4ac7e7df898",
   "metadata": {},
   "source": [
    "## Direct iteration\n",
    "Instead of using an index to select the characters, you can also directly iterate over the password. The following `for` loop will return/store the characters one by one in the loop variable `character`:\n",
    "```python\n",
    "for character in password:\n",
    "    print(character)\n",
    "```\n",
    "You can use a combination of the index iteration and the direct iteration with the built-in function `enumerate()`. This will return the index and the corresponding character for each step in the `for` loop:\n",
    "```python\n",
    "for i, character in enumerate(password):\n",
    "    print(i, character)\n",
    "```\n",
    "\n",
    "- Test both cases and compare them to the `for` loop in the previous exercise. Where could the index iteration have an advantage over the two cases presented here?\n",
    "- Is it possible to use a single loop variable with `enumerate()`? If possible, what will be the value of the loop variable in each step? Can you recover the individual variables?"
   ]
  },
  {
   "cell_type": "code",
   "execution_count": null,
   "id": "37ea72eb-df38-4511-a517-81cd972a079c",
   "metadata": {},
   "outputs": [],
   "source": []
  },
  {
   "cell_type": "markdown",
   "id": "2d3cc9dd-2b15-4b97-8edb-ba19da7a1cd7",
   "metadata": {},
   "source": [
    "## Categorizing the characters\n",
    "You will now iterate over the password characters to sort them into lists of alphabetic characters and numeric characters. Regarding the indexing and slicing, lists work just like strings. However, lists can store variables/objects of any type, even other lists, whereas strings can only contain characters. You can create lists with square brackets where the elements are separated by commas, e.g. `[1, 2, \"a\"]`. With just the square brackets `[]` you can create an empty list.    \n",
    "\n",
    "To check if a character is alphabetic or numeric, you can use the string methods `isalpha()` and `isnumeric()`. Calling `character.isalpha()` will return a boolean (`True` or `False`). You can use this in an `if` statement to decide if the `character` should be appended to the `alphabetic` list:\n",
    "```python\n",
    "if character.isalpha():\n",
    "    alphabetic.append(character)\n",
    "```\n",
    "\n",
    "- Try the string methods `isalpha()` and `isnumeric()` with a few different strings. You can either change your password variable or use new strings.\n",
    "- Create two empty lists to store the alphabetic characters and numeric characters respectively.\n",
    "- Iterate over the password characters with a `for` loop of your choice and use two `if` statements in the loop to append the alphabetic characters and numeric characters to separate lists.\n",
    "- Compare the contents of the two lists to your password. Are there some characters (unexpectedly) missing from the lists? Try this with a few different passwords.\n",
    "- Count the alphabetic characters and numeric characters by passing the respective lists to the `len()` function. Compute the number of missing characters using the length of the password."
   ]
  },
  {
   "cell_type": "code",
   "execution_count": null,
   "id": "a6eee41c-18db-476b-a951-686cb3025876",
   "metadata": {},
   "outputs": [],
   "source": []
  },
  {
   "cell_type": "markdown",
   "id": "80aadd97-3ce5-4f41-bc71-b75fa5d2858f",
   "metadata": {},
   "source": [
    "## Writing a password policy\n",
    "If you sign up somewhere, your password might be rejected because it does not meet some requirements of the password policy. Typical requirements can be\n",
    "1. The length of the password must be at least 8 characters\n",
    "2. The password must contain at least one alphabetic character\n",
    "3. The password must contain at least one numeric character\n",
    "\n",
    "If any of the requirements are not fulfilled, you will be told to pick a different (and more secure) password. In order to know the changes you have to make to the password, the failed requirements have to be returned to you. E.g. if the length of the password is only 6 characters, the following message should be printed: `The password must be at least 8 characters long.`\n",
    "\n",
    "- Check the password length requirement with the comparison operators that are implemented in Python, such as `==`, `<=`, `>` etc... See this [list](https://www.w3schools.com/python/gloss_python_comparison_operators.asp) for all available comparison operators.\n",
    "- Compute the lengths of the lists of alphabetic characters and numeric characters to check the other two requirements. You can reuse the code from the last exercise.\n",
    "- If all three requirements are fulfilled, print a message stating that the password is secure according to the password policy. You can combine conditions with the keywords `or`/`and`.\n",
    "- Try the password policy check for a few different passwords. Can you find a password that breaks all three rules of the password policy?"
   ]
  },
  {
   "cell_type": "code",
   "execution_count": null,
   "id": "b7613ccb-5051-4d85-b707-dda83298f8b5",
   "metadata": {},
   "outputs": [],
   "source": []
  },
  {
   "cell_type": "markdown",
   "id": "f97950ea-77dc-4f8b-9675-3c7a9c6f4a98",
   "metadata": {},
   "source": [
    "## Identifying special characters\n",
    "The previous categorization only distinguishes between alphabetic characters and numeric characters using the respective string methods `isalpha()` and `isnumeric()`. Unfortunately, checking a string for special characters such as `\"!\"`, `\"?\"` etc... is not implemented as a string method ([source](https://www.w3schools.com/python/python_ref_string.asp)). The solution to this problem is to assume that any character that is neither alphabetic nor numeric must be a special character. In Python you can implement this using an `if`-`elif`-`else` statement. The following code snippet shows how you could check if the password is between 8 and 16 characters long\n",
    "```python\n",
    "if len(password) < 8:\n",
    "    print(\"The password is too short\")\n",
    "elif len(password) > 16:\n",
    "    print(\"The password is too long\")\n",
    "else:\n",
    "    print(\"The password has a valid length\")\n",
    "```\n",
    "The keyword `elif` is supposed to be a combination of `else` and `if`. It allows you to check a second condition if the first condition was `False`. In general, you can use any number of `elif` statements, even no `elif` statement at all. If you only want to check one condition, you can omit the `elif` statement and just use `if` and `else`. As you (implicitely) learned in an earlier exercise, the `else` statement is also optional. If you don't need to handle the case where the initial condition is `False`, it is perfectly fine to just use the `if` statement.\n",
    "\n",
    "- Create three empty lists to store the alphabetic, numeric and special characters.\n",
    "- Iterate over the characters in the password and use an `if`-`elif`-`else` statement to sort the characters into the three categories. There should be no character missing from the three lists this time.\n",
    "- Compute the lengths of the three lists and compare them to the length of the password to confirm that no characters are missing this time.\n",
    "- Try a few different passwords with and without characters from the three categories. Your code should handle all cases without any errors."
   ]
  },
  {
   "cell_type": "code",
   "execution_count": null,
   "id": "173cc3d8-1f82-412d-99ca-12f069c5304c",
   "metadata": {},
   "outputs": [],
   "source": []
  },
  {
   "cell_type": "markdown",
   "id": "6d742fef-15bf-4a57-a82b-80e59e6ee524",
   "metadata": {},
   "source": [
    "## EXTRA: Improving the password policy\n",
    "The requirements are now slightly different compared to the earlier exercise, with the goal of increasing the password security even further:\n",
    "1. The length must be between 8 and 16 characters (including 8 and 16)\n",
    "2. The password must contain at least one lower-case character and one upper-case character\n",
    "3. The password must contain at least two numeric characters\n",
    "4. The password must contain at least one special character\n",
    "\n",
    "The rest of the exercise is the same as before. For any requirement that is not fulfilled there should be a message that states the requirement, and if all requirements are fulfilled there should be a message that confirms the security of the password. You can use this [list](https://www.w3schools.com/python/python_ref_string.asp) to find the string methods that you need to solve this exercise.\n",
    "\n",
    "- Implement the improved password policy. Remember that you can combine conditions with the keywords `or`/`and`.\n",
    "- Try a few different passwords to make sure that all the checks are working as intended."
   ]
  },
  {
   "cell_type": "code",
   "execution_count": null,
   "id": "013833ae-59e0-4791-a147-fd32773794f8",
   "metadata": {},
   "outputs": [],
   "source": []
  },
  {
   "cell_type": "markdown",
   "id": "883cf19c-780b-492b-95dc-fe8ee8fdbc35",
   "metadata": {},
   "source": [
    "## Sum of digits\n",
    "You can calculate the sum of digits of a passwod by identifying all numeric characters and subsequently computing their sum. In Python, objects/variables are added with the `+` operator, the definition of the sum does however depend on the types of the objects/variables. If the sum of two objects/variables is not supported, a `TypeError` will be raised.\n",
    "\n",
    "- Get the numeric characters from the password and store them in a list. You need to change your password if it does not contain at least two numeric characters.\n",
    "- Take the sum of the first two characters from the list of numeric characters. Explain in your own words what the sum does for strings?\n",
    "- Pass the two characters to the built-in function `int()` to convert them to an integer before taking the sum. Does the result match your expectation now?\n",
    "- Calculate the sum of all numeric characters in the password. The solution should work for any number of numeric characters. If there are no numeric characters, the result must be 0."
   ]
  },
  {
   "cell_type": "code",
   "execution_count": null,
   "id": "d2387d02-ab29-4c40-ba8e-0963fbdb768c",
   "metadata": {},
   "outputs": [],
   "source": []
  },
  {
   "cell_type": "markdown",
   "id": "db936884-08da-44ed-a225-3306aa900fa9",
   "metadata": {},
   "source": [
    "## Compact iteration\n",
    "There is a shorter way to get the lists of alphabetic and numeric characters in the password. The `for` loop, the `if` statement and the creation of the list can be written as a list comprehension in a single line. As an example, see the following code snippet to get the numeric characters from the password:\n",
    "```python\n",
    "numeric = [character for character in password if character.isnumeric()]\n",
    "```\n",
    "\n",
    "- Make sure that you understand the syntax of the list comprehension. Compare it to the regular `for` loop in the previous exercise. Find the variable that you can rename without raising any errors.\n",
    "- What would you expect to happend if you omit the `if` statement in the list comprehension? Modify the characters in the returned list with the string method `upper()`.\n",
    "- Write the list comprehensions to save all the alphabetic characters and numeric characters from the password in separate lists.\n",
    "- Modify the numeric list comprehension to directly convert the numeric characters to integers with the built-in function `int()`.\n",
    "- Directly calculate the digit sum from the password in a single line. You can use the built-in function `sum()` to calculate the sum of a list of integers (or numbers in general).\n",
    "- Get the special characters from the password using a list comprehension. Verify that the three lists contain all characters by checking their lengths compared to the password.\n",
    "- Can you think of any disadvantages of these list comprehension `for` loops compared to regular ones?"
   ]
  },
  {
   "cell_type": "code",
   "execution_count": null,
   "id": "f0788c28-d6aa-4940-bf5e-408e60401b99",
   "metadata": {},
   "outputs": [],
   "source": []
  },
  {
   "cell_type": "markdown",
   "id": "1fa41e65-f85f-4814-86ec-59655e7f1760",
   "metadata": {},
   "source": [
    "## Counting characters\n",
    "For each unique character in the password you want to store the character as a string and the corresponding count as an integer. This kind of data is best kept in a dictionary that can hold key-value pairs. In this case, the characters will be the keys and the counts will be the values. While the keys must be unique strings or numbers, there are no restrictions on the types of the values.  \n",
    "There are two ways to create dictionaries. You can either use the built-in function `dict()` or curly brackets `{}`. See the following examples that will create equal dictionaries:\n",
    "```python\n",
    "character_count = dict(a=4, c=3)\n",
    "character_count = {\"a\": 4, \"c\": 3}\n",
    "```\n",
    "You can access/change the values in the dictionary by indexing them with a key. The following code snippet adds the key `\"f\"` with the value `1` to the dictionary `character_count`. If the key already exists, the previous value will just be overwritten:\n",
    "```python\n",
    "character_count[\"f\"] = 1\n",
    "```\n",
    "When reading a value from a dictionary, a `KeyError` is raised if the key does not exist yet. If you want to check whether a key is in a dictionary, you can use the following code snippet:\n",
    "```python\n",
    "if \"a\" in character_count:\n",
    "    print(\"The character 'a' occurs in the password\")\n",
    "else:\n",
    "    print(\"The character 'a' does not occur in the password\")\n",
    "```\n",
    "\n",
    "- Make sure that you understand the syntax of both examples. Rename the keys and/or add a few more key-value pairs. What happens if you try to use the same key twice?\n",
    "- After you create the dictionary (using your preferred syntax), assign a few more key-value pairs. Print/output the dictionary afterwards to check that the changes match your expectations.\n",
    "- Create an empty dictionary to store the character counts of the password and write a `for` loop to iterate over the characters in the password.\n",
    "- Store the character counts in the dictionary. Only the characters that occur in the password must be in the dictionary, no key should therefore have the value 0.\n",
    "- Try the character counting with a few different passwords (with several duplicate characters) and make sure to always start with an empty dictionary. How are the keys ordered in the dictionary?"
   ]
  },
  {
   "cell_type": "code",
   "execution_count": null,
   "id": "6604a4bb-8b80-4c6c-9f35-ec1b81e70cbb",
   "metadata": {},
   "outputs": [],
   "source": []
  },
  {
   "cell_type": "markdown",
   "id": "be9c4acb-09ef-4cbe-b88f-f989cfa255cc",
   "metadata": {},
   "source": [
    "## Dictionary iteration\n",
    "Iterating over the key-value pairs in a dictionary works very similar to lists. Directly iterating over the dictionary will implicitely iterate over the keys. To exlicitely iterate over the keys, you can also use the dictionary method `keys()`. The following two `for` loops are therefore equivalent:\n",
    "```python\n",
    "for key in character_count:\n",
    "    print(key)\n",
    "\n",
    "for key in character_count.keys():\n",
    "    print(key)\n",
    "```\n",
    "The second `for` loop makes your code easier to read in exchange for a slightly longer line. This is ultimately a matter of personal preference, you should however not underestimate the value of code readability.  \n",
    "In addition to the keys, you can calso iterate over the values (with the method `values()`) and the key-value pairs (with the method `items()`). In the latter case two values are returned, similar to the `for` loop of a list with the `enumerate()` function.\n",
    "\n",
    "- You can either use the `character_count` dictionary from the previous exercise or you can create a new dictionary with a few key-value pairs.\n",
    "- Write the `for` loops to iterate over the dictionary keys, values and items. You can either just print the loop variable(s) or you can get creative and try something else in the `for` loops.\n",
    "- Combine the dictionary `for` loops with the `enumerate()` function. Can you manage to arrange the loop variables to iterate over the dictionary items without raising a ValueError?\n",
    "- Compute the sum of the values in the dictionary in a single line of code. If you used the `character_count` dictionary, check that the sum matches the length of the password."
   ]
  },
  {
   "cell_type": "code",
   "execution_count": null,
   "id": "dcca724f-dd1b-459f-8edf-1366d1af92e4",
   "metadata": {},
   "outputs": [],
   "source": []
  },
  {
   "cell_type": "markdown",
   "id": "6a38c2a0-b4a2-4fc0-aabd-e24fbf77cee7",
   "metadata": {},
   "source": [
    "## Interrupting for loops\n",
    "The `for` loops you have used in the exercises so far all had a predefined range. You could therefore know how many times the loop would run before actually executing the code. In some cases it can be useful to interrupt a loop during the iteration if the loop has already served its purpose. In a `for` loop you can do this with the keyword `break`. See the following code snippet that will stop the iteration of the password when a numeric character is found:\n",
    "```python\n",
    "for character in password:\n",
    "    if character.isnumeric():\n",
    "        print(\"I found a numeric character in the password.\")\n",
    "        break\n",
    "```\n",
    "Instead of interrupting the `for` loop, you could have also stored all numeric characters in a list (as you have done in earlier exercises). Computing the length of the list will then tell you if there are numeric characters in the password. While the result of the two approaches will be the same, the interrupted `for` loop can be a lot more efficient. You don't have to keep an additional list of characters and you don't have to finish the iteration if you have already found a numeric character. For a single password this will not make a noticeable difference but if you run the code on millions of passwords, this will definitely have an impact on the runtime (and the required resources).\n",
    "\n",
    "- Check if a password contains at least two special characters with a list comprehension or the regular (uninterrupted) `for` loop.\n",
    "- Write an interrupted `for` loop to check the same requirement. You can use an integer variable to keep track of the number of special characters.\n",
    "- Use the function `enumerate()` to keep track of the number of iterations of the interrupted `for` loop. Check that the loop really stops as early as you would expect it to."
   ]
  },
  {
   "cell_type": "code",
   "execution_count": null,
   "id": "9f49e48a-00db-416e-b06f-92a26b4ff80c",
   "metadata": {},
   "outputs": [],
   "source": []
  },
  {
   "cell_type": "markdown",
   "id": "b53c37b3-a531-4a51-91b5-7c2348c7c64c",
   "metadata": {},
   "source": [
    "## EXTRA: Making a password more secure\n",
    "This exercise is a follow-up to the first \"EXTRA\" exercise about improving the password policy. Make sure to solve this one before starting this exercise.  \n",
    "\n",
    "The password policy in this exercise uses mixed requirements from the earlier two password policies. If you want to make this exercise easier/more difficult, you can slightly modify the requirements to your liking. E.g. you can add the maximum allowed length of 16 or you can drop the numeric character requirement.\n",
    "1. The length of the password must be at least 8 characters\n",
    "2. The password must contain lower-case characters and upper-case characters\n",
    "3. The password must contain at least one numeric character\n",
    "\n",
    "If a password is not considered to be secure enough, it would be convenient to have an algorithm that automatically modifies the password to meet the security requirements. Just appending `\"aA1\"` to every password to meet the latter two requirements would be too easy to crack. The modification(s) should therefore depend on the original password. You can do this with the string methods that are built into Python. For a list of available methods see https://www.w3schools.com/python/python_ref_string.asp or just find a list online.  \n",
    "Since strings cannot be modified in place in Python (they are immutable) the best approach is to work with a list of the individual characters. You can then replace/modify the characters by assigning a new/modified character to the corresponding index in the list. After the modification(s) you can turn the list of characters into a string again with the method `\"\".join()`. See the following code snippet as an illustration. In the password `\"hello\"` the character `\"e\"` is manually replaced by the character `\"3\"` to fulfill the numeric requirement:\n",
    "```python\n",
    "password = \"hello\"\n",
    "characters = [char for char in password]\n",
    "characters[1] = \"3\"\n",
    "modified_password = \"\".join(characters)\n",
    "```\n",
    "\n",
    "Disclaimer: Passwords with these simple modifications are still considered to be weak according to [wikipedia/password_strength](https://en.wikipedia.org/wiki/Password_strength#Examples_of_weak_passwords) and [wikipedia/password_cracking](https://en.wikipedia.org/wiki/Password_cracking#Easy_to_remember,_hard_to_guess) since these checks can be easily automated. Nevertheless, it's a good exercise on working with strings.\n",
    "\n",
    "- Write the code to make any password pass the requirements above. You can follow the next bullet points or you can get creative and try to find your own solution.\n",
    "- If there is no lower/upper-case character, replace the first suitable character with its upper/lower-case counterpart.\n",
    "- If there is no numeric character, replace the first suitable character (lower-case or upper-case) by its [leet-speak](https://en.wikipedia.org/wiki/Leet#Table_of_leet-speak_substitutes_for_normal_letters) counterpart. The most common options are `E->3, S->5, B->8, I->1, A->4`.\n",
    "- If the password is not long enough, repeat it until the minimum required length is reached/exceeded.\n",
    "- If you cannot automatically modify the password to meet the requirements, print a message that states why the modification failed.\n",
    "- If you were able to automatically modify the password, print a message that contains the new password.\n",
    "\n",
    "To test your password modification you can try the cases from the table below. Copy the initial password from the table and check if your modified password looks the same. Some of the impossible modifications assume that only the \"most common\" numeric replacements from the exercise are used. If you included more replacments, the modification might be possible anyway.  \n",
    "\n",
    "**It's perfectly fine if your password modification algorithm does not work for all of the last five examples from the table, these are some special edge cases to push the boundaries of the modification algorithm. If you want to improve your algorithm, make sure that you understand where/why the edge cases failed beforehand.**\n",
    "\n",
    "| initial password | modified password |\n",
    "|:----------------:|:-----------------:|\n",
    "|    \"password\"    |     \"P4ssword\"    |\n",
    "|     \"duck123\"    |  \"Duck123duck123\" |\n",
    "|    \"KONSTANZ\"    |     \"kON5TANZ\"    |\n",
    "|        \"A\"       |     \"4aAAAAAA\"    |\n",
    "|       \"123\"      |    not possible   |\n",
    "|    \"AB______\"    |    not possible   |\n",
    "|        \"\"        |    not possible   |\n",
    "|      \"otto\"      |    not possible   |"
   ]
  }
 ],
 "metadata": {
  "kernelspec": {
   "display_name": "konstanz2023",
   "language": "python",
   "name": "konstanz2023"
  },
  "language_info": {
   "codemirror_mode": {
    "name": "ipython",
    "version": 3
   },
   "file_extension": ".py",
   "mimetype": "text/x-python",
   "name": "python",
   "nbconvert_exporter": "python",
   "pygments_lexer": "ipython3",
   "version": "3.11.5"
  }
 },
 "nbformat": 4,
 "nbformat_minor": 5
}
