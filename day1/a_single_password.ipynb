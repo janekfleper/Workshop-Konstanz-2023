{
 "cells": [
  {
   "cell_type": "markdown",
   "id": "14a69c6b-6c86-48be-bcec-b2f19262429b",
   "metadata": {},
   "source": [
    "## A single password\n",
    "Choose a password that consists of regular letters, numbers and a few special characters (anything you can find on your keyboard). The password will be a variable of type `string` which is indicated by either single or double quotes:\n",
    "```\n",
    "password = \"duck137][(!\"\n",
    "password = 'duck137][(!'\n",
    "```\n",
    "Execute the cell to make sure that the string can be assigned to the variable `password` without any error. If there is an error, the relevant position will be highlighted. Just try to simplify/change the password to get rid of the error for now. You can also rely on the syntax highlighting. In a Jupyter notebook a valid string (including the quotes) will be written in a red font.    \n",
    "\n",
    "- Create a new cell for each assignment using the mouse icons or the keyboard shortcuts. There should be at least three cells in this section once you're done.\n",
    "- Print the password by passing it to the built-in function `print(password)` and check that it matches your input string. In the case that anything looks different, which characters are affected?\n",
    "- Instead of using the `print()` function, just write `password` in a cell and execute it. What is the difference compared to the printed cell output?"
   ]
  },
  {
   "cell_type": "code",
   "execution_count": null,
   "id": "b11ce466-11d5-4f34-b1ad-ec9a5634f47d",
   "metadata": {},
   "outputs": [],
   "source": []
  },
  {
   "cell_type": "markdown",
   "id": "4b186a05-f07e-4639-9ba7-65c44f04480e",
   "metadata": {},
   "source": [
    "## Character indexing\n",
    "To analyze the password you need to access the individual characters in the string. This can be done by specifying an index in square brackets. E.g. `password[1]` will return the character `\"u\"` for the example password from the first exercise. The index in the square brackets must be an integer. Besides individual characters, you can also select multiple characters by specifying an index range. The expression `password[start:stop]` will return the characters in the password from the `start` to the `stop`.\n",
    "\n",
    "- Try to understand how the indexing of the password string works to access the individual characters. Which index returns the first/last character?\n",
    "- What is the smallest/greatest allowed value for the index? An `IndexError` will be raised if the index is outside of the allowed range.\n",
    "- How does the string slicing work with an index range? Try to find index values for `start` and `stop` that return the entire password.\n",
    "- What values are required for `start` and `stop` to return an individual character at any position in the string?\n",
    "- Check if you can find values for `start` and `stop` to raise an `IndexError`. If you can't find any values, what happens in the cases where you would expect an error to be raised?"
   ]
  },
  {
   "cell_type": "code",
   "execution_count": null,
   "id": "3c3ebeeb-6309-405e-b370-e77c2f259609",
   "metadata": {},
   "outputs": [],
   "source": []
  },
  {
   "cell_type": "markdown",
   "id": "c3d92a99-0430-4352-97a1-b91cf32e17ab",
   "metadata": {},
   "source": [
    "## Index iteration\n",
    "In the previous section you learned how to get any individual character from the password. To iterate over all characters you need all valid index values from the first to the last character in the password. Instead of writing the index values into a list manually you can generate them based on the length of the password. The built-in function `len()` will return the number of characters in the password, and the built-in function `range()` will then return the individual indices. Iterations over a fixed range are done with a `for` loop, see the following code snippet that will print all the characters in the password one by one:\n",
    "```\n",
    "for i in range(len(password)):\n",
    "    print(password[i])\n",
    "```\n",
    "The code in the for-loop must be indented by four spaces. You can still use the tab key since it will automatically be replaced by four spaces in a Jupyter Notebook. This will be true for any development environment that is correctly configured for Python.\n",
    "\n",
    "- Try to understand the individual keywords in the for-loop. Which variable can you rename in the cell without raising an error or changing the output?\n",
    "- Look at the error messages when you omit the colon at the end of the first line or the indent at the start of the second line. Remember the errors since they happen quite easily when writing Python code.\n",
    "- What happens if you print/output the `range()`? Can you get the values from the range with the slicing from the previous section? Try a single index and an index range."
   ]
  },
  {
   "cell_type": "code",
   "execution_count": null,
   "id": "73e2fa39-c26c-41ad-8737-d48b408b2aab",
   "metadata": {},
   "outputs": [],
   "source": []
  },
  {
   "cell_type": "markdown",
   "id": "2cb772df-c946-4087-ac74-a4ac7e7df898",
   "metadata": {},
   "source": [
    "## Direct iteration\n",
    "Instead of using an index to select the characters, you can also directly iterate over the password. The following `for` loop will return/store the characters one by one in the loop variable `character`:\n",
    "```\n",
    "for character in password:\n",
    "    print(character)\n",
    "```\n",
    "You can use a combination of the index iteration and the direct iteration with the built-in function `enumerate()`. This will return the index and the corresponding character for each step in the `for` loop:\n",
    "```\n",
    "for i, character in enumerate(password):\n",
    "    print(i, character)\n",
    "```\n",
    "\n",
    "- Test both cases and compare them to the `for` loop in the previous exercise. Where could the index iteration have an advantage over the two cases presented here?\n",
    "- Is it possible to use a single loop variable with `enumerate()`? If possible, what will be the value of the loop variable in each step? Can you recover the individual variables?"
   ]
  },
  {
   "cell_type": "code",
   "execution_count": null,
   "id": "37ea72eb-df38-4511-a517-81cd972a079c",
   "metadata": {},
   "outputs": [],
   "source": []
  },
  {
   "cell_type": "markdown",
   "id": "2d3cc9dd-2b15-4b97-8edb-ba19da7a1cd7",
   "metadata": {},
   "source": [
    "## Categorizing the characters\n",
    "You will now iterate over the password characters to sort them into lists of alphabetic characters and numeric characters. Regarding the indexing and slicing, lists work just like strings. However, lists can store variables/objects of any type, even other lists, whereas strings can only contain characters. You can create lists with square brackets where the elements are separated by commas, e.g. `[1, 2, \"a\"]`. With just the square brackets `[]` you can create an empty list.    \n",
    "\n",
    "To check if a character is alphabetic or numeric, you can use the string methods `isalpha()` and `isnumeric()`. Calling `character.isalpha()` will return a boolean (`True` or `False`). You can use this in an `if` statement to decide if the `character` should be appended to the `alphabetic` list:\n",
    "```\n",
    "if character.isalpha():\n",
    "    alphabetic.append(character)\n",
    "```\n",
    "\n",
    "- Try the string methods `isalpha()` and `isnumeric()` with a few different strings. You can either change your password variable or use new strings.\n",
    "- Create two empty lists to store the alphabetic characters and numeric characters respectively.\n",
    "- Iterate over the password characters with a `for` loop of your choice and use two `if` statements in the loop to append the alphabetic characters and numeric characters to separate lists.\n",
    "- Compare the contents of the two lists to your password. Are there some characters (unexpectedly) missing from the lists? Try this with a few different passwords.\n",
    "- Count the alphabetic characters and numeric characters by passing the respective lists to the `len()` function. Compute the number of missing characters using the length of the password."
   ]
  },
  {
   "cell_type": "code",
   "execution_count": null,
   "id": "a6eee41c-18db-476b-a951-686cb3025876",
   "metadata": {},
   "outputs": [],
   "source": []
  },
  {
   "cell_type": "markdown",
   "id": "80aadd97-3ce5-4f41-bc71-b75fa5d2858f",
   "metadata": {},
   "source": [
    "## Writing a password policy\n",
    "If you sign up somewhere, your password might be rejected because it does not meet some requirements of the password policy. Typical requirements can be\n",
    "1. The length of the password must be at least 8 characters\n",
    "2. The password must contain at least one alphabetic character\n",
    "3. The password must contain at least one numeric character\n",
    "\n",
    "If any of the requirements are not fulfilled, you will be told to pick a different (and more secure) password. In order to know the changes you have to make to the password, the failed requirements have to be returned to you. E.g. if the length of the password is only 6 characters, the following message should be printed: `The password must be at least 8 characters long.`\n",
    "\n",
    "- Check the password length requirement with the comparison operators that are implemented in Python, such as `==`, `<=`, `>` etc... See this [list](https://www.w3schools.com/python/gloss_python_comparison_operators.asp) for all available comparison operators.\n",
    "- Compute the lengths of the lists of alphabetic characters and numeric characters to check the other two requirements. You can reuse the code from the last exercise.\n",
    "- If all three requirements are fulfilled, print a message stating that the password is secure according to the password policy. You can combine conditions with the keywords `or`/`and`.\n",
    "- Try the password policy check for a few different passwords. Can you find a password that breaks all three rules of the password policy?"
   ]
  },
  {
   "cell_type": "code",
   "execution_count": null,
   "id": "b7613ccb-5051-4d85-b707-dda83298f8b5",
   "metadata": {},
   "outputs": [],
   "source": []
  },
  {
   "cell_type": "markdown",
   "id": "f97950ea-77dc-4f8b-9675-3c7a9c6f4a98",
   "metadata": {},
   "source": [
    "## Identifying special characters\n",
    "The previous categorization only distinguishes between alphabetic characters and numeric characters using the respective string methods `isalpha()` and `isnumeric()`. Unfortunately, checking a string for special characters such as `\"!\"`, `\"?\"` etc... is not implemented as a string method ([source](https://www.w3schools.com/python/python_ref_string.asp)). The solution to this problem is to assume that any character that is neither alphabetic nor numeric must be a special character. In Python you can implement this using an `if`-`elif`-`else` statement. The following code snippet shows how you could check if the password is between 8 and 16 characters long\n",
    "```\n",
    "if len(password) < 8:\n",
    "    print(\"The password is too short\")\n",
    "elif len(password) > 16:\n",
    "    print(\"The password is too long\")\n",
    "else:\n",
    "    print(\"The password has a valid length\")\n",
    "```\n",
    "The keyword `elif` is supposed to be a combination of `else` and `if`. It allows you to check a second condition if the first condition was `False`. In general, you can use any number of `elif` statements, even no `elif` statement at all. If you only want to check one condition, you can omit the `elif` statement and just use `if` and `else`. As you (implicitely) learned in an earlier exercise, the `else` statement is also optional. If you don't need to handle the case where the initial condition is `False`, it is perfectly fine to just use the `if` statement.\n",
    "\n",
    "- Create three empty lists to store the alphabetic, numeric and special characters.\n",
    "- Iterate over the characters in the password and use an `if`-`elif`-`else` statement to sort the characters into the three categories. There should be no character missing from the three lists this time.\n",
    "- Compute the lengths of the three lists and compare them to the length of the password to confirm that no characters are missing this time.\n",
    "- Try a few different passwords with and without characters from the three categories. Your code should handle all cases without any errors."
   ]
  },
  {
   "cell_type": "code",
   "execution_count": null,
   "id": "173cc3d8-1f82-412d-99ca-12f069c5304c",
   "metadata": {},
   "outputs": [],
   "source": []
  },
  {
   "cell_type": "markdown",
   "id": "6d742fef-15bf-4a57-a82b-80e59e6ee524",
   "metadata": {},
   "source": [
    "## EXTRA: Improving the password policy\n",
    "The requirements are now slightly different compared to the earlier exercise, with the goal of increasing the password security even further:\n",
    "1. The length must be between 8 and 16 characters (including 8 and 16)\n",
    "2. The password must contain at least one lower-case character and one upper-case character\n",
    "3. The password must contain at least two numeric characters\n",
    "4. The password must contain at least one special character\n",
    "\n",
    "The rest of the exercise is the same as before. For any requirement that is not fulfilled there should be a message that states the requirement, and if all requirements are fulfilled there should be a message that confirms the security of the password. You can use this [list](https://www.w3schools.com/python/python_ref_string.asp) to find the string methods that you need to solve this exercise.\n",
    "\n",
    "- Implement the improved password policy. Remember that you can combine conditions with the keywords `or`/`and`.\n",
    "- Try a few different passwords to make sure that all the checks are working as intended."
   ]
  },
  {
   "cell_type": "code",
   "execution_count": null,
   "id": "013833ae-59e0-4791-a147-fd32773794f8",
   "metadata": {},
   "outputs": [],
   "source": []
  }
 ],
 "metadata": {
  "kernelspec": {
   "display_name": "konstanz2023",
   "language": "python",
   "name": "konstanz2023"
  },
  "language_info": {
   "codemirror_mode": {
    "name": "ipython",
    "version": 3
   },
   "file_extension": ".py",
   "mimetype": "text/x-python",
   "name": "python",
   "nbconvert_exporter": "python",
   "pygments_lexer": "ipython3",
   "version": "3.11.5"
  }
 },
 "nbformat": 4,
 "nbformat_minor": 5
}
