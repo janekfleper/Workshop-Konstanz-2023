{
 "cells": [
  {
   "cell_type": "markdown",
   "id": "f2aee5d0-8103-4d36-bd89-8c55aee10cf7",
   "metadata": {},
   "source": [
    "## Loading passwords with a function\n",
    "In the last notebook you learned how to open a text file containing passwords and to read it line by line. You stripped the newline character from each line and you stored the lines in the list of passwords, unless the line was empty. Since you are going to reuse this code many times, it is a perfect candidate to be implemented in a function. The function needs to have one (string) parameter which is the name of the file, and the function should return the preprocessed and filtered list of passwords. You can use the following template for the function:\n",
    "```python\n",
    "def load_passwords(path):\n",
    "    # load the passwords here\n",
    "    return passwords\n",
    "```\n",
    "\n",
    "- Write the function that returns a list of passwords from a text file. You can use the template above or write the function from scratch.\n",
    "- What happens if you call the function without any argument `load_passwords()`? The error message will tell you exactly what is wrong with the function call.\n",
    "- Load the passwords from the file `passwords.txt` into a list. How many passwords in the list only contain numeric characters?\n",
    "- EXTRA: Add a boolean parameter called `load_empty` that allows you to optionally load empty passwords. If you call the function with the argument `load_empty=True`, the empty lines should be included in the list of passwords."
   ]
  },
  {
   "cell_type": "code",
   "execution_count": null,
   "id": "761f073f-4520-4571-91da-98cdf606462f",
   "metadata": {},
   "outputs": [],
   "source": []
  },
  {
   "cell_type": "markdown",
   "id": "b246abd6-b5b0-4260-8c30-435a7282d1d2",
   "metadata": {},
   "source": [
    "## Normalized length distribution\n",
    "Instead of the function `np.bincount()`, you can also use the function `np.unique()` to get the length distribution. As the name suggests, the primary usage of the function `np.unique()` is to get the unique values from an array. If you have an array called `lengths`, the function `np.unique(lengths)` will return the unique values in the array `lengths` in ascending order. \n",
    "```python\n",
    "lengths = np.array([2, 1, 4, 1, 1])\n",
    "unique_lengths = np.unique(lengths)\n",
    "```\n",
    "However, if you call the function with the additional argument `return_counts=True`, you will receive two arrays. The first array will contain the unique values and the second array will return the corresponding counts:\n",
    "```python\n",
    "lengths = np.array([2, 1, 4, 1, 1])\n",
    "unique_lengths, length_counts = np.unique(lengths, return_counts=True)\n",
    "```\n",
    "Compared to using `np.bincount()`, the function `np.unique()` can directly give you the x-values and the y-data for the length distribution plot, and you do not have to remove the leading zeros manually.\n",
    "\n",
    "- Reproduce the two examples in the exercise with the predefined array `lengths`.\n",
    "- Create a new array with at least ten integer values in the interval [0, 5]. Write down the unique values and counts that you expect on paper, and then use the function `np.unique()` to see if you were right.\n",
    "- Compute the array of lengths for the list of passwords that you loaded in the previous exercise. Use the function `np.unique()` to get the unique lengths and their counts.\n",
    "- Normalize the array of the length counts and store the result in a new array. If the new array is normalized correctly, the sum of the array will be `1.0`.\n",
    "- Create a bar plot with the normalized length distribution. Label the axes, add a title (that includes the number of passwords) and change any other property to improve the plot."
   ]
  },
  {
   "cell_type": "code",
   "execution_count": null,
   "id": "b88f6061-0b3e-44fb-bba0-c6d1265df65f",
   "metadata": {},
   "outputs": [],
   "source": []
  },
  {
   "cell_type": "markdown",
   "id": "88dc762e-0c51-4ee6-a539-49121587bb5b",
   "metadata": {},
   "source": [
    "## Counting duplicate passwords\n",
    "With an increasing number of passwords, there will also be an increasing number of duplicate passwords. (Actually, there were already a few duplicates in the first 100 passwords. Did you notice any of them?) Getting the unique passwords and their counts should therefore be the first step of the data analysis. This will allow you to get a much better overview of your data without removing any information. Even though the list of passwords is not numerical data, you can still use the function `np.unique()` that was introduced in the previous exercise.\n",
    "\n",
    "- Get the unique passwords and their counts with the function `np.unique()`. How are the unique passwords ordered? If the start of the array is too confusing, look at the last 50 **unique** passwords instead.\n",
    "- Compare the number of **unique** passwords to the number of **all** passwords. How many passwords in the initial dataset were duplicates? What is the maximum number of duplicates of a password?\n",
    "- Use NumPy array filtering to get the passwords with a count greater than 10 (greater than 2 if you are using the smaller dataset). If you are using one of these passwords yourself, you should probably consider changing it. :)\n",
    "- Compute the length of each **unique** password and store the result in a new array. How can you calculate the average length of **all** passwords from the unique arrays?\n",
    "- Plot the counts as a function of the lengths, label the axes and add a title. You can either use the function `plt.scatter()` or you can use `plt.plot()` with a format that only display markers.\n",
    "- Create a second plot and highlight the data points where the count is greater than 10 (greater than 2 if you are using the smaller dataset). You can either use a different color or increase the size of the points. Hint: Call the plot function twice and use NumPy array filtering to select the data. Add labels to the axes, assign labels to the data and add a legend."
   ]
  },
  {
   "cell_type": "code",
   "execution_count": null,
   "id": "47a155f7-11d9-46c1-9d59-3925ee44380d",
   "metadata": {},
   "outputs": [],
   "source": []
  },
  {
   "cell_type": "markdown",
   "id": "d7ac74f5-d701-4b52-84e8-c12b09f6f625",
   "metadata": {},
   "source": [
    "## Sorting the passwords\n",
    "The current order of the unique passwords is somewhat unfortunate to further analyze the data, since there are just some weird passwords beginning with special characters at the start of the array of **unique** passwords. Sorting the arrays by the counts in descending order would make a lot more sense, the most recurring passwords would then come first in the arrays. If you just want to sort the array of counts, you can directly do that with the function `np.sort()`. By default the counts will be sorted in ascending order but you can reverse the array with the indexing `[::-1]`. See the following code snippet to sort an array in descending order:\n",
    "```python\n",
    "some_numbers = np.array([3, 1, 4, 1, 5, 9, 2, 6])\n",
    "np.sort(some_numbers)[::-1]\n",
    "```\n",
    "The problem here is that you will only sort the counts but not the unique passwords and their lengths. Instead of directly sorting the counts, you should therefore use the function `np.argsort()` that will return the indices to sort the counts. See the following code snippet that will have the same result as the example above:\n",
    "```python\n",
    "some_numbers = np.array([3, 1, 4, 1, 5, 9, 2, 6])\n",
    "sorted_indices = np.argsort(some_numbers)[::-1]\n",
    "some_numbers[sorted_indices]\n",
    "```\n",
    "You can then use the array `sorted_indices` to sort the **unique** passwords, the counts and the lengths.\n",
    "\n",
    "- Reproduce the two examples in the exercise with the predefined array `some_numbers`.\n",
    "- Create a new array with at least seven integer values. Write down the results you expect from the functions `np.sort()` and `np.argsort()` on paper, and then execute the functions to see if you were right. You can choose whether you want to sort the array in ascending order or in descending order.\n",
    "- Use the function `np.argsort()` and the reverse index to get the indices that will sort the counts in descending order.\n",
    "- Create three new arrays for the **unique** passwords, the counts and the lengths by applying the sorted indices to the respective arrays.\n",
    "- Look at the first ten passwords and their counts in the sorted arrays. Which passwords did you expect to be in the \"top ten\"?"
   ]
  },
  {
   "cell_type": "code",
   "execution_count": null,
   "id": "004a3d0f-284e-4812-acab-23dd3285ea4d",
   "metadata": {},
   "outputs": [],
   "source": []
  },
  {
   "cell_type": "markdown",
   "id": "4c8528d0-3243-47bf-a12f-8baced20f01b",
   "metadata": {},
   "source": [
    "## Keeping arrays in a data frame\n",
    "The sorting process of the three arrays in the previous section showed you that it is not very convenient to manage multiple NumPy arrays manually. In principle, you could stack the three arrays from the previous exercise to create a two-dimensional NumPy array. The data would then remain aligned if you change the order in any way. However, since one of the arrays stores string data and the other two arrays store integer data, this data is not suitable to be combined in a single array.  \n",
    "\n",
    "The package [pandas](https://pandas.pydata.org/) (imported as `pd` by convention) resolves this issue with a so-called data frame that works very similar to a spreadsheet (from Excel or LibreOffice Calc). A data frame has an index (as an identifier of the rows) and columns to store the data. Each column in the data frame works just like a NumPy array, but the columns are not required to all have the same type. A data frame is therefore suited to store mixed data, such as your passwords, the counts and the lengths. See the following code snippet to create a data frame from the (unsorted) arrays:\n",
    "```python\n",
    "import pandas as pd\n",
    "df = pd.DataFrame(dict(password=unique_passwords, count=password_counts, length=lengths))\n",
    "```\n",
    "The variable name `df` is often used for data frames but you can use any other variable name here. The keys in the dictionary will be the names of the columns and the values are the column data. By default, the index goes from `0` to the `len(unique_passwords) - 1`, just like `range(len(unique_passwords))` or `np.arange(len(unique_passwords))`.  \n",
    "\n",
    "You can directly create a plot from the data frame using the method `df.plot(x, y)`. The method only needs the names of the columns and the data is then taken from the data frame. See the following code snippet to plot the counts as a function of the length:\n",
    "```python\n",
    "df.plot(\"length\", \"count\")\n",
    "```\n",
    "\n",
    "- Import the package `pandas` and rename it to `pd`. Create the data frame with the code snippet above and look at the output of the data frame.\n",
    "- How can you change the column names when creating the data frame? You do not have to find better names for the columns, just try any other names to understand how the renaming works.\n",
    "- Use the data frame method `df.plot()` to display the counts as a function of the length. Look at the docstring of the method to find out which parameter you have to change to get a scatter plot. How can you change the marker and the color?"
   ]
  },
  {
   "cell_type": "code",
   "execution_count": null,
   "id": "2c117b55-8e3f-460b-bc90-32a244f2fcdd",
   "metadata": {},
   "outputs": [],
   "source": []
  }
 ],
 "metadata": {
  "kernelspec": {
   "display_name": "konstanz2023",
   "language": "python",
   "name": "konstanz2023"
  },
  "language_info": {
   "codemirror_mode": {
    "name": "ipython",
    "version": 3
   },
   "file_extension": ".py",
   "mimetype": "text/x-python",
   "name": "python",
   "nbconvert_exporter": "python",
   "pygments_lexer": "ipython3",
   "version": "3.11.5"
  }
 },
 "nbformat": 4,
 "nbformat_minor": 5
}
