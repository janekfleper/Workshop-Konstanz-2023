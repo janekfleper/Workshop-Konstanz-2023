{
 "cells": [
  {
   "cell_type": "markdown",
   "id": "f2aee5d0-8103-4d36-bd89-8c55aee10cf7",
   "metadata": {},
   "source": [
    "## Loading passwords with a function\n",
    "In the last notebook you learned how to open a text file containing passwords and to read it line by line. You stripped the newline character from each line and you stored the lines in the list of passwords, unless the line was empty. Since you are going to reuse this code many times, it is a perfect candidate to be implemented in a function. The function needs to have one (string) parameter which is the name of the file, and the function should return the preprocessed and filtered list of passwords. You can use the following template for the function:\n",
    "```python\n",
    "def load_passwords(path):\n",
    "    # load the passwords here\n",
    "    return passwords\n",
    "```\n",
    "\n",
    "- Write the function that returns a list of passwords from a text file. You can use the template above or write the function from scratch.\n",
    "- What happens if you call the function without any argument `load_passwords()`? The error message will tell you exactly what is wrong with the function call.\n",
    "- Load the passwords from the file `passwords.txt` into a list. How many passwords in the list only contain numeric characters?\n",
    "- EXTRA: Add a boolean parameter called `load_empty` that allows you to optionally load empty passwords. If you call the function with the argument `load_empty=True`, the empty lines should be included in the list of passwords."
   ]
  },
  {
   "cell_type": "code",
   "execution_count": 1,
   "id": "0b2afe08-b3b7-4fe1-820b-758379499249",
   "metadata": {},
   "outputs": [],
   "source": [
    "def load_passwords(path):\n",
    "    # start with an empty list\n",
    "    passwords = []\n",
    "    # open the file\n",
    "    with open(path) as f:\n",
    "        # iterate over the lines in the file\n",
    "        for line in f.readlines():\n",
    "            # remove the newline character\n",
    "            password = line.strip()\n",
    "            # append non-empty passwords to the list\n",
    "            if password:\n",
    "                passwords.append(password)\n",
    "    # return the list of passwords\n",
    "    return passwords"
   ]
  },
  {
   "cell_type": "code",
   "execution_count": 2,
   "id": "2345764b-9931-462c-aafe-988df59877df",
   "metadata": {},
   "outputs": [
    {
     "ename": "TypeError",
     "evalue": "load_passwords() missing 1 required positional argument: 'path'",
     "output_type": "error",
     "traceback": [
      "\u001b[0;31m---------------------------------------------------------------------------\u001b[0m",
      "\u001b[0;31mTypeError\u001b[0m                                 Traceback (most recent call last)",
      "Cell \u001b[0;32mIn[2], line 2\u001b[0m\n\u001b[1;32m      1\u001b[0m \u001b[38;5;66;03m# the error message will state that the required position argument 'path' is missing\u001b[39;00m\n\u001b[0;32m----> 2\u001b[0m \u001b[43mload_passwords\u001b[49m\u001b[43m(\u001b[49m\u001b[43m)\u001b[49m\n",
      "\u001b[0;31mTypeError\u001b[0m: load_passwords() missing 1 required positional argument: 'path'"
     ]
    }
   ],
   "source": [
    "# the error message will state that the required position argument 'path' is missing\n",
    "load_passwords()"
   ]
  },
  {
   "cell_type": "code",
   "execution_count": 3,
   "id": "6b8ad26b-b452-4e4f-b54d-0484619cbe8e",
   "metadata": {},
   "outputs": [
    {
     "data": {
      "text/plain": [
       "8863"
      ]
     },
     "execution_count": 3,
     "metadata": {},
     "output_type": "execute_result"
    }
   ],
   "source": [
    "# use the function for the text file with 9000 passwords\n",
    "passwords = load_passwords(\"passwords.txt\")\n",
    "len(passwords)"
   ]
  },
  {
   "cell_type": "code",
   "execution_count": 4,
   "id": "771d5d7d-359a-42d3-a418-9aea1f3b06a0",
   "metadata": {},
   "outputs": [
    {
     "data": {
      "text/plain": [
       "1263"
      ]
     },
     "execution_count": 4,
     "metadata": {},
     "output_type": "execute_result"
    }
   ],
   "source": [
    "# regular for-loop to get the numeric passwords\n",
    "numeric_passwords = []\n",
    "for password in passwords:\n",
    "    if password.isnumeric():\n",
    "        numeric_passwords.append(password)\n",
    "len(numeric_passwords)"
   ]
  },
  {
   "cell_type": "code",
   "execution_count": 5,
   "id": "69c44f5c-b47c-408a-b850-17b623e5108c",
   "metadata": {},
   "outputs": [
    {
     "data": {
      "text/plain": [
       "1263"
      ]
     },
     "execution_count": 5,
     "metadata": {},
     "output_type": "execute_result"
    }
   ],
   "source": [
    "# list comprehension to get the numeric passwords\n",
    "numeric_passwords = [password for password in passwords if password.isnumeric()]\n",
    "len(numeric_passwords)"
   ]
  },
  {
   "cell_type": "code",
   "execution_count": 6,
   "id": "05c23eed-5c5d-4017-bb23-6e383ca1b8d5",
   "metadata": {},
   "outputs": [],
   "source": [
    "# add a second parameter 'load_empty'\n",
    "def load_passwords_improved(path, load_empty):\n",
    "    passwords = []\n",
    "    with open(path) as f:\n",
    "        for line in f.readlines():\n",
    "            password = line.strip()\n",
    "            # append the password if it is True or the parameter 'load_empty' is True\n",
    "            if password or load_empty:\n",
    "                passwords.append(password)\n",
    "    return passwords"
   ]
  },
  {
   "cell_type": "code",
   "execution_count": 7,
   "id": "4be3c5e9-ac11-463b-921d-6025c2ce7f0c",
   "metadata": {},
   "outputs": [
    {
     "data": {
      "text/plain": [
       "9000"
      ]
     },
     "execution_count": 7,
     "metadata": {},
     "output_type": "execute_result"
    }
   ],
   "source": [
    "# the list of all passwords will have a length of 9000\n",
    "all_passwords = load_passwords_improved(\"passwords.txt\", True)\n",
    "len(all_passwords)"
   ]
  },
  {
   "cell_type": "code",
   "execution_count": null,
   "id": "761f073f-4520-4571-91da-98cdf606462f",
   "metadata": {},
   "outputs": [],
   "source": []
  },
  {
   "cell_type": "markdown",
   "id": "b246abd6-b5b0-4260-8c30-435a7282d1d2",
   "metadata": {},
   "source": [
    "## Normalized length distribution\n",
    "Instead of the function `np.bincount()`, you can also use the function `np.unique()` to get the length distribution. As the name suggests, the primary usage of the function `np.unique()` is to get the unique values from an array. If you have an array called `lengths`, the function `np.unique(lengths)` will return the unique values in the array `lengths` in ascending order. \n",
    "```python\n",
    "lengths = np.array([2, 1, 4, 1, 1])\n",
    "unique_lengths = np.unique(lengths)\n",
    "```\n",
    "However, if you call the function with the additional argument `return_counts=True`, you will receive two arrays. The first array will contain the unique values and the second array will return the corresponding counts:\n",
    "```python\n",
    "lengths = np.array([2, 1, 4, 1, 1])\n",
    "unique_lengths, length_counts = np.unique(lengths, return_counts=True)\n",
    "```\n",
    "Compared to using `np.bincount()`, the function `np.unique()` can directly give you the x-values and the y-data for the length distribution plot, and you do not have to remove the leading zeros manually.\n",
    "\n",
    "- Reproduce the two examples in the exercise with the predefined array `lengths`.\n",
    "- Create a new array with at least ten integer values in the interval [0, 5]. Write down the unique values and counts that you expect on paper, and then use the function `np.unique()` to see if you were right.\n",
    "- Compute the array of lengths for the list of passwords that you loaded in the previous exercise. Use the function `np.unique()` to get the unique lengths and their counts.\n",
    "- Normalize the array of the length counts and store the result in a new array. If the new array is normalized correctly, the sum of the array will be `1.0`.\n",
    "- Create a bar plot with the normalized length distribution. Label the axes, add a title (that includes the number of passwords) and change any other property to improve the plot."
   ]
  },
  {
   "cell_type": "code",
   "execution_count": 8,
   "id": "56d77cf7-d896-4837-ba4e-f3d52e8aea4e",
   "metadata": {},
   "outputs": [],
   "source": [
    "# import the packages numpy and matplotlib.pyplot\n",
    "import numpy as np\n",
    "import matplotlib.pyplot as plt"
   ]
  },
  {
   "cell_type": "code",
   "execution_count": 9,
   "id": "3826e1af-e5f5-4146-8b43-863c61f8e340",
   "metadata": {},
   "outputs": [
    {
     "data": {
      "text/plain": [
       "array([1, 2, 4])"
      ]
     },
     "execution_count": 9,
     "metadata": {},
     "output_type": "execute_result"
    }
   ],
   "source": [
    "# the unique lengths will be sorted in ascending order\n",
    "lengths = np.array([2, 1, 4, 1, 1])\n",
    "unique_lengths = np.unique(lengths)\n",
    "unique_lengths"
   ]
  },
  {
   "cell_type": "code",
   "execution_count": 10,
   "id": "8e6213f3-67f6-4c8c-98dc-1c4c0168734b",
   "metadata": {},
   "outputs": [
    {
     "data": {
      "text/plain": [
       "(array([1, 2, 4]), array([3, 1, 1]))"
      ]
     },
     "execution_count": 10,
     "metadata": {},
     "output_type": "execute_result"
    }
   ],
   "source": [
    "# the counts are \"aligned\" with the unique lengths\n",
    "lengths = np.array([2, 1, 4, 1, 1])\n",
    "unique_lengths, length_counts = np.unique(lengths, return_counts=True)\n",
    "unique_lengths, length_counts"
   ]
  },
  {
   "cell_type": "code",
   "execution_count": 11,
   "id": "20ceb3e9-55b8-4005-b641-e744508f1605",
   "metadata": {},
   "outputs": [
    {
     "data": {
      "text/plain": [
       "(array([0, 1, 2, 3, 5]), array([1, 5, 3, 2, 2]))"
      ]
     },
     "execution_count": 11,
     "metadata": {},
     "output_type": "execute_result"
    }
   ],
   "source": [
    "# create your own array with length data from 0 to 5\n",
    "lengths = np.array([0, 1, 1, 1, 5, 3, 2, 1, 2, 5, 3, 2, 1])\n",
    "unique_lengths, length_counts = np.unique(lengths, return_counts=True)\n",
    "unique_lengths, length_counts"
   ]
  },
  {
   "cell_type": "code",
   "execution_count": 12,
   "id": "95416834-0853-494a-b334-b914d40ac97f",
   "metadata": {},
   "outputs": [],
   "source": [
    "# compute the lengths of the password dataset\n",
    "lengths = np.array([len(password) for password in passwords])\n",
    "unique_lengths, length_counts = np.unique(lengths, return_counts=True)"
   ]
  },
  {
   "cell_type": "code",
   "execution_count": 13,
   "id": "9a1d2246-84c7-497a-9b39-6b4c304a9f30",
   "metadata": {},
   "outputs": [],
   "source": [
    "# the sum of length_counts is the same as len(passwords) or len(lengths)\n",
    "normalized_length_counts = length_counts / np.sum(length_counts)"
   ]
  },
  {
   "cell_type": "code",
   "execution_count": 14,
   "id": "c90937ea-0b93-40ea-8929-a3edcd8d2d08",
   "metadata": {},
   "outputs": [
    {
     "data": {
      "text/plain": [
       "Text(0.5, 1.0, 'Normalized length distribution of 8863 passwords')"
      ]
     },
     "execution_count": 14,
     "metadata": {},
     "output_type": "execute_result"
    },
    {
     "data": {
      "image/png": "[encoded data removed]",
      "text/plain": [
       "<Figure size 640x480 with 1 Axes>"
      ]
     },
     "metadata": {},
     "output_type": "display_data"
    }
   ],
   "source": [
    "# reduce the bar width a bit since the bars are almost \"touching\" with the default width\n",
    "plt.bar(unique_lengths, normalized_length_counts, width=0.6, edgecolor=\"k\")\n",
    "plt.xlabel(\"Password length\")\n",
    "plt.ylabel(\"Normalized counts\")\n",
    "plt.title(f\"Normalized length distribution of {len(passwords)} passwords\")"
   ]
  },
  {
   "cell_type": "code",
   "execution_count": null,
   "id": "b88f6061-0b3e-44fb-bba0-c6d1265df65f",
   "metadata": {},
   "outputs": [],
   "source": []
  },
  {
   "cell_type": "markdown",
   "id": "88dc762e-0c51-4ee6-a539-49121587bb5b",
   "metadata": {},
   "source": [
    "## Counting duplicate passwords\n",
    "With an increasing number of passwords, there will also be an increasing number of duplicate passwords. (Actually, there were already a few duplicates in the first 100 passwords. Did you notice any of them?) Getting the unique passwords and their counts should therefore be the first step of the data analysis. This will allow you to get a much better overview of your data without removing any information. Even though the list of passwords is not numerical data, you can still use the function `np.unique()` that was introduced in the previous exercise.\n",
    "\n",
    "- Get the unique passwords and their counts with the function `np.unique()`. How are the unique passwords ordered? If the start of the array is too confusing, look at the last 50 **unique** passwords instead.\n",
    "- Compare the number of **unique** passwords to the number of **all** passwords. How many passwords in the initial dataset were duplicates? What is the maximum number of duplicates of a password?\n",
    "- Use NumPy array filtering to get the passwords with a count greater than 10 (greater than 2 if you are using the smaller dataset). If you are using one of these passwords yourself, you should probably consider changing it. :)\n",
    "- Compute the length of each **unique** password and store the result in a new array. How can you calculate the average length of **all** passwords from the unique arrays?\n",
    "- Plot the counts as a function of the lengths, label the axes and add a title. You can either use the function `plt.scatter()` or you can use `plt.plot()` with a format that only display markers.\n",
    "- Create a second plot and highlight the data points where the count is greater than 10 (greater than 2 if you are using the smaller dataset). You can either use a different color or increase the size of the points. Hint: Call the plot function twice and use NumPy array filtering to select the data. Add labels to the axes, assign labels to the data and add a legend."
   ]
  },
  {
   "cell_type": "code",
   "execution_count": 15,
   "id": "fc7a7324-3c68-4ebd-a7cd-4a7f2e389504",
   "metadata": {},
   "outputs": [
    {
     "data": {
      "text/plain": [
       "(array(['!!!voruch', '!@#$%^star', '&#33;@#&#036;%^QWERTY', ...,\n",
       "        'zzxxaass', 'zzxxcc', 'zzzzzzz'], dtype='<U32'),\n",
       " array([2, 1, 1, ..., 1, 1, 1]))"
      ]
     },
     "execution_count": 15,
     "metadata": {},
     "output_type": "execute_result"
    }
   ],
   "source": [
    "# use the function np.unique() with the parameter return_counts=True to get the unique passwords and their counts\n",
    "unique_passwords, password_counts = np.unique(passwords, return_counts=True)\n",
    "unique_passwords, password_counts"
   ]
  },
  {
   "cell_type": "code",
   "execution_count": 16,
   "id": "b98fa690-da2a-482d-8685-7eb7786ee228",
   "metadata": {},
   "outputs": [
    {
     "data": {
      "text/plain": [
       "array(['zeHzwPuz6a', 'zefjo111', 'zehzwpuz6a', 'zenghui2', 'zenit-talnah',\n",
       "       'zenit2009', 'zet1108', 'zevs_ev', 'zewapido', 'zezina80',\n",
       "       'zezoxuba', 'zgd-', 'zgd-11', 'zink2008', 'zink2009', 'zitipemy',\n",
       "       'zivosely', 'zjxtymnt', 'zjxtymnt,zk.,k.', 'zk.:', 'zllf',\n",
       "       'zobokewa', 'zohegina', 'zolotarev08', 'zoloto12', 'zone12',\n",
       "       'zorro2009', 'zoxalyjy', 'zsp9527412', 'zuewamarija', 'zujerujy',\n",
       "       'zukizuki', 'zum-zum.ru', 'zupusyqe', 'zv0n04ek', 'zvezdopad',\n",
       "       'zx11081991xz', 'zxcv123', 'zxcvbnm', 'zxcvbnm:', 'zxdf1324',\n",
       "       'zyaqhlmw', 'zyhozazy', 'zyjibysi', 'zyx123456', 'zzgtbz',\n",
       "       'zztop1', 'zzxxaass', 'zzxxcc', 'zzzzzzz'], dtype='<U32')"
      ]
     },
     "execution_count": 16,
     "metadata": {},
     "output_type": "execute_result"
    }
   ],
   "source": [
    "# the passwords are ordered alphabetically, if the first character is equal, they are ordered by the second character etc...\n",
    "unique_passwords[-50:]"
   ]
  },
  {
   "cell_type": "code",
   "execution_count": 17,
   "id": "6ad1bc56-47ad-402e-bb02-182f9ab5b1cd",
   "metadata": {},
   "outputs": [
    {
     "data": {
      "text/plain": [
       "array(['!!!voruch', '!@#$%^star', '&#33;@#&#036;%^QWERTY',\n",
       "       '&#33;tktyf&#33;', '(pomo4ka)', '(pomo4ka</', '**', '*******',\n",
       "       '**********', '*rhfcfdbwf*', ',ehrjdcrfzvfhbzktjybljdyf', '--',\n",
       "       '-- zanoza', '-1111199', '-11111999', '-111999', '-331279',\n",
       "       '-4121113', '-djuz', '.', '.1234.', '.KF2440491', '.MORE.',\n",
       "       '.andrei', '.hxtr1981', '.kbxrf', '.kbz1177', '.princessl',\n",
       "       '000---11', '00000', '000000', '00000000', '000000000', '000459',\n",
       "       '000666', '0009124560', '000aaaq', '000rtye', '001110', '00174520',\n",
       "       '002002002', '003145', '01.07.2002', '010101', '01011978',\n",
       "       '01012011', '01021985', '0102198501021985', '01041994', '010564m'],\n",
       "      dtype='<U32')"
      ]
     },
     "execution_count": 17,
     "metadata": {},
     "output_type": "execute_result"
    }
   ],
   "source": [
    "# special characters also have an \"alphabetic value\", e.g. \"!\" < \"&\"  etc...\n",
    "unique_passwords[:50]"
   ]
  },
  {
   "cell_type": "code",
   "execution_count": 18,
   "id": "06715468-470b-4ee5-a15f-43c46c20d477",
   "metadata": {},
   "outputs": [
    {
     "data": {
      "text/plain": [
       "(8863, (5707,))"
      ]
     },
     "execution_count": 18,
     "metadata": {},
     "output_type": "execute_result"
    }
   ],
   "source": [
    "# compare the length of the initial password list to the shape of the unique passwords\n",
    "len(passwords), unique_passwords.shape"
   ]
  },
  {
   "cell_type": "code",
   "execution_count": 19,
   "id": "b97db256-a23d-46e6-9933-6c7868cbed39",
   "metadata": {},
   "outputs": [
    {
     "data": {
      "text/plain": [
       "3156"
      ]
     },
     "execution_count": 19,
     "metadata": {},
     "output_type": "execute_result"
    }
   ],
   "source": [
    "# their difference will be the number of duplicate passwords\n",
    "len(passwords) - unique_passwords.shape[0]"
   ]
  },
  {
   "cell_type": "code",
   "execution_count": 20,
   "id": "0aa2c59c-47ea-4f1f-a49b-714bd240a71e",
   "metadata": {},
   "outputs": [
    {
     "data": {
      "text/plain": [
       "71"
      ]
     },
     "execution_count": 20,
     "metadata": {},
     "output_type": "execute_result"
    }
   ],
   "source": [
    "# get the highest value from the counts array\n",
    "np.max(password_counts)"
   ]
  },
  {
   "cell_type": "code",
   "execution_count": 21,
   "id": "692d970f-8162-4a25-b650-474c747e27e6",
   "metadata": {},
   "outputs": [
    {
     "data": {
      "text/plain": [
       "array(['11', '111111', '123123', '123456', '1234567', '123456789',\n",
       "       'passer2009', 'passer2010', 'q492578', 'qwerty', 'ronaldo'],\n",
       "      dtype='<U32')"
      ]
     },
     "execution_count": 21,
     "metadata": {},
     "output_type": "execute_result"
    }
   ],
   "source": [
    "# use the condition password_counts > 10 to get the boolean array and use it as an index of the unique passwords\n",
    "unique_passwords[password_counts > 10]"
   ]
  },
  {
   "cell_type": "code",
   "execution_count": 22,
   "id": "8384353e-c618-4f4c-b912-f72e0489b761",
   "metadata": {},
   "outputs": [
    {
     "data": {
      "text/plain": [
       "array([ 9, 10, 21, ...,  8,  6,  7])"
      ]
     },
     "execution_count": 22,
     "metadata": {},
     "output_type": "execute_result"
    }
   ],
   "source": [
    "# get the array of lengths from the unique passwords\n",
    "lengths = np.array([len(password) for password in unique_passwords])\n",
    "lengths"
   ]
  },
  {
   "cell_type": "code",
   "execution_count": 23,
   "id": "420ed15e-e161-43f9-a39b-879e042d97a7",
   "metadata": {},
   "outputs": [
    {
     "data": {
      "text/plain": [
       "9.499605099853323"
      ]
     },
     "execution_count": 23,
     "metadata": {},
     "output_type": "execute_result"
    }
   ],
   "source": [
    "# option 1: sum over the product of the lengths and the counts and divide by the number of all passwords\n",
    "np.sum(lengths * password_counts) / len(passwords)"
   ]
  },
  {
   "cell_type": "code",
   "execution_count": 24,
   "id": "73fb4032-3f56-4f03-9d23-807b1fbae0df",
   "metadata": {},
   "outputs": [
    {
     "data": {
      "text/plain": [
       "9.499605099853323"
      ]
     },
     "execution_count": 24,
     "metadata": {},
     "output_type": "execute_result"
    }
   ],
   "source": [
    "# option 2: sum over the product of the lengths and the counts and divide by the sum of the counts\n",
    "np.sum(lengths * password_counts) / np.sum(password_counts)"
   ]
  },
  {
   "cell_type": "code",
   "execution_count": 25,
   "id": "b3b22a4e-559e-485d-a2f4-df5b8e16a509",
   "metadata": {},
   "outputs": [
    {
     "data": {
      "text/plain": [
       "9.499605099853323"
      ]
     },
     "execution_count": 25,
     "metadata": {},
     "output_type": "execute_result"
    }
   ],
   "source": [
    "# option 3: use the function np.average() with the password_counts as the weights\n",
    "np.average(lengths, weights=password_counts)"
   ]
  },
  {
   "cell_type": "code",
   "execution_count": 26,
   "id": "b086f765-6422-43be-af1c-0c1bd15a2a8c",
   "metadata": {},
   "outputs": [
    {
     "data": {
      "text/plain": [
       "Text(0.5, 1.0, 'Duplicate counts of 8863 passwords')"
      ]
     },
     "execution_count": 26,
     "metadata": {},
     "output_type": "execute_result"
    },
    {
     "data": {
      "image/png": "[encoded data removed]",
      "text/plain": [
       "<Figure size 640x480 with 1 Axes>"
      ]
     },
     "metadata": {},
     "output_type": "display_data"
    }
   ],
   "source": [
    "# display the counts as a function of the length with a scatter plot\n",
    "plt.scatter(lengths, password_counts)\n",
    "plt.xlabel(\"Password length\")\n",
    "plt.ylabel(\"Counts\")\n",
    "plt.title(f\"Duplicate counts of {len(passwords)} passwords\")"
   ]
  },
  {
   "cell_type": "code",
   "execution_count": 27,
   "id": "0b9aab02-7acd-413f-9420-c6cf2aa6710f",
   "metadata": {},
   "outputs": [
    {
     "data": {
      "text/plain": [
       "<matplotlib.legend.Legend at 0x7ff863fa9b50>"
      ]
     },
     "execution_count": 27,
     "metadata": {},
     "output_type": "execute_result"
    },
    {
     "data": {
      "image/png": "[encoded data removed]",
      "text/plain": [
       "<Figure size 640x480 with 1 Axes>"
      ]
     },
     "metadata": {},
     "output_type": "display_data"
    }
   ],
   "source": [
    "# separate the data with the condition counts > 10 and call the scatter plot twice\n",
    "plt.scatter(lengths[password_counts <= 10], password_counts[password_counts <= 10], label=\"counts <= 10\")\n",
    "plt.scatter(lengths[password_counts > 10], password_counts[password_counts > 10], label=\"counts > 10\")\n",
    "plt.xlabel(\"Password length\")\n",
    "plt.ylabel(\"Counts\")\n",
    "plt.title(f\"Duplicate counts of {len(passwords)} passwords\")\n",
    "plt.legend()"
   ]
  },
  {
   "cell_type": "code",
   "execution_count": null,
   "id": "47a155f7-11d9-46c1-9d59-3925ee44380d",
   "metadata": {},
   "outputs": [],
   "source": []
  },
  {
   "cell_type": "markdown",
   "id": "d7ac74f5-d701-4b52-84e8-c12b09f6f625",
   "metadata": {},
   "source": [
    "## Sorting the passwords\n",
    "The current order of the unique passwords is somewhat unfortunate to further analyze the data, since there are just some weird passwords beginning with special characters at the start of the array of **unique** passwords. Sorting the arrays by the counts in descending order would make a lot more sense, the most recurring passwords would then come first in the arrays. If you just want to sort the array of counts, you can directly do that with the function `np.sort()`. By default the counts will be sorted in ascending order but you can reverse the array with the indexing `[::-1]`. See the following code snippet to sort an array in descending order:\n",
    "```python\n",
    "some_numbers = np.array([3, 1, 4, 1, 5, 9, 2, 6])\n",
    "np.sort(some_numbers)[::-1]\n",
    "```\n",
    "The problem here is that you will only sort the counts but not the unique passwords and their lengths. Instead of directly sorting the counts, you should therefore use the function `np.argsort()` that will return the indices to sort the counts. See the following code snippet that will have the same result as the example above:\n",
    "```python\n",
    "some_numbers = np.array([3, 1, 4, 1, 5, 9, 2, 6])\n",
    "sorted_indices = np.argsort(some_numbers)[::-1]\n",
    "some_numbers[sorted_indices]\n",
    "```\n",
    "You can then use the array `sorted_indices` to sort the **unique** passwords, the counts and the lengths.\n",
    "\n",
    "- Reproduce the two examples in the exercise with the predefined array `some_numbers`.\n",
    "- Create a new array with at least seven integer values. Write down the results you expect from the functions `np.sort()` and `np.argsort()` on paper, and then execute the functions to see if you were right. You can choose whether you want to sort the array in ascending order or in descending order.\n",
    "- Use the function `np.argsort()` and the reverse index to get the indices that will sort the counts in descending order.\n",
    "- Create three new arrays for the **unique** passwords, the counts and the lengths by applying the sorted indices to the respective arrays.\n",
    "- Look at the first ten passwords and their counts in the sorted arrays. Which passwords did you expect to be in the \"top ten\"?"
   ]
  },
  {
   "cell_type": "code",
   "execution_count": 28,
   "id": "98c1bf41-094f-48d0-b501-a4376392826b",
   "metadata": {},
   "outputs": [
    {
     "data": {
      "text/plain": [
       "array([9, 6, 5, 4, 3, 2, 1, 1])"
      ]
     },
     "execution_count": 28,
     "metadata": {},
     "output_type": "execute_result"
    }
   ],
   "source": [
    "# directly sort the numbers in descending order\n",
    "some_numbers = np.array([3, 1, 4, 1, 5, 9, 2, 6])\n",
    "np.sort(some_numbers)[::-1]"
   ]
  },
  {
   "cell_type": "code",
   "execution_count": 29,
   "id": "f31d4f5a-dfd1-4d8c-b767-06ee40680c5a",
   "metadata": {},
   "outputs": [
    {
     "data": {
      "text/plain": [
       "(array([5, 7, 4, 2, 0, 6, 3, 1]), array([9, 6, 5, 4, 3, 2, 1, 1]))"
      ]
     },
     "execution_count": 29,
     "metadata": {},
     "output_type": "execute_result"
    }
   ],
   "source": [
    "# use the sorted indices to sort the numbers in descending order\n",
    "some_numbers = np.array([3, 1, 4, 1, 5, 9, 2, 6])\n",
    "sorted_indices = np.argsort(some_numbers)[::-1]\n",
    "sorted_indices, some_numbers[sorted_indices]"
   ]
  },
  {
   "cell_type": "code",
   "execution_count": 30,
   "id": "dce3399f-3484-4c88-b4a2-8247b0adaf2b",
   "metadata": {},
   "outputs": [
    {
     "data": {
      "text/plain": [
       "array([1, 2, 3, 4, 4, 6, 8])"
      ]
     },
     "execution_count": 30,
     "metadata": {},
     "output_type": "execute_result"
    }
   ],
   "source": [
    "# directly sort the numbers in ascending order \n",
    "more_numbers = np.array([8, 3, 1, 4, 4, 6, 2])\n",
    "np.sort(more_numbers)"
   ]
  },
  {
   "cell_type": "code",
   "execution_count": 31,
   "id": "cddc01d3-9e3d-4c13-a2de-3bf9987524c2",
   "metadata": {},
   "outputs": [
    {
     "data": {
      "text/plain": [
       "(array([2, 6, 1, 3, 4, 5, 0]), array([1, 2, 3, 4, 4, 6, 8]))"
      ]
     },
     "execution_count": 31,
     "metadata": {},
     "output_type": "execute_result"
    }
   ],
   "source": [
    "# use the sorted indices to sort the numbers in ascending order\n",
    "more_numbers = np.array([8, 3, 1, 4, 4, 6, 2])\n",
    "sorted_indices = np.argsort(more_numbers)\n",
    "sorted_indices, more_numbers[sorted_indices]"
   ]
  },
  {
   "cell_type": "code",
   "execution_count": 32,
   "id": "7c854256-9342-4585-aaf2-657de2e35df5",
   "metadata": {},
   "outputs": [],
   "source": [
    "# use the function np.argsort() on the counts and reverse the array to get the descending order\n",
    "sorted_indices = np.argsort(password_counts)[::-1]"
   ]
  },
  {
   "cell_type": "code",
   "execution_count": 33,
   "id": "8a5d4ecd-774e-442a-a940-d5ce8ba67e69",
   "metadata": {},
   "outputs": [],
   "source": [
    "# use the sorted indices on all three arrays to apply the sort\n",
    "sorted_passwords = unique_passwords[sorted_indices]\n",
    "sorted_counts = password_counts[sorted_indices]\n",
    "sorted_lengths = lengths[sorted_indices]"
   ]
  },
  {
   "cell_type": "code",
   "execution_count": 34,
   "id": "ff56b347-b80e-4d67-9f52-9586e940d8d2",
   "metadata": {},
   "outputs": [
    {
     "data": {
      "text/plain": [
       "array(['passer2010', 'passer2009', '123456', '111111', '123456789',\n",
       "       'qwerty', '11', '1234567', 'ronaldo', '123123'], dtype='<U32')"
      ]
     },
     "execution_count": 34,
     "metadata": {},
     "output_type": "execute_result"
    }
   ],
   "source": [
    "# the first two passwords and \"ronaldo\" are rather surprising, they are probably only in the \"top ten\" due to the small sample size\n",
    "# the other passwords are reasonable candidates for the most regular passwords\n",
    "sorted_passwords[:10]"
   ]
  },
  {
   "cell_type": "code",
   "execution_count": null,
   "id": "004a3d0f-284e-4812-acab-23dd3285ea4d",
   "metadata": {},
   "outputs": [],
   "source": []
  },
  {
   "cell_type": "markdown",
   "id": "4c8528d0-3243-47bf-a12f-8baced20f01b",
   "metadata": {},
   "source": [
    "## Keeping arrays in a data frame\n",
    "The sorting process of the three arrays in the previous section showed you that it is not very convenient to manage multiple NumPy arrays manually. In principle, you could stack the three arrays from the previous exercise to create a two-dimensional NumPy array. The data would then remain aligned if you change the order in any way. However, since one of the arrays stores string data and the other two arrays store integer data, this data is not suitable to be combined in a single array.  \n",
    "\n",
    "The package [pandas](https://pandas.pydata.org/) (imported as `pd` by convention) resolves this issue with a so-called data frame that works very similar to a spreadsheet (from Excel or LibreOffice Calc). A data frame has an index (as an identifier of the rows) and columns to store the data. Each column in the data frame works just like a NumPy array, but the columns are not required to all have the same type. A data frame is therefore suited to store mixed data, such as your passwords, the counts and the lengths. See the following code snippet to create a data frame from the (unsorted) arrays:\n",
    "```python\n",
    "import pandas as pd\n",
    "df = pd.DataFrame(dict(password=unique_passwords, count=password_counts, length=lengths))\n",
    "```\n",
    "The variable name `df` is often used for data frames but you can use any other variable name here. The keys in the dictionary will be the names of the columns and the values are the column data. By default, the index goes from `0` to the `len(unique_passwords) - 1`, just like `range(len(unique_passwords))` or `np.arange(len(unique_passwords))`.  \n",
    "\n",
    "You can directly create a plot from the data frame using the method `df.plot(x, y)`. The method only needs the names of the columns and the data is then taken from the data frame. See the following code snippet to plot the counts as a function of the length:\n",
    "```python\n",
    "df.plot(\"length\", \"count\")\n",
    "```\n",
    "\n",
    "- Import the package `pandas` and rename it to `pd`. Create the data frame with the code snippet above and look at the output of the data frame.\n",
    "- How can you change the column names when creating the data frame? You do not have to find better names for the columns, just try any other names to understand how the renaming works.\n",
    "- Use the data frame method `df.plot()` to display the counts as a function of the length. Look at the docstring of the method to find out which parameter you have to change to get a scatter plot. How can you change the marker and the color?"
   ]
  },
  {
   "cell_type": "code",
   "execution_count": 35,
   "id": "98a50e59-6af1-4a3a-9a04-e8ecfa1b61d7",
   "metadata": {},
   "outputs": [],
   "source": [
    "# import the pandas package\n",
    "import pandas as pd"
   ]
  },
  {
   "cell_type": "code",
   "execution_count": 36,
   "id": "0e724ef7-53c3-4acb-89ea-ba52585d9a8c",
   "metadata": {},
   "outputs": [],
   "source": [
    "# create the data frame\n",
    "df = pd.DataFrame(dict(password=unique_passwords, count=password_counts, length=lengths))"
   ]
  },
  {
   "cell_type": "code",
   "execution_count": 37,
   "id": "a8b6b6e6-708c-41a2-8a07-6a7726acc571",
   "metadata": {},
   "outputs": [
    {
     "data": {
      "text/html": [
       "<div>\n",
       "<style scoped>\n",
       "    .dataframe tbody tr th:only-of-type {\n",
       "        vertical-align: middle;\n",
       "    }\n",
       "\n",
       "    .dataframe tbody tr th {\n",
       "        vertical-align: top;\n",
       "    }\n",
       "\n",
       "    .dataframe thead th {\n",
       "        text-align: right;\n",
       "    }\n",
       "</style>\n",
       "<table border=\"1\" class=\"dataframe\">\n",
       "  <thead>\n",
       "    <tr style=\"text-align: right;\">\n",
       "      <th></th>\n",
       "      <th>password</th>\n",
       "      <th>count</th>\n",
       "      <th>length</th>\n",
       "    </tr>\n",
       "  </thead>\n",
       "  <tbody>\n",
       "    <tr>\n",
       "      <th>0</th>\n",
       "      <td>!!!voruch</td>\n",
       "      <td>2</td>\n",
       "      <td>9</td>\n",
       "    </tr>\n",
       "    <tr>\n",
       "      <th>1</th>\n",
       "      <td>!@#$%^star</td>\n",
       "      <td>1</td>\n",
       "      <td>10</td>\n",
       "    </tr>\n",
       "    <tr>\n",
       "      <th>2</th>\n",
       "      <td>&amp;#33;@#&amp;#036;%^QWERTY</td>\n",
       "      <td>1</td>\n",
       "      <td>21</td>\n",
       "    </tr>\n",
       "    <tr>\n",
       "      <th>3</th>\n",
       "      <td>&amp;#33;tktyf&amp;#33;</td>\n",
       "      <td>1</td>\n",
       "      <td>15</td>\n",
       "    </tr>\n",
       "    <tr>\n",
       "      <th>4</th>\n",
       "      <td>(pomo4ka)</td>\n",
       "      <td>1</td>\n",
       "      <td>9</td>\n",
       "    </tr>\n",
       "    <tr>\n",
       "      <th>...</th>\n",
       "      <td>...</td>\n",
       "      <td>...</td>\n",
       "      <td>...</td>\n",
       "    </tr>\n",
       "    <tr>\n",
       "      <th>5702</th>\n",
       "      <td>zzgtbz</td>\n",
       "      <td>1</td>\n",
       "      <td>6</td>\n",
       "    </tr>\n",
       "    <tr>\n",
       "      <th>5703</th>\n",
       "      <td>zztop1</td>\n",
       "      <td>1</td>\n",
       "      <td>6</td>\n",
       "    </tr>\n",
       "    <tr>\n",
       "      <th>5704</th>\n",
       "      <td>zzxxaass</td>\n",
       "      <td>1</td>\n",
       "      <td>8</td>\n",
       "    </tr>\n",
       "    <tr>\n",
       "      <th>5705</th>\n",
       "      <td>zzxxcc</td>\n",
       "      <td>1</td>\n",
       "      <td>6</td>\n",
       "    </tr>\n",
       "    <tr>\n",
       "      <th>5706</th>\n",
       "      <td>zzzzzzz</td>\n",
       "      <td>1</td>\n",
       "      <td>7</td>\n",
       "    </tr>\n",
       "  </tbody>\n",
       "</table>\n",
       "<p>5707 rows × 3 columns</p>\n",
       "</div>"
      ],
      "text/plain": [
       "                   password  count  length\n",
       "0                 !!!voruch      2       9\n",
       "1                !@#$%^star      1      10\n",
       "2     &#33;@#&#036;%^QWERTY      1      21\n",
       "3           &#33;tktyf&#33;      1      15\n",
       "4                 (pomo4ka)      1       9\n",
       "...                     ...    ...     ...\n",
       "5702                 zzgtbz      1       6\n",
       "5703                 zztop1      1       6\n",
       "5704               zzxxaass      1       8\n",
       "5705                 zzxxcc      1       6\n",
       "5706                zzzzzzz      1       7\n",
       "\n",
       "[5707 rows x 3 columns]"
      ]
     },
     "execution_count": 37,
     "metadata": {},
     "output_type": "execute_result"
    }
   ],
   "source": [
    "df"
   ]
  },
  {
   "cell_type": "code",
   "execution_count": 38,
   "id": "c24b6372-3758-4cee-a2af-46644acdac51",
   "metadata": {},
   "outputs": [
    {
     "data": {
      "text/html": [
       "<div>\n",
       "<style scoped>\n",
       "    .dataframe tbody tr th:only-of-type {\n",
       "        vertical-align: middle;\n",
       "    }\n",
       "\n",
       "    .dataframe tbody tr th {\n",
       "        vertical-align: top;\n",
       "    }\n",
       "\n",
       "    .dataframe thead th {\n",
       "        text-align: right;\n",
       "    }\n",
       "</style>\n",
       "<table border=\"1\" class=\"dataframe\">\n",
       "  <thead>\n",
       "    <tr style=\"text-align: right;\">\n",
       "      <th></th>\n",
       "      <th>passwords</th>\n",
       "      <th>counts</th>\n",
       "      <th>lengths</th>\n",
       "    </tr>\n",
       "  </thead>\n",
       "  <tbody>\n",
       "    <tr>\n",
       "      <th>0</th>\n",
       "      <td>!!!voruch</td>\n",
       "      <td>2</td>\n",
       "      <td>9</td>\n",
       "    </tr>\n",
       "    <tr>\n",
       "      <th>1</th>\n",
       "      <td>!@#$%^star</td>\n",
       "      <td>1</td>\n",
       "      <td>10</td>\n",
       "    </tr>\n",
       "    <tr>\n",
       "      <th>2</th>\n",
       "      <td>&amp;#33;@#&amp;#036;%^QWERTY</td>\n",
       "      <td>1</td>\n",
       "      <td>21</td>\n",
       "    </tr>\n",
       "    <tr>\n",
       "      <th>3</th>\n",
       "      <td>&amp;#33;tktyf&amp;#33;</td>\n",
       "      <td>1</td>\n",
       "      <td>15</td>\n",
       "    </tr>\n",
       "    <tr>\n",
       "      <th>4</th>\n",
       "      <td>(pomo4ka)</td>\n",
       "      <td>1</td>\n",
       "      <td>9</td>\n",
       "    </tr>\n",
       "    <tr>\n",
       "      <th>...</th>\n",
       "      <td>...</td>\n",
       "      <td>...</td>\n",
       "      <td>...</td>\n",
       "    </tr>\n",
       "    <tr>\n",
       "      <th>5702</th>\n",
       "      <td>zzgtbz</td>\n",
       "      <td>1</td>\n",
       "      <td>6</td>\n",
       "    </tr>\n",
       "    <tr>\n",
       "      <th>5703</th>\n",
       "      <td>zztop1</td>\n",
       "      <td>1</td>\n",
       "      <td>6</td>\n",
       "    </tr>\n",
       "    <tr>\n",
       "      <th>5704</th>\n",
       "      <td>zzxxaass</td>\n",
       "      <td>1</td>\n",
       "      <td>8</td>\n",
       "    </tr>\n",
       "    <tr>\n",
       "      <th>5705</th>\n",
       "      <td>zzxxcc</td>\n",
       "      <td>1</td>\n",
       "      <td>6</td>\n",
       "    </tr>\n",
       "    <tr>\n",
       "      <th>5706</th>\n",
       "      <td>zzzzzzz</td>\n",
       "      <td>1</td>\n",
       "      <td>7</td>\n",
       "    </tr>\n",
       "  </tbody>\n",
       "</table>\n",
       "<p>5707 rows × 3 columns</p>\n",
       "</div>"
      ],
      "text/plain": [
       "                  passwords  counts  lengths\n",
       "0                 !!!voruch       2        9\n",
       "1                !@#$%^star       1       10\n",
       "2     &#33;@#&#036;%^QWERTY       1       21\n",
       "3           &#33;tktyf&#33;       1       15\n",
       "4                 (pomo4ka)       1        9\n",
       "...                     ...     ...      ...\n",
       "5702                 zzgtbz       1        6\n",
       "5703                 zztop1       1        6\n",
       "5704               zzxxaass       1        8\n",
       "5705                 zzxxcc       1        6\n",
       "5706                zzzzzzz       1        7\n",
       "\n",
       "[5707 rows x 3 columns]"
      ]
     },
     "execution_count": 38,
     "metadata": {},
     "output_type": "execute_result"
    }
   ],
   "source": [
    "# rename the columns by changing the keys of the dictionary\n",
    "pd.DataFrame(data=dict(passwords=unique_passwords, counts=password_counts, lengths=lengths))"
   ]
  },
  {
   "cell_type": "code",
   "execution_count": 39,
   "id": "8bca93c6-570f-4205-841a-3cb7ad63c05f",
   "metadata": {},
   "outputs": [
    {
     "data": {
      "text/plain": [
       "<Axes: xlabel='length', ylabel='count'>"
      ]
     },
     "execution_count": 39,
     "metadata": {},
     "output_type": "execute_result"
    },
    {
     "data": {
      "image/png": "[encoded data removed]",
      "text/plain": [
       "<Figure size 640x480 with 1 Axes>"
      ]
     },
     "metadata": {},
     "output_type": "display_data"
    }
   ],
   "source": [
    "# use the argument kind=\"scatter\" to change the type of the plot and use a different marker and color\n",
    "df.plot(\"length\", \"count\", kind=\"scatter\", marker=\"x\", color=\"r\")"
   ]
  },
  {
   "cell_type": "code",
   "execution_count": null,
   "id": "cb0e647d-12fd-4c3a-b0a1-410ffa5c0054",
   "metadata": {},
   "outputs": [],
   "source": []
  }
 ],
 "metadata": {
  "kernelspec": {
   "display_name": "konstanz2023",
   "language": "python",
   "name": "konstanz2023"
  },
  "language_info": {
   "codemirror_mode": {
    "name": "ipython",
    "version": 3
   },
   "file_extension": ".py",
   "mimetype": "text/x-python",
   "name": "python",
   "nbconvert_exporter": "python",
   "pygments_lexer": "ipython3",
   "version": "3.11.5"
  }
 },
 "nbformat": 4,
 "nbformat_minor": 5
}
