{
 "cells": [
  {
   "cell_type": "markdown",
   "id": "65eb3e4b-dbc7-4e1a-9825-b304f4bd56e4",
   "metadata": {},
   "source": [
    "## Importing packages\n",
    "If you are working with a notebook, it is a good practice to import all the packages that you need at the top of the notebook. This will automatically give you a rough idea of what the notebook is about, and you will avoid random package imports throughout the notebook.\n",
    "\n",
    "- Import the three packages you have used so far with their correct renaming conventions."
   ]
  },
  {
   "cell_type": "code",
   "execution_count": null,
   "id": "18d5b6b0-2034-4fa0-bc60-bf2e23a7a86f",
   "metadata": {},
   "outputs": [],
   "source": []
  },
  {
   "cell_type": "markdown",
   "id": "3cf0378d-fd27-480c-acfd-7a59523c798e",
   "metadata": {},
   "source": [
    "## Loading the passwords again\n",
    "Load the passwords from a file of your choice again. You can copy the function from yesterdays notebook if you don't want to implement it again. As before, the passwords in the list should be preprocessed (newline characters removed) and filtered (empty passwords removed)."
   ]
  },
  {
   "cell_type": "code",
   "execution_count": null,
   "id": "846e3bd9-c4b3-4bfc-bcc4-a3b7b221662f",
   "metadata": {},
   "outputs": [],
   "source": []
  },
  {
   "cell_type": "markdown",
   "id": "722c3a1d-42ae-424f-b7a5-a9d7534d80cd",
   "metadata": {},
   "source": [
    "## Counting the unique passwords again\n",
    "In the previous notebook you used the function `np.unique()` from the NumPy package with the argument `return_counts=True` to find the unique passwords and their counts. This is already quite convenient, but there is an even quicker way using the package pandas. Besides the `pd.DataFrame()`, there is also the `pd.Series()` which works like a single column of a data frame. A series consists of one data column and a corresponding index. You can think of it as a hybrid of an array and a dictionary, but compared to a dictionary the series is suited for numerical data.\n",
    "\n",
    "- Pass the list of passwords to `pd.Series()` to create a series from the password data. How can you access the first/last ten passwords from the series?\n",
    "- Use the series method `.value_counts()` to get a new series with the unique passwords and the counts. Since the series is already sorted by the counts, you can directly look at the most frequent passwords from the dataset again. If you are using 10 million passwords, this will take a few seconds.\n",
    "- Since you want to assign more values to the unique passwords in the next exercises, you need to upgrade the series to a data frame by passing it to the function `pd.DataFrame()`."
   ]
  },
  {
   "cell_type": "code",
   "execution_count": null,
   "id": "0de9094c-f29c-4e60-9625-f8a631740e2d",
   "metadata": {},
   "outputs": [],
   "source": []
  },
  {
   "cell_type": "markdown",
   "id": "5482fe93-430a-4633-b580-180d6142f3b7",
   "metadata": {},
   "source": [
    "## Accessing rows in the data frame\n",
    "Compared to the data frame from yesterdays notebook, the passwords are now the index column. Since the passwords are the unique identifier of each row in the data frame, this approach is better than having a numerical index counting from `0`. You can use a password to directly read the corresponding row from the data frame. If the name of your data frame is `df`, the following code snippet will return the row of the password `\"123456\"` (if it exists):\n",
    "```python\n",
    "df.loc[\"123456\"]\n",
    "```\n",
    "Even though the passwords are now the index of the data frame, you can still use a numerical index to read rows from the data frame. The corresponding property of the data frame is called `.iloc`. See the following code snippet that will select the 10th row from the data frame (regardless of the actual value of the index column):\n",
    "```python\n",
    "df.iloc[9]\n",
    "```\n",
    "Instead of a single index, you can also use this with an index range to get multiple rows of the data frame.\n",
    "\n",
    "- Read a few passwords from the data frame. If you are not feeling creative, you can just try `\"hello\"`, `\"test\"` and `\"111111\"`.\n",
    "- Use the property `df.iloc` to read the first/last 20 passwords from the data frame. How can you reverse the data frame using the property `.iloc`?"
   ]
  },
  {
   "cell_type": "code",
   "execution_count": null,
   "id": "1d630676-e30f-42e5-97a0-d778a759f920",
   "metadata": {},
   "outputs": [],
   "source": []
  },
  {
   "cell_type": "markdown",
   "id": "97eb5f31-1190-4025-aa12-576ef4151d5a",
   "metadata": {},
   "source": [
    "## Accessing columns in the data frame\n",
    "Regarding the columns a data frame works just like a dictionary. The key is the column name and the value will be the data saved in the column. You can use this to read existing columns from the data frame, and you can also use this to assign new columns to the data frame. See the following code snippet to get the column `\"length\"` from the data frame `df`:\n",
    "```python\n",
    "length_series = df[\"length\"]\n",
    "```\n",
    "When you read a single column from a data frame, the column will be returned as a series. Instead of a single column name, you can also index the data frame with a list of column names. In that case, the returned variable is a data frame.\n",
    "\n",
    "- Compute the array of lengths by iterating over the passwords in `df.index`. Assign the array to the data frame with the column name `\"length\"`.\n",
    "- Plot the count of the unique passwords as a function of the length in a scatter plot. If you are using the dataset with 10 million passwords, this will take a while."
   ]
  },
  {
   "cell_type": "code",
   "execution_count": null,
   "id": "afcfc26b-79ea-4cb4-abb6-f49fa818fac3",
   "metadata": {},
   "outputs": [],
   "source": []
  },
  {
   "cell_type": "markdown",
   "id": "29bd97b1-4553-48d1-8b92-fe846817d0e9",
   "metadata": {},
   "source": [
    "## Sorting and querying the data frame\n",
    "Since the index and the columns in the data frame are aligned, you can directly sort the entire data frame based on the values of one (or mulitple) column(s). The corresponding method `df.sort_values()` returns a sorted copy of data frame `df`, and you can decide the order with the boolean argument `ascending`. If you want to keep the sorted data frame, you have to overwrite the existing one or create a new variable. See the following code snippet that returns the data frame sorted by the `\"length\"` in descending order:\n",
    "```python\n",
    "df.sort_values(\"length\", ascending=False)\n",
    "```\n",
    "\n",
    "In a data frame you can use a so-called query to select specific rows from the data frame. The data frame method `.query()` takes a string argument with one (or multiple) filter condition(s) and returns the reduced data frame. As an example, see the following code snippet that will return all rows where the length of the password is greater than 10:\n",
    "```python\n",
    "df.query(\"length > 10\")\n",
    "```\n",
    "You can combine multiple conditions with `and`/`or` or the characters `&`/`|`. If you want to create more complex conditions, you can also use parentheses to group the conditions.\n",
    "\n",
    "- Try a few different queries with the comparison operators `==`, `<=`, `>` and `!=` to get used to the method. \n",
    "- Use the query method to get all passwords with a length equal to 6 that occur between 5 and 9 times (including 5 and 9) in the data frame.\n",
    "- Combine the query and the sorting to find the 10 longest passwords that occur at least twice in the dataset. You can \"stack\" the methods and write everything in a single line of code."
   ]
  },
  {
   "cell_type": "code",
   "execution_count": null,
   "id": "c82aefe0-b604-49e7-a2dd-7c8308aa739b",
   "metadata": {},
   "outputs": [],
   "source": []
  },
  {
   "cell_type": "markdown",
   "id": "0a6e2378-5fd2-4832-bece-695e93cd3039",
   "metadata": {},
   "source": [
    "## Computing more password metrics\n",
    "Besides the count and the length of each password, it would be nice to have some more data for each password. In the previous notebooks you already worked with the digit sum that computes the sum of all digits in each password. Two more interesting values of passwords are the count of alphabetic characters and numeric characters. To compute these values, you just have to count the characters of the respective categories. See the following example password with an alphabetic character count of `4` and a numeric character count of `2`:\n",
    "```python\n",
    "password = \"stop12!?\"\n",
    "```\n",
    "\n",
    "- Compute the digit sum for each password in the `df.index` and assign the array as a new column to the data frame. You can reuse the function from the previous notebook.\n",
    "- Write two functions to count the alphabetic characters and numeric characters of a single password. Use this function to calculate the two values for all passwords, and assign them to the data frame as new columns.\n",
    "- Display the digit sum as a function of the numeric character count and as a function of the alphabetic character count. Can you already spot some correlation in the data?\n",
    "- EXTRA: Implement the function to count the special characters and also add the number of special characters as a new column to the data frame. "
   ]
  },
  {
   "cell_type": "code",
   "execution_count": null,
   "id": "59f2ea49-8c35-410b-920f-febebdcc315e",
   "metadata": {},
   "outputs": [],
   "source": []
  },
  {
   "cell_type": "markdown",
   "id": "826f3b50-4075-4e2d-950b-29f80f098725",
   "metadata": {},
   "source": [
    "## Statistics on data frame columns\n",
    "If your data frame only contains numerical data, you can directly use the data frame methods `.sum()`, `.min()`, `.max()`, `.mean()` etc. to run these computations. The result will be a dictionary-like variable where the keys are the names of the columns and the values are the results of the computations. You can also run the same methods on a series to immediately get a single return value.  \n",
    "\n",
    "Besides computations on single columns, you can also compute correlations across the data frame columns. The corresponding method `.corr()` will return a new data frame with the [Pearson correlation coefficient](https://en.wikipedia.org/wiki/Pearson_correlation_coefficient) between all the columns. If the coefficient is > 0, the two columns are positively correlated, and if the coefficient is < 0, the two columns are negatively correlated. The maximum correlations are reached at +1 and -1 respectively. Note that the Pearson correlation coefficient is only the default option of the method `.corr()`, there are also other correlation coefficients available and you can even compute your own correlation coefficient.\n",
    "\n",
    "- Try the computational methods on the entire data frame. Do the unique passwords contain more alphabetic characters or numeric characters on average?\n",
    "- Use the methods `.idxmax()` and `.idxmin()` to get the passwords (which are the indices of the data frame) for the maximum/minimum value of each column.\n",
    "- Compute the Pearson correlation coefficient across all the columns in the data frame. Look at the individual coefficients, are any of them surprising to you?\n",
    "- Plot the alphabetic character count as a function of the numeric character count. Can you see the strongly negative correlation in the data?"
   ]
  },
  {
   "cell_type": "code",
   "execution_count": null,
   "id": "789840b8-910c-4df4-bc7e-d48ff74ffb69",
   "metadata": {},
   "outputs": [],
   "source": []
  },
  {
   "cell_type": "markdown",
   "id": "b3a4b8fe-8dce-4fbf-9a0a-ac47e12ad24e",
   "metadata": {},
   "source": [
    "## Creating multiple plots in one figure\n",
    "So far you have only used the functions `plt.plot()`, `plt.bar()` etc. that automatically create a figure with a single plot (which is also called axis). The Jupyter environment will automatically call the function `plt.show()` for you at the end of the cell that will actually display the figure/plot.  \n",
    "\n",
    "If you want to have multiple plots/axes in one figure, you have to define the shape of the figure beforehand. The corresponding function in matplotlib is `plt.subplots()` where you can specify how many rows and columns of axes you want to have in the figure. If you want to create three axes in a row, you can use the following code snippet:\n",
    "```python\n",
    "fig, axs = plt.subplots(ncols=3)\n",
    "```\n",
    "The function will return a figure and an array of axes and they will be automatically displayed if you execute the cell. Instead of calling `plt.plot()`, you can now plot something in a specific axes by calling `axs[0].plot()`. The other arguments will be the same, you can use the x-values, the y-data and some styling just like before. See the following code snippet that will create two axes with different linear functions:\n",
    "```python\n",
    "fig, axs = plt.subplots(ncols=2)\n",
    "axs[0].plot(np.arange(10))\n",
    "axs[1].plot(-np.arange(40))\n",
    "```\n",
    "\n",
    "If you want to plot something directly from a data frame, you have to tell the data frame method which axes you want to use. For example, if you want to plot the digit sum (in the column `\"digit_sum\"`) as a function of the number of alphabetic characters (in the column `\"n_alphabetic\"`) in the second axes of the figure, you can use the following code snippet:\n",
    "```python\n",
    "fig, axs = plt.subplots(ncols=3)\n",
    "df.plot(\"n_alphabetic\", \"digit_sum\", kind=\"scatter\", ax=axs[1])\n",
    "```\n",
    "If you want to change the overall size of the figure, you can pass a list with the width and the height to the parameter `figsize` of the function `plt.subplots()`. As an example, see the following code snippet will return a very wide figure with two axes:\n",
    "```python\n",
    "fig, axs = plt.subplots(ncols=2, figsize=[20, 4])\n",
    "```\n",
    "To save your figure at the end of the cell, you can use the method `fig.savefig()` with the name of the figure. See the following code snippet to create a new figure with three empty axes, and to save it with the name `\"plot.png\"` at the end of the cell:\n",
    "```python\n",
    "fig, axs = plt.subplots(ncols=3)\n",
    "fig.savefig(\"plot.png\")\n",
    "```\n",
    "\n",
    "- Create a new figure with three empty axes in one column. If you do not like the aspect ratio, use the parameter `figsize` to change the size of the figure.\n",
    "- Create a new figure with two axes in one row. Show the digit sum as a function of the password length in the first axes, and show the digit sum as a function of the number of numeric characters in the second axes. In both axes, display the maximum possible digit sum. Assign labels to all the data and add a legend.\n",
    "- Create a new figure with two axes in one row. Display different columns from the data frame in the two axes. Save the figure and open the file on your own device.\n",
    "- EXTRA: Create a figure with 4 axes in 2 rows. How do you have to index the `axs` to select the individual plots? Fill the axes with some data from the data frame. Call `fig.set_tight_layout(True)` if the axes are overlapping with the labels."
   ]
  },
  {
   "cell_type": "code",
   "execution_count": null,
   "id": "e89c0a8f-c56a-4a76-841d-a54963c0a986",
   "metadata": {},
   "outputs": [],
   "source": []
  },
  {
   "cell_type": "markdown",
   "id": "49cd9c6e-4584-4cf7-a420-a53db5d709ef",
   "metadata": {},
   "source": [
    "## Changing axes labels and titles\n",
    "When you create a figure and axes with the function `plt.subplots()`, you can no longer change the labels and the title of each axes with the functions `plt.xlabel()` etc. Instead, you have to use methods of the specific axes to change these properties. The methods for the xlabel, the ylabel and the title are called `.set_xlabel()`, `.set_ylabel()` and `set_title()`, and they each take a string parameter that will be the label/title. As an example, see the following code snippet that creates two axes with some labels and a title:\n",
    "```python\n",
    "fig, axs = plt.subplots(ncols=2)\n",
    "axs[0].set_title(\"Plot 1\")\n",
    "axs[1].set_title(\"Plot 2\")\n",
    "axs[0].set_xlabel(\"lengths\")\n",
    "axs[1].set_xlabel(\"digit sum\")\n",
    "axs[0].set_ylabel(\"count\")\n",
    "axs[1].set_ylabel(\"count\")\n",
    "```\n",
    "\n",
    "- Reproduce all plots from the previous exercise without using the data frame method `.plot()`. Instead, get the columns that you want to use in the plot from the data frame, and use the axes methods `.plot()`, `.scatter()`, etc. Make sure that you add all xlabels and ylabels, just like the data frame method would do for you automatically. And in addition to the xlabels and ylabels, add a title to each axes that describes the content of the axes."
   ]
  },
  {
   "cell_type": "code",
   "execution_count": null,
   "id": "fa2dccad-9211-49f6-aa29-69b1b0530cf7",
   "metadata": {},
   "outputs": [],
   "source": []
  }
 ],
 "metadata": {
  "kernelspec": {
   "display_name": "konstanz2023",
   "language": "python",
   "name": "konstanz2023"
  },
  "language_info": {
   "codemirror_mode": {
    "name": "ipython",
    "version": 3
   },
   "file_extension": ".py",
   "mimetype": "text/x-python",
   "name": "python",
   "nbconvert_exporter": "python",
   "pygments_lexer": "ipython3",
   "version": "3.11.5"
  }
 },
 "nbformat": 4,
 "nbformat_minor": 5
}
