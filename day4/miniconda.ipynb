{
 "cells": [
  {
   "cell_type": "markdown",
   "id": "f09d9b96-9b0b-40fc-b04b-b066cad1429b",
   "metadata": {},
   "source": [
    "## Miniconda installation\n",
    "Miniconda is a convenient way of installing Python on your own device. You do not need to use the command line to install Miniconda, there is a graphical installer available for all platforms. This will only be a bare Python installation and you have to add all the packages (`numpy`, `matplotlib` etc...) yourself. For the installation of those packages you will have to use the command line, but the commands are going to be very simple.  \n",
    "\n",
    "Since the installation depends on your operating system, please find the instructions that apply to your device [here](https://docs.conda.io/projects/miniconda/en/latest/miniconda-install.html). If you are using macOS, be careful that there is a different installer if your device is using an M1 chip!"
   ]
  },
  {
   "cell_type": "code",
   "execution_count": null,
   "id": "27da690f-6417-4b78-af85-b2e44cf13f12",
   "metadata": {},
   "outputs": [],
   "source": []
  },
  {
   "cell_type": "markdown",
   "id": "50603fc7-081f-4a4d-9f5a-8f1008f2437d",
   "metadata": {},
   "source": [
    "## JupyterLab installation\n",
    "JupyterLab is the local installation of the JupyterHub you were using so far. When you run JupyterLab, this will automatically open as a new tab in your web browser and you can work there just like on the JupyterHub server before.  \n",
    "\n",
    "You can find the instructions to install JupyterLab in (mini)conda [here](https://jupyterlab.readthedocs.io/en/stable/getting_started/installation.html). Most packages will have such installation instructions, and you can choose between the `conda` command and the `pip` command. In general, if the `conda` installation command is available, use can always use that one. You only need to install the package called `jupyterlab`, and all the other packages that are required to run JupyterLab are installed automatically. There might be a prompt to ask you whether the required packages should also be installed. You can accept that prompt and the installation will proceed. If the installation is done, you can run the command `jupyter-lab` in the same command line. JupyterLab should now open automatically in your web browser."
   ]
  },
  {
   "cell_type": "code",
   "execution_count": null,
   "id": "06b72676-1c1b-45aa-aa8c-ef3cc5f9eb3a",
   "metadata": {},
   "outputs": [],
   "source": []
  },
  {
   "cell_type": "markdown",
   "id": "86e074a4-530d-4f4a-bfb4-deede8728c4e",
   "metadata": {},
   "source": [
    "## General package installation\n",
    "There are still a few packages missing to run the previous notebooks. As soon as you have installed JupyterLab, you can install the remaining packages with the command line in JupyterLab. Open a new tab in JupyterLab by clicking the `+` button in the top left corner, and select the `Terminal` in the category `Other`. You can install all further packages from this command line.  \n",
    "\n",
    "If you look at the installation instructions of [NumPy](https://numpy.org/install/), [matplotlib](https://matplotlib.org/stable/users/getting_started/) and [pandas](https://pandas.pydata.org/docs/getting_started/install.html) they might say that the best practice is to create a virtual environment for each project. You do not have to worry about this for now. You can just directly install the packages with either `conda` or `pip`. The commands to install NumPy, matplotlib and pandas with conda are:\n",
    "```\n",
    "conda install numpy\n",
    "conda install -c conda-forge matplotlib\n",
    "conda install -c conda-forge pandas\n",
    "```\n",
    "If there are any prompts asking you to install other packages, you can accept them. Alternatively, if you want to install the packages with `pip` the commands are:\n",
    "```\n",
    "pip install numpy\n",
    "pip install matplotlib\n",
    "pip install pandas\n",
    "```"
   ]
  },
  {
   "cell_type": "code",
   "execution_count": null,
   "id": "26129232-6ad1-4f99-86a0-51f13b24558c",
   "metadata": {},
   "outputs": [],
   "source": []
  },
  {
   "cell_type": "markdown",
   "id": "14c7d5f4-6c9e-493f-b31b-cac03d12125b",
   "metadata": {},
   "source": [
    "## Start working\n",
    "Download your notebook and the password data from day3 from the JupyterHub to a folder on your own device. Navigate to the folder in JupyterLab and open the notebook. If the installation of all packages was successful, you can continue working with the notebook on your own device now. If you had already finished the exercises, execute the entire notebook again to make that everything works. Finish the exercises in the notebook if you still have some left."
   ]
  },
  {
   "cell_type": "code",
   "execution_count": null,
   "id": "c5256e37-37b5-48c6-9e7e-2cd0654db66c",
   "metadata": {},
   "outputs": [],
   "source": []
  }
 ],
 "metadata": {
  "kernelspec": {
   "display_name": "Python 3 (ipykernel)",
   "language": "python",
   "name": "python3"
  },
  "language_info": {
   "codemirror_mode": {
    "name": "ipython",
    "version": 3
   },
   "file_extension": ".py",
   "mimetype": "text/x-python",
   "name": "python",
   "nbconvert_exporter": "python",
   "pygments_lexer": "ipython3",
   "version": "3.11.5"
  }
 },
 "nbformat": 4,
 "nbformat_minor": 5
}
