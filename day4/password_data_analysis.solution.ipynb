{
 "cells": [
  {
   "cell_type": "markdown",
   "id": "65eb3e4b-dbc7-4e1a-9825-b304f4bd56e4",
   "metadata": {},
   "source": [
    "## Importing packages\n",
    "If you are working with a notebook, it is a good practice to import all the packages that you need at the top of the notebook. This will automatically give you a rough idea of what the notebook is about, and you will avoid random package imports throughout the notebook.\n",
    "\n",
    "- Import the three packages you have used so far with their correct renaming conventions."
   ]
  },
  {
   "cell_type": "code",
   "execution_count": 1,
   "id": "aa53775d-51d3-4cc9-8bae-b871defc5541",
   "metadata": {},
   "outputs": [],
   "source": [
    "import numpy as np\n",
    "import pandas as pd\n",
    "import matplotlib.pyplot as plt"
   ]
  },
  {
   "cell_type": "code",
   "execution_count": null,
   "id": "18d5b6b0-2034-4fa0-bc60-bf2e23a7a86f",
   "metadata": {},
   "outputs": [],
   "source": []
  },
  {
   "cell_type": "markdown",
   "id": "3cf0378d-fd27-480c-acfd-7a59523c798e",
   "metadata": {},
   "source": [
    "## Loading the passwords again\n",
    "Load the passwords from a file of your choice again. You can copy the function from yesterdays notebook if you don't want to implement it again. As before, the passwords in the list should be preprocessed (newline characters removed) and filtered (empty passwords removed)."
   ]
  },
  {
   "cell_type": "code",
   "execution_count": 2,
   "id": "8f46c5e4-e89e-4d54-99cc-78413ae306d4",
   "metadata": {},
   "outputs": [],
   "source": [
    "def load_passwords(path):\n",
    "    # start with an empty list\n",
    "    passwords = []\n",
    "    # open the file\n",
    "    with open(path) as f:\n",
    "        # iterate over the lines in the file\n",
    "        for line in f.readlines():\n",
    "            # remove the newline character\n",
    "            password = line.strip()\n",
    "            # append non-empty passwords to the list\n",
    "            if password:\n",
    "                passwords.append(password)\n",
    "    # return the list of passwords\n",
    "    return passwords"
   ]
  },
  {
   "cell_type": "code",
   "execution_count": 3,
   "id": "f9b5f678-d9d9-4bf5-a0c3-e21780875bba",
   "metadata": {},
   "outputs": [],
   "source": [
    "passwords = load_passwords(\"0001.txt\")"
   ]
  },
  {
   "cell_type": "code",
   "execution_count": null,
   "id": "846e3bd9-c4b3-4bfc-bcc4-a3b7b221662f",
   "metadata": {},
   "outputs": [],
   "source": []
  },
  {
   "cell_type": "markdown",
   "id": "722c3a1d-42ae-424f-b7a5-a9d7534d80cd",
   "metadata": {},
   "source": [
    "## Counting the unique passwords again\n",
    "In the previous notebook you used the function `np.unique()` from the NumPy package with the argument `return_counts=True` to find the unique passwords and their counts. This is already quite convenient, but there is an even quicker way using the package pandas. Besides the `pd.DataFrame()`, there is also the `pd.Series()` which works like a single column of a data frame. A series consists of one data column and a corresponding index. You can think of it as a hybrid of an array and a dictionary, but compared to a dictionary the series is suited for numerical data.\n",
    "\n",
    "- Pass the list of passwords to `pd.Series()` to create a series from the password data. How can you access the first/last ten passwords from the series?\n",
    "- Use the series method `.value_counts()` to get a new series with the unique passwords and the counts. Since the series is already sorted by the counts, you can directly look at the most frequent passwords from the dataset again. If you are using 10 million passwords, this will take a few seconds.\n",
    "- Since you want to assign more values to the unique passwords in the next exercises, you need to upgrade the series to a data frame by passing it to the function `pd.DataFrame()`."
   ]
  },
  {
   "cell_type": "code",
   "execution_count": 4,
   "id": "3b40ff90-bf6c-47a7-98f5-a545fb3c030a",
   "metadata": {},
   "outputs": [
    {
     "data": {
      "text/plain": [
       "999841     123456789\n",
       "999842      keqilexa\n",
       "999843      qwerty10\n",
       "999844     19691974d\n",
       "999845       babycat\n",
       "999846     1974irina\n",
       "999847    1974sombel\n",
       "999848    vr19781974\n",
       "999849     rajib1974\n",
       "999850     raj270207\n",
       "dtype: object"
      ]
     },
     "execution_count": 4,
     "metadata": {},
     "output_type": "execute_result"
    }
   ],
   "source": [
    "# create a series from the passwords and look at the last ten data points\n",
    "password_series = pd.Series(passwords)\n",
    "password_series[-10:]"
   ]
  },
  {
   "cell_type": "code",
   "execution_count": 5,
   "id": "9a217269-9780-422e-8b97-e5475a9afa28",
   "metadata": {},
   "outputs": [
    {
     "data": {
      "text/plain": [
       "123456       18637\n",
       "111111        6993\n",
       "123456789     6579\n",
       "123123        2731\n",
       "000000        2288\n",
       "             ...  \n",
       "www123141        1\n",
       "A76886           1\n",
       "352358908        1\n",
       "jokefirst        1\n",
       "raj270207        1\n",
       "Name: count, Length: 739024, dtype: int64"
      ]
     },
     "execution_count": 5,
     "metadata": {},
     "output_type": "execute_result"
    }
   ],
   "source": [
    "# get the series of unique passwords with the counts\n",
    "unique_passwords = password_series.value_counts()\n",
    "unique_passwords"
   ]
  },
  {
   "cell_type": "code",
   "execution_count": 6,
   "id": "0c4f6878-8991-45bf-8e5f-f5dc2d244afb",
   "metadata": {},
   "outputs": [],
   "source": [
    "# create the data frame\n",
    "df = pd.DataFrame(unique_passwords)"
   ]
  },
  {
   "cell_type": "code",
   "execution_count": null,
   "id": "0de9094c-f29c-4e60-9625-f8a631740e2d",
   "metadata": {},
   "outputs": [],
   "source": []
  },
  {
   "cell_type": "markdown",
   "id": "5482fe93-430a-4633-b580-180d6142f3b7",
   "metadata": {},
   "source": [
    "## Accessing rows in the data frame\n",
    "Compared to the data frame from yesterdays notebook, the passwords are now the index column. Since the passwords are the unique identifier of each row in the data frame, this approach is better than having a numerical index counting from `0`. You can use a password to directly read the corresponding row from the data frame. If the name of your data frame is `df`, the following code snippet will return the row of the password `\"123456\"` (if it exists):\n",
    "```python\n",
    "df.loc[\"123456\"]\n",
    "```\n",
    "Even though the passwords are now the index of the data frame, you can still use a numerical index to read rows from the data frame. The corresponding property of the data frame is called `.iloc`. See the following code snippet that will select the 10th row from the data frame (regardless of the actual value of the index column):\n",
    "```python\n",
    "df.iloc[9]\n",
    "```\n",
    "Instead of a single index, you can also use this with an index range to get multiple rows of the data frame.\n",
    "\n",
    "- Read a few passwords from the data frame. If you are not feeling creative, you can just try `\"hello\"`, `\"test\"` and `\"111111\"`.\n",
    "- Use the property `df.iloc` to read the first/last 20 passwords from the data frame. How can you reverse the data frame using the property `.iloc`?"
   ]
  },
  {
   "cell_type": "code",
   "execution_count": 7,
   "id": "76a8db7d-d3f2-482f-abf4-13c78b53a09d",
   "metadata": {},
   "outputs": [
    {
     "data": {
      "text/plain": [
       "count    18637\n",
       "Name: 123456, dtype: int64"
      ]
     },
     "execution_count": 7,
     "metadata": {},
     "output_type": "execute_result"
    }
   ],
   "source": [
    "# reproduce the code snippet from the exercise\n",
    "df.loc[\"123456\"]"
   ]
  },
  {
   "cell_type": "code",
   "execution_count": 8,
   "id": "1f687091-2b70-4b12-8ed4-9732e4324783",
   "metadata": {},
   "outputs": [
    {
     "data": {
      "text/plain": [
       "(count    29\n",
       " Name: hello, dtype: int64,\n",
       " count    47\n",
       " Name: test, dtype: int64,\n",
       " count    6993\n",
       " Name: 111111, dtype: int64)"
      ]
     },
     "execution_count": 8,
     "metadata": {},
     "output_type": "execute_result"
    }
   ],
   "source": [
    "# look at a few other passwords\n",
    "df.loc[\"hello\"], df.loc[\"test\"], df.loc[\"111111\"]"
   ]
  },
  {
   "cell_type": "code",
   "execution_count": 9,
   "id": "de33a525-9ae9-4bed-8a64-740f5c6e1430",
   "metadata": {},
   "outputs": [
    {
     "data": {
      "text/html": [
       "<div>\n",
       "<style scoped>\n",
       "    .dataframe tbody tr th:only-of-type {\n",
       "        vertical-align: middle;\n",
       "    }\n",
       "\n",
       "    .dataframe tbody tr th {\n",
       "        vertical-align: top;\n",
       "    }\n",
       "\n",
       "    .dataframe thead th {\n",
       "        text-align: right;\n",
       "    }\n",
       "</style>\n",
       "<table border=\"1\" class=\"dataframe\">\n",
       "  <thead>\n",
       "    <tr style=\"text-align: right;\">\n",
       "      <th></th>\n",
       "      <th>count</th>\n",
       "    </tr>\n",
       "  </thead>\n",
       "  <tbody>\n",
       "    <tr>\n",
       "      <th>123456</th>\n",
       "      <td>18637</td>\n",
       "    </tr>\n",
       "    <tr>\n",
       "      <th>111111</th>\n",
       "      <td>6993</td>\n",
       "    </tr>\n",
       "    <tr>\n",
       "      <th>123456789</th>\n",
       "      <td>6579</td>\n",
       "    </tr>\n",
       "    <tr>\n",
       "      <th>123123</th>\n",
       "      <td>2731</td>\n",
       "    </tr>\n",
       "    <tr>\n",
       "      <th>000000</th>\n",
       "      <td>2288</td>\n",
       "    </tr>\n",
       "    <tr>\n",
       "      <th>qwertyuiop</th>\n",
       "      <td>1564</td>\n",
       "    </tr>\n",
       "    <tr>\n",
       "      <th>123123123</th>\n",
       "      <td>1519</td>\n",
       "    </tr>\n",
       "    <tr>\n",
       "      <th>11111</th>\n",
       "      <td>1408</td>\n",
       "    </tr>\n",
       "    <tr>\n",
       "      <th>121212</th>\n",
       "      <td>1402</td>\n",
       "    </tr>\n",
       "    <tr>\n",
       "      <th>222222</th>\n",
       "      <td>1380</td>\n",
       "    </tr>\n",
       "    <tr>\n",
       "      <th>asdfghjkl</th>\n",
       "      <td>1367</td>\n",
       "    </tr>\n",
       "    <tr>\n",
       "      <th>1234567890</th>\n",
       "      <td>1323</td>\n",
       "    </tr>\n",
       "    <tr>\n",
       "      <th>1qaz2wsx</th>\n",
       "      <td>1308</td>\n",
       "    </tr>\n",
       "    <tr>\n",
       "      <th>789456123</th>\n",
       "      <td>1242</td>\n",
       "    </tr>\n",
       "    <tr>\n",
       "      <th>qwerty</th>\n",
       "      <td>1202</td>\n",
       "    </tr>\n",
       "    <tr>\n",
       "      <th>5201314</th>\n",
       "      <td>1180</td>\n",
       "    </tr>\n",
       "    <tr>\n",
       "      <th>1234567</th>\n",
       "      <td>1131</td>\n",
       "    </tr>\n",
       "    <tr>\n",
       "      <th>12qwaszx</th>\n",
       "      <td>1124</td>\n",
       "    </tr>\n",
       "    <tr>\n",
       "      <th>fuckyou</th>\n",
       "      <td>1107</td>\n",
       "    </tr>\n",
       "    <tr>\n",
       "      <th>qwert</th>\n",
       "      <td>1097</td>\n",
       "    </tr>\n",
       "  </tbody>\n",
       "</table>\n",
       "</div>"
      ],
      "text/plain": [
       "            count\n",
       "123456      18637\n",
       "111111       6993\n",
       "123456789    6579\n",
       "123123       2731\n",
       "000000       2288\n",
       "qwertyuiop   1564\n",
       "123123123    1519\n",
       "11111        1408\n",
       "121212       1402\n",
       "222222       1380\n",
       "asdfghjkl    1367\n",
       "1234567890   1323\n",
       "1qaz2wsx     1308\n",
       "789456123    1242\n",
       "qwerty       1202\n",
       "5201314      1180\n",
       "1234567      1131\n",
       "12qwaszx     1124\n",
       "fuckyou      1107\n",
       "qwert        1097"
      ]
     },
     "execution_count": 9,
     "metadata": {},
     "output_type": "execute_result"
    }
   ],
   "source": [
    "# use the numerical index to get rows from the data frame\n",
    "df.iloc[:20]"
   ]
  },
  {
   "cell_type": "code",
   "execution_count": 10,
   "id": "83bb47ae-7c8c-43d6-9c17-eb0a0c9a0a4d",
   "metadata": {},
   "outputs": [
    {
     "data": {
      "text/html": [
       "<div>\n",
       "<style scoped>\n",
       "    .dataframe tbody tr th:only-of-type {\n",
       "        vertical-align: middle;\n",
       "    }\n",
       "\n",
       "    .dataframe tbody tr th {\n",
       "        vertical-align: top;\n",
       "    }\n",
       "\n",
       "    .dataframe thead th {\n",
       "        text-align: right;\n",
       "    }\n",
       "</style>\n",
       "<table border=\"1\" class=\"dataframe\">\n",
       "  <thead>\n",
       "    <tr style=\"text-align: right;\">\n",
       "      <th></th>\n",
       "      <th>count</th>\n",
       "    </tr>\n",
       "  </thead>\n",
       "  <tbody>\n",
       "    <tr>\n",
       "      <th>raj270207</th>\n",
       "      <td>1</td>\n",
       "    </tr>\n",
       "    <tr>\n",
       "      <th>jokefirst</th>\n",
       "      <td>1</td>\n",
       "    </tr>\n",
       "    <tr>\n",
       "      <th>352358908</th>\n",
       "      <td>1</td>\n",
       "    </tr>\n",
       "    <tr>\n",
       "      <th>A76886</th>\n",
       "      <td>1</td>\n",
       "    </tr>\n",
       "    <tr>\n",
       "      <th>www123141</th>\n",
       "      <td>1</td>\n",
       "    </tr>\n",
       "    <tr>\n",
       "      <th>...</th>\n",
       "      <td>...</td>\n",
       "    </tr>\n",
       "    <tr>\n",
       "      <th>000000</th>\n",
       "      <td>2288</td>\n",
       "    </tr>\n",
       "    <tr>\n",
       "      <th>123123</th>\n",
       "      <td>2731</td>\n",
       "    </tr>\n",
       "    <tr>\n",
       "      <th>123456789</th>\n",
       "      <td>6579</td>\n",
       "    </tr>\n",
       "    <tr>\n",
       "      <th>111111</th>\n",
       "      <td>6993</td>\n",
       "    </tr>\n",
       "    <tr>\n",
       "      <th>123456</th>\n",
       "      <td>18637</td>\n",
       "    </tr>\n",
       "  </tbody>\n",
       "</table>\n",
       "<p>739024 rows × 1 columns</p>\n",
       "</div>"
      ],
      "text/plain": [
       "           count\n",
       "raj270207      1\n",
       "jokefirst      1\n",
       "352358908      1\n",
       "A76886         1\n",
       "www123141      1\n",
       "...          ...\n",
       "000000      2288\n",
       "123123      2731\n",
       "123456789   6579\n",
       "111111      6993\n",
       "123456     18637\n",
       "\n",
       "[739024 rows x 1 columns]"
      ]
     },
     "execution_count": 10,
     "metadata": {},
     "output_type": "execute_result"
    }
   ],
   "source": [
    "# reverse the data frame with the index [::-1]\n",
    "df.iloc[::-1]"
   ]
  },
  {
   "cell_type": "code",
   "execution_count": null,
   "id": "1d630676-e30f-42e5-97a0-d778a759f920",
   "metadata": {},
   "outputs": [],
   "source": []
  },
  {
   "cell_type": "markdown",
   "id": "97eb5f31-1190-4025-aa12-576ef4151d5a",
   "metadata": {},
   "source": [
    "## Accessing columns in the data frame\n",
    "Regarding the columns a data frame works just like a dictionary. The key is the column name and the value will be the data saved in the column. You can use this to read existing columns from the data frame, and you can also use this to assign new columns to the data frame. See the following code snippet to get the column `\"length\"` from the data frame `df`:\n",
    "```python\n",
    "length_series = df[\"length\"]\n",
    "```\n",
    "When you read a single column from a data frame, the column will be returned as a series. Instead of a single column name, you can also index the data frame with a list of column names. In that case, the returned variable is a data frame.\n",
    "\n",
    "- Compute the array of lengths by iterating over the passwords in `df.index`. Assign the array to the data frame with the column name `\"length\"`.\n",
    "- Plot the count of the unique passwords as a function of the length in a scatter plot. If you are using the dataset with 10 million passwords, this will take a while."
   ]
  },
  {
   "cell_type": "code",
   "execution_count": 11,
   "id": "843c0ae5-bf2d-4e6e-a6f0-ffe4dbc82ea4",
   "metadata": {},
   "outputs": [],
   "source": [
    "# iterate over the passwords in the index and assign the lengths array to the data frame\n",
    "lengths = np.array([len(password) for password in df.index])\n",
    "df[\"length\"] = lengths"
   ]
  },
  {
   "cell_type": "code",
   "execution_count": 12,
   "id": "c0761f1f-0fd2-430f-b81d-f47f717e3621",
   "metadata": {},
   "outputs": [
    {
     "data": {
      "text/plain": [
       "<Axes: xlabel='length', ylabel='count'>"
      ]
     },
     "execution_count": 12,
     "metadata": {},
     "output_type": "execute_result"
    },
    {
     "data": {
      "image/png": "[encoded data removed]",
      "text/plain": [
       "<Figure size 640x480 with 1 Axes>"
      ]
     },
     "metadata": {},
     "output_type": "display_data"
    }
   ],
   "source": [
    "df.plot(\"length\", \"count\", kind=\"scatter\")"
   ]
  },
  {
   "cell_type": "code",
   "execution_count": null,
   "id": "afcfc26b-79ea-4cb4-abb6-f49fa818fac3",
   "metadata": {},
   "outputs": [],
   "source": []
  },
  {
   "cell_type": "markdown",
   "id": "29bd97b1-4553-48d1-8b92-fe846817d0e9",
   "metadata": {},
   "source": [
    "## Sorting and querying the data frame\n",
    "Since the index and the columns in the data frame are aligned, you can directly sort the entire data frame based on the values of one (or mulitple) column(s). The corresponding method `df.sort_values()` returns a sorted copy of data frame `df`, and you can decide the order with the boolean argument `ascending`. If you want to keep the sorted data frame, you have to overwrite the existing one or create a new variable. See the following code snippet that returns the data frame sorted by the `\"length\"` in descending order:\n",
    "```python\n",
    "df.sort_values(\"length\", ascending=False)\n",
    "```\n",
    "\n",
    "In a data frame you can use a so-called query to select specific rows from the data frame. The data frame method `.query()` takes a string argument with one (or multiple) filter condition(s) and returns the reduced data frame. As an example, see the following code snippet that will return all rows where the length of the password is greater than 10:\n",
    "```python\n",
    "df.query(\"length > 10\")\n",
    "```\n",
    "You can combine multiple conditions with `and`/`or` or the characters `&`/`|`. If you want to create more complex conditions, you can also use parentheses to group the conditions.\n",
    "\n",
    "- Try a few different queries with the comparison operators `==`, `<=`, `>` and `!=` to get used to the method. \n",
    "- Use the query method to get all passwords with a length equal to 6 that occur between 5 and 9 times (including 5 and 9) in the data frame.\n",
    "- Combine the query and the sorting to find the 10 longest passwords that occur at least twice in the dataset. You can \"stack\" the methods and write everything in a single line of code."
   ]
  },
  {
   "cell_type": "code",
   "execution_count": 13,
   "id": "a2a8efa8-0ecd-4e6d-8b28-5a930e752665",
   "metadata": {},
   "outputs": [
    {
     "data": {
      "text/html": [
       "<div>\n",
       "<style scoped>\n",
       "    .dataframe tbody tr th:only-of-type {\n",
       "        vertical-align: middle;\n",
       "    }\n",
       "\n",
       "    .dataframe tbody tr th {\n",
       "        vertical-align: top;\n",
       "    }\n",
       "\n",
       "    .dataframe thead th {\n",
       "        text-align: right;\n",
       "    }\n",
       "</style>\n",
       "<table border=\"1\" class=\"dataframe\">\n",
       "  <thead>\n",
       "    <tr style=\"text-align: right;\">\n",
       "      <th></th>\n",
       "      <th>count</th>\n",
       "      <th>length</th>\n",
       "    </tr>\n",
       "  </thead>\n",
       "  <tbody>\n",
       "    <tr>\n",
       "      <th>123456</th>\n",
       "      <td>18637</td>\n",
       "      <td>6</td>\n",
       "    </tr>\n",
       "    <tr>\n",
       "      <th>111111</th>\n",
       "      <td>6993</td>\n",
       "      <td>6</td>\n",
       "    </tr>\n",
       "    <tr>\n",
       "      <th>123456789</th>\n",
       "      <td>6579</td>\n",
       "      <td>9</td>\n",
       "    </tr>\n",
       "    <tr>\n",
       "      <th>123123</th>\n",
       "      <td>2731</td>\n",
       "      <td>6</td>\n",
       "    </tr>\n",
       "    <tr>\n",
       "      <th>000000</th>\n",
       "      <td>2288</td>\n",
       "      <td>6</td>\n",
       "    </tr>\n",
       "    <tr>\n",
       "      <th>...</th>\n",
       "      <td>...</td>\n",
       "      <td>...</td>\n",
       "    </tr>\n",
       "    <tr>\n",
       "      <th>www123141</th>\n",
       "      <td>1</td>\n",
       "      <td>9</td>\n",
       "    </tr>\n",
       "    <tr>\n",
       "      <th>A76886</th>\n",
       "      <td>1</td>\n",
       "      <td>6</td>\n",
       "    </tr>\n",
       "    <tr>\n",
       "      <th>352358908</th>\n",
       "      <td>1</td>\n",
       "      <td>9</td>\n",
       "    </tr>\n",
       "    <tr>\n",
       "      <th>jokefirst</th>\n",
       "      <td>1</td>\n",
       "      <td>9</td>\n",
       "    </tr>\n",
       "    <tr>\n",
       "      <th>raj270207</th>\n",
       "      <td>1</td>\n",
       "      <td>9</td>\n",
       "    </tr>\n",
       "  </tbody>\n",
       "</table>\n",
       "<p>700489 rows × 2 columns</p>\n",
       "</div>"
      ],
      "text/plain": [
       "           count  length\n",
       "123456     18637       6\n",
       "111111      6993       6\n",
       "123456789   6579       9\n",
       "123123      2731       6\n",
       "000000      2288       6\n",
       "...          ...     ...\n",
       "www123141      1       9\n",
       "A76886         1       6\n",
       "352358908      1       9\n",
       "jokefirst      1       9\n",
       "raj270207      1       9\n",
       "\n",
       "[700489 rows x 2 columns]"
      ]
     },
     "execution_count": 13,
     "metadata": {},
     "output_type": "execute_result"
    }
   ],
   "source": [
    "# get the rows where the count is unequal to 2\n",
    "df.query(\"count != 2\")"
   ]
  },
  {
   "cell_type": "code",
   "execution_count": 14,
   "id": "6036dca0-d397-492c-9aeb-849628c8b45b",
   "metadata": {},
   "outputs": [
    {
     "data": {
      "text/html": [
       "<div>\n",
       "<style scoped>\n",
       "    .dataframe tbody tr th:only-of-type {\n",
       "        vertical-align: middle;\n",
       "    }\n",
       "\n",
       "    .dataframe tbody tr th {\n",
       "        vertical-align: top;\n",
       "    }\n",
       "\n",
       "    .dataframe thead th {\n",
       "        text-align: right;\n",
       "    }\n",
       "</style>\n",
       "<table border=\"1\" class=\"dataframe\">\n",
       "  <thead>\n",
       "    <tr style=\"text-align: right;\">\n",
       "      <th></th>\n",
       "      <th>count</th>\n",
       "      <th>length</th>\n",
       "    </tr>\n",
       "  </thead>\n",
       "  <tbody>\n",
       "    <tr>\n",
       "      <th>df6017dd257e11ae8882143ae2489f599f954021b984eb218c885fb9bf772705bd6621caeb9289a769daaa6feace610edf86d3531ee545bdabaa5178519ff02a</th>\n",
       "      <td>1</td>\n",
       "      <td>128</td>\n",
       "    </tr>\n",
       "    <tr>\n",
       "      <th>f093e5f7e984b5b66d8ecafa9f763fa4211f63d25a82cdbdda7b6af87a839d6e39749164ae9a5a7e238e2abef37480b47393ab0875dd5aa8e722efd800d12aa5</th>\n",
       "      <td>1</td>\n",
       "      <td>128</td>\n",
       "    </tr>\n",
       "    <tr>\n",
       "      <th>eefb969f7b69a3c4e2fe12d4ea37ea38a06f49827c6b121f666fc3aace8e5b0273993e00aa0c2df88657b9959a0b2c02a3e739d426482c2d1fd1277618c89fb4</th>\n",
       "      <td>1</td>\n",
       "      <td>128</td>\n",
       "    </tr>\n",
       "    <tr>\n",
       "      <th>galt:gv-ra256:87.239.82.118:47b1f232ed78d4bc69548c4aa6f1636074d73bdd</th>\n",
       "      <td>1</td>\n",
       "      <td>68</td>\n",
       "    </tr>\n",
       "    <tr>\n",
       "      <th>otudurnas:gt-bang-256:87.239.82.118:85a033c5a759b7bf825b6d165ef4817bdcc3f723</th>\n",
       "      <td>1</td>\n",
       "      <td>76</td>\n",
       "    </tr>\n",
       "    <tr>\n",
       "      <th>da14e68e5c3701bf6a19ae05ebe0367860177ca03eec20c7f7854b670ce88ca27497a741d548453fcba9824608ab128b276de60b0fb505f1875970fbf310100c</th>\n",
       "      <td>1</td>\n",
       "      <td>128</td>\n",
       "    </tr>\n",
       "    <tr>\n",
       "      <th>0b1c76a6b676544e71c305b2f7f98a9692a0799f924795293ec8aa0648386224285c8d70b92492536e3409244c02f92a91bb9a613b95959c34c99e920aa96c00</th>\n",
       "      <td>1</td>\n",
       "      <td>128</td>\n",
       "    </tr>\n",
       "    <tr>\n",
       "      <th>cc18427d86d00050caf216ed3ca9b350b61faa01fdafc6888fec85ffc6749252a71f07a9d890ef44ec2ec30f</th>\n",
       "      <td>1</td>\n",
       "      <td>88</td>\n",
       "    </tr>\n",
       "    <tr>\n",
       "      <th>a1270ac76125ff8e5ea8f42fc4daaec1bd8d9d0a5ea22ae81fb6daaef0d379474d3545d3623ca68e5ef50de6181d0585380ed149dfeb3441f537e86f080cbad5</th>\n",
       "      <td>1</td>\n",
       "      <td>128</td>\n",
       "    </tr>\n",
       "    <tr>\n",
       "      <th>a6c8ffd085d4b194d8f9412bf90940f5e39b4a945261be6e0e3cdfeb3d95e3de2177054d8a03b6bf6e591b2ba01a53d60bdb52e20b861ea9c638303908eb853f</th>\n",
       "      <td>1</td>\n",
       "      <td>128</td>\n",
       "    </tr>\n",
       "    <tr>\n",
       "      <th>cfc614ea75810d64d2b8da7ecbdda5de67e0b5f503aa84c4e5acfc0f94e0556e5fef742c77e49731a9847eddd0f0195d81b4682581822452dcc52b34c59260e9</th>\n",
       "      <td>1</td>\n",
       "      <td>128</td>\n",
       "    </tr>\n",
       "    <tr>\n",
       "      <th>d13cd0e688020379fec04b4940882e1bac60ad912e2b9084c1da01892d61c20d7fb9b1ff8ec54a446b93026fcc2eccfd533dd9608795f92b15e475441c1330b8</th>\n",
       "      <td>1</td>\n",
       "      <td>128</td>\n",
       "    </tr>\n",
       "    <tr>\n",
       "      <th>d22dee81c32282ccd6323256aaf7cc21a359af514f698bf3a58f8d59ba4c1dae84d1cc9449aa284e1cfbf5dd4e9ecf9e2a2db6b43f601a98b854010084dc2748</th>\n",
       "      <td>1</td>\n",
       "      <td>128</td>\n",
       "    </tr>\n",
       "    <tr>\n",
       "      <th>c616f96a782ddd64f64c92121be08e33414e2a29f73ce0cef6366535ffa1e53eb1f79344722401c9c722fcb65e7b7eeb850d48f73d4e103da0b9a20d11309d5b</th>\n",
       "      <td>1</td>\n",
       "      <td>128</td>\n",
       "    </tr>\n",
       "    <tr>\n",
       "      <th>bugisss:gunas:78.58.61.37:e9ef0514f73cd4f6b6a03ab66d1ad3292b7b2356</th>\n",
       "      <td>1</td>\n",
       "      <td>66</td>\n",
       "    </tr>\n",
       "    <tr>\n",
       "      <th>f947a43f9753b50d241cdb5b7f7a3ee6a1fbb20c9e525c18fe5f8f05e059f18cbf8f80327c5b0d03aa0b668609107b4d99be1caa917045775724ac51035abf51</th>\n",
       "      <td>1</td>\n",
       "      <td>128</td>\n",
       "    </tr>\n",
       "    <tr>\n",
       "      <th>fb6c7e9c18f0842887a89d05faf534d1608a61a1c51d833271d929dcd29946e71c61eb0705a147a3e4dccb46297f26d0531f38a1af063aa0db30a841c2126f8f</th>\n",
       "      <td>1</td>\n",
       "      <td>128</td>\n",
       "    </tr>\n",
       "    <tr>\n",
       "      <th>whiteastra216\",\"ph\":\"0fa7ca126a93ae415bbcb4158f340150dc5c948066e37298b2f732e17520944c</th>\n",
       "      <td>1</td>\n",
       "      <td>85</td>\n",
       "    </tr>\n",
       "    <tr>\n",
       "      <th>(828)674-9622,e10adc3949ba59abbe56e057f20f883e,,04.02.10</th>\n",
       "      <td>1</td>\n",
       "      <td>56</td>\n",
       "    </tr>\n",
       "    <tr>\n",
       "      <th>362e52e7e3cdd7a26c2a6f23428ff407b17ddcfffed76bd466235445b962aae2094fc2969f06438283623970c01f6462595dfa291509293f7a3d1aa18dd1aa2a</th>\n",
       "      <td>1</td>\n",
       "      <td>128</td>\n",
       "    </tr>\n",
       "    <tr>\n",
       "      <th>5c41e3eb0171fdcae1292e290bdb5149ea4b379ac8448215bb8c2abd23e3ed39fddde054b11ad25ea95b9e0d</th>\n",
       "      <td>1</td>\n",
       "      <td>88</td>\n",
       "    </tr>\n",
       "    <tr>\n",
       "      <th>obuxov740&lt;cookie&gt;s=1|l=7253796|p=93df524943271bf210bc75e5b5c7dc5adc27&lt;/cookie&gt;</th>\n",
       "      <td>1</td>\n",
       "      <td>78</td>\n",
       "    </tr>\n",
       "    <tr>\n",
       "      <th>obuxov740&lt;cookie:s=1|l=7253796|p=93df524943271bf210bc75e5b5c7dc5adc27&lt;/cookie&gt;</th>\n",
       "      <td>1</td>\n",
       "      <td>78</td>\n",
       "    </tr>\n",
       "    <tr>\n",
       "      <th>8532342ef1103b2993c377f0dcabc8be0b10221db2958eac4b70a598f45a3fb66a4742751be275b7782aad95</th>\n",
       "      <td>1</td>\n",
       "      <td>88</td>\n",
       "    </tr>\n",
       "    <tr>\n",
       "      <th>a35d731a875af3a408ea3cc83c82a4ffd6cbb7b56e8fdacf667803ce9752f7012bbf3c6b59d21e79b821bfa7a44d089d4585d07988119a0b7df670bb4dc221e4</th>\n",
       "      <td>1</td>\n",
       "      <td>128</td>\n",
       "    </tr>\n",
       "    <tr>\n",
       "      <th>c1caae3663144affa75f8f5277304fd67115058820de2399b015944b73855d2e96afc750f980d8e67f6bfbb4ffa16974bf76535f0bedee1c46b9b5756305c57d</th>\n",
       "      <td>1</td>\n",
       "      <td>128</td>\n",
       "    </tr>\n",
       "    <tr>\n",
       "      <th>769a4e1123f465da424efa0c65797395fd032754eec7419d7be05801fa9e04c8cb59c4a3c1aa17ef9e6752daad838840169bcfa13d83a273a905110c2e75532e</th>\n",
       "      <td>1</td>\n",
       "      <td>128</td>\n",
       "    </tr>\n",
       "    <tr>\n",
       "      <th>769A4E1123F465DA424EFA0C65797395FD032754EEC7419D7BE05801FA9E04C8CB59C4A3C1AA17EF9E6752DAAD838840169BCFA13D83A273A905110C2E75532E</th>\n",
       "      <td>1</td>\n",
       "      <td>128</td>\n",
       "    </tr>\n",
       "    <tr>\n",
       "      <th>C1CAAE3663144AFFA75F8F5277304FD67115058820DE2399B015944B73855D2E96AFC750F980D8E67F6BFBB4FFA16974BF76535F0BEDEE1C46B9B5756305C57D</th>\n",
       "      <td>1</td>\n",
       "      <td>128</td>\n",
       "    </tr>\n",
       "    <tr>\n",
       "      <th>0ff0c3e14970991a16f6bbcd1ea22d7f67eb9b1f56abfd68d1ec009afa69574f75e4d6d2316589bde73c7c37</th>\n",
       "      <td>1</td>\n",
       "      <td>88</td>\n",
       "    </tr>\n",
       "  </tbody>\n",
       "</table>\n",
       "</div>"
      ],
      "text/plain": [
       "                                                    count  length\n",
       "df6017dd257e11ae8882143ae2489f599f954021b984eb2...      1     128\n",
       "f093e5f7e984b5b66d8ecafa9f763fa4211f63d25a82cdb...      1     128\n",
       "eefb969f7b69a3c4e2fe12d4ea37ea38a06f49827c6b121...      1     128\n",
       "galt:gv-ra256:87.239.82.118:47b1f232ed78d4bc695...      1      68\n",
       "otudurnas:gt-bang-256:87.239.82.118:85a033c5a75...      1      76\n",
       "da14e68e5c3701bf6a19ae05ebe0367860177ca03eec20c...      1     128\n",
       "0b1c76a6b676544e71c305b2f7f98a9692a0799f9247952...      1     128\n",
       "cc18427d86d00050caf216ed3ca9b350b61faa01fdafc68...      1      88\n",
       "a1270ac76125ff8e5ea8f42fc4daaec1bd8d9d0a5ea22ae...      1     128\n",
       "a6c8ffd085d4b194d8f9412bf90940f5e39b4a945261be6...      1     128\n",
       "cfc614ea75810d64d2b8da7ecbdda5de67e0b5f503aa84c...      1     128\n",
       "d13cd0e688020379fec04b4940882e1bac60ad912e2b908...      1     128\n",
       "d22dee81c32282ccd6323256aaf7cc21a359af514f698bf...      1     128\n",
       "c616f96a782ddd64f64c92121be08e33414e2a29f73ce0c...      1     128\n",
       "bugisss:gunas:78.58.61.37:e9ef0514f73cd4f6b6a03...      1      66\n",
       "f947a43f9753b50d241cdb5b7f7a3ee6a1fbb20c9e525c1...      1     128\n",
       "fb6c7e9c18f0842887a89d05faf534d1608a61a1c51d833...      1     128\n",
       "whiteastra216\",\"ph\":\"0fa7ca126a93ae415bbcb4158f...      1      85\n",
       "(828)674-9622,e10adc3949ba59abbe56e057f20f883e,...      1      56\n",
       "362e52e7e3cdd7a26c2a6f23428ff407b17ddcfffed76bd...      1     128\n",
       "5c41e3eb0171fdcae1292e290bdb5149ea4b379ac844821...      1      88\n",
       "obuxov740<cookie>s=1|l=7253796|p=93df524943271b...      1      78\n",
       "obuxov740<cookie:s=1|l=7253796|p=93df524943271b...      1      78\n",
       "8532342ef1103b2993c377f0dcabc8be0b10221db2958ea...      1      88\n",
       "a35d731a875af3a408ea3cc83c82a4ffd6cbb7b56e8fdac...      1     128\n",
       "c1caae3663144affa75f8f5277304fd67115058820de239...      1     128\n",
       "769a4e1123f465da424efa0c65797395fd032754eec7419...      1     128\n",
       "769A4E1123F465DA424EFA0C65797395FD032754EEC7419...      1     128\n",
       "C1CAAE3663144AFFA75F8F5277304FD67115058820DE239...      1     128\n",
       "0ff0c3e14970991a16f6bbcd1ea22d7f67eb9b1f56abfd6...      1      88"
      ]
     },
     "execution_count": 14,
     "metadata": {},
     "output_type": "execute_result"
    }
   ],
   "source": [
    "# get the rows where the length is greater than 50, there are some really weird passwords here...\n",
    "df.query(\"length > 50\")"
   ]
  },
  {
   "cell_type": "code",
   "execution_count": 15,
   "id": "2c84ec0c-5d2b-4d58-b85f-027c3ed1032d",
   "metadata": {},
   "outputs": [
    {
     "data": {
      "text/html": [
       "<div>\n",
       "<style scoped>\n",
       "    .dataframe tbody tr th:only-of-type {\n",
       "        vertical-align: middle;\n",
       "    }\n",
       "\n",
       "    .dataframe tbody tr th {\n",
       "        vertical-align: top;\n",
       "    }\n",
       "\n",
       "    .dataframe thead th {\n",
       "        text-align: right;\n",
       "    }\n",
       "</style>\n",
       "<table border=\"1\" class=\"dataframe\">\n",
       "  <thead>\n",
       "    <tr style=\"text-align: right;\">\n",
       "      <th></th>\n",
       "      <th>count</th>\n",
       "      <th>length</th>\n",
       "    </tr>\n",
       "  </thead>\n",
       "  <tbody>\n",
       "    <tr>\n",
       "      <th>dsd998</th>\n",
       "      <td>10</td>\n",
       "      <td>6</td>\n",
       "    </tr>\n",
       "    <tr>\n",
       "      <th>12345p</th>\n",
       "      <td>10</td>\n",
       "      <td>6</td>\n",
       "    </tr>\n",
       "    <tr>\n",
       "      <th>552200</th>\n",
       "      <td>10</td>\n",
       "      <td>6</td>\n",
       "    </tr>\n",
       "    <tr>\n",
       "      <th>albert</th>\n",
       "      <td>10</td>\n",
       "      <td>6</td>\n",
       "    </tr>\n",
       "    <tr>\n",
       "      <th>jessie</th>\n",
       "      <td>10</td>\n",
       "      <td>6</td>\n",
       "    </tr>\n",
       "    <tr>\n",
       "      <th>...</th>\n",
       "      <td>...</td>\n",
       "      <td>...</td>\n",
       "    </tr>\n",
       "    <tr>\n",
       "      <th>214214</th>\n",
       "      <td>5</td>\n",
       "      <td>6</td>\n",
       "    </tr>\n",
       "    <tr>\n",
       "      <th>654987</th>\n",
       "      <td>5</td>\n",
       "      <td>6</td>\n",
       "    </tr>\n",
       "    <tr>\n",
       "      <th>skippy</th>\n",
       "      <td>5</td>\n",
       "      <td>6</td>\n",
       "    </tr>\n",
       "    <tr>\n",
       "      <th>hateaa</th>\n",
       "      <td>5</td>\n",
       "      <td>6</td>\n",
       "    </tr>\n",
       "    <tr>\n",
       "      <th>851128</th>\n",
       "      <td>5</td>\n",
       "      <td>6</td>\n",
       "    </tr>\n",
       "  </tbody>\n",
       "</table>\n",
       "<p>1848 rows × 2 columns</p>\n",
       "</div>"
      ],
      "text/plain": [
       "        count  length\n",
       "dsd998     10       6\n",
       "12345p     10       6\n",
       "552200     10       6\n",
       "albert     10       6\n",
       "jessie     10       6\n",
       "...       ...     ...\n",
       "214214      5       6\n",
       "654987      5       6\n",
       "skippy      5       6\n",
       "hateaa      5       6\n",
       "851128      5       6\n",
       "\n",
       "[1848 rows x 2 columns]"
      ]
     },
     "execution_count": 15,
     "metadata": {},
     "output_type": "execute_result"
    }
   ],
   "source": [
    "# use a combined query with the keyword \"and\"\n",
    "df.query(\"length == 6 and (5 <= count <= 10)\")"
   ]
  },
  {
   "cell_type": "code",
   "execution_count": 16,
   "id": "9598a9ae-7140-4ee9-9dcb-dd20a01c7fd8",
   "metadata": {},
   "outputs": [
    {
     "data": {
      "text/html": [
       "<div>\n",
       "<style scoped>\n",
       "    .dataframe tbody tr th:only-of-type {\n",
       "        vertical-align: middle;\n",
       "    }\n",
       "\n",
       "    .dataframe tbody tr th {\n",
       "        vertical-align: top;\n",
       "    }\n",
       "\n",
       "    .dataframe thead th {\n",
       "        text-align: right;\n",
       "    }\n",
       "</style>\n",
       "<table border=\"1\" class=\"dataframe\">\n",
       "  <thead>\n",
       "    <tr style=\"text-align: right;\">\n",
       "      <th></th>\n",
       "      <th>count</th>\n",
       "      <th>length</th>\n",
       "    </tr>\n",
       "  </thead>\n",
       "  <tbody>\n",
       "    <tr>\n",
       "      <th>02e9f97b747bfca4ec2d50b9026119aaf2f77614</th>\n",
       "      <td>2</td>\n",
       "      <td>40</td>\n",
       "    </tr>\n",
       "    <tr>\n",
       "      <th>6006d2e489acac72b01fe81ecd8a519015e39a45</th>\n",
       "      <td>2</td>\n",
       "      <td>40</td>\n",
       "    </tr>\n",
       "    <tr>\n",
       "      <th>6a14b05e4c239b437606e223fb071e24f5bb3147</th>\n",
       "      <td>2</td>\n",
       "      <td>40</td>\n",
       "    </tr>\n",
       "    <tr>\n",
       "      <th>111111111111111111111111111111111111111</th>\n",
       "      <td>2</td>\n",
       "      <td>39</td>\n",
       "    </tr>\n",
       "    <tr>\n",
       "      <th>chuylizarragaysubandatierrasinaloense</th>\n",
       "      <td>2</td>\n",
       "      <td>37</td>\n",
       "    </tr>\n",
       "    <tr>\n",
       "      <th>6d9ff949640422493f3db836c3035c64</th>\n",
       "      <td>2</td>\n",
       "      <td>32</td>\n",
       "    </tr>\n",
       "    <tr>\n",
       "      <th>5d6a6b15c6a645c86abeadbb62e6940c</th>\n",
       "      <td>2</td>\n",
       "      <td>32</td>\n",
       "    </tr>\n",
       "    <tr>\n",
       "      <th>b0f8b3e58f093359fe1af416b5ea8ed6</th>\n",
       "      <td>2</td>\n",
       "      <td>32</td>\n",
       "    </tr>\n",
       "    <tr>\n",
       "      <th>e10adc3949ba59abbe56e057f20f883e</th>\n",
       "      <td>5</td>\n",
       "      <td>32</td>\n",
       "    </tr>\n",
       "    <tr>\n",
       "      <th>5a25e86cd45c68ef03fda1cd00296a72</th>\n",
       "      <td>2</td>\n",
       "      <td>32</td>\n",
       "    </tr>\n",
       "  </tbody>\n",
       "</table>\n",
       "</div>"
      ],
      "text/plain": [
       "                                          count  length\n",
       "02e9f97b747bfca4ec2d50b9026119aaf2f77614      2      40\n",
       "6006d2e489acac72b01fe81ecd8a519015e39a45      2      40\n",
       "6a14b05e4c239b437606e223fb071e24f5bb3147      2      40\n",
       "111111111111111111111111111111111111111       2      39\n",
       "chuylizarragaysubandatierrasinaloense         2      37\n",
       "6d9ff949640422493f3db836c3035c64              2      32\n",
       "5d6a6b15c6a645c86abeadbb62e6940c              2      32\n",
       "b0f8b3e58f093359fe1af416b5ea8ed6              2      32\n",
       "e10adc3949ba59abbe56e057f20f883e              5      32\n",
       "5a25e86cd45c68ef03fda1cd00296a72              2      32"
      ]
     },
     "execution_count": 16,
     "metadata": {},
     "output_type": "execute_result"
    }
   ],
   "source": [
    "# first apply the query to reduce the data frame to count > 1, then sort everything by the length and select the first ten passwords\n",
    "df.query(\"count > 1\").sort_values(\"length\", ascending=False).iloc[:10]"
   ]
  },
  {
   "cell_type": "code",
   "execution_count": null,
   "id": "c82aefe0-b604-49e7-a2dd-7c8308aa739b",
   "metadata": {},
   "outputs": [],
   "source": []
  },
  {
   "cell_type": "markdown",
   "id": "0a6e2378-5fd2-4832-bece-695e93cd3039",
   "metadata": {},
   "source": [
    "## Computing more password metrics\n",
    "Besides the count and the length of each password, it would be nice to have some more data for each password. In the previous notebooks you already worked with the digit sum that computes the sum of all digits in each password. Two more interesting values of passwords are the count of alphabetic characters and numeric characters. To compute these values, you just have to count the characters of the respective categories. See the following example password with an alphabetic character count of `4` and a numeric character count of `2`:\n",
    "```python\n",
    "password = \"stop12!?\"\n",
    "```\n",
    "\n",
    "- Compute the digit sum for each password in the `df.index` and assign the array as a new column to the data frame. You can reuse the function from the previous notebook.\n",
    "- Write two functions to count the alphabetic characters and numeric characters of a single password. Use this function to calculate the two values for all passwords, and assign them to the data frame as new columns.\n",
    "- Display the digit sum as a function of the numeric character count and as a function of the alphabetic character count. Can you already spot some correlation in the data?\n",
    "- EXTRA: Implement the function to count the special characters and also add the number of special characters as a new column to the data frame. "
   ]
  },
  {
   "cell_type": "code",
   "execution_count": 17,
   "id": "af8bb6af-6f3e-4b18-9b9b-b54ffc213ee2",
   "metadata": {},
   "outputs": [],
   "source": [
    "def compute_digit_sum(password):\n",
    "    digit_sum = 0\n",
    "    for char in password:\n",
    "        if char.isnumeric():\n",
    "            digit_sum += int(char)\n",
    "    return digit_sum"
   ]
  },
  {
   "cell_type": "code",
   "execution_count": 18,
   "id": "505fce47-7263-4c9a-8ad7-aba637e61ecf",
   "metadata": {},
   "outputs": [],
   "source": [
    "# only implement the functions to get the lists of alphabetic characters since you can easily compute their lengths with the function len()\n",
    "def get_alphabetic_characters(password):\n",
    "    return [character for character in password if character.isalpha()]\n",
    "\n",
    "def get_numeric_characters(password):\n",
    "    return [int(character) for character in password if character.isnumeric()]"
   ]
  },
  {
   "cell_type": "code",
   "execution_count": 19,
   "id": "c015f819-bf59-4553-9c4e-1488e9327df0",
   "metadata": {},
   "outputs": [],
   "source": [
    "# compute the digit sum and assign it as a new column\n",
    "digit_sum = np.array([compute_digit_sum(password) for password in df.index])\n",
    "df[\"digit_sum\"] = digit_sum"
   ]
  },
  {
   "cell_type": "code",
   "execution_count": 20,
   "id": "8e54796f-7309-432d-907a-d3d33dbb557c",
   "metadata": {},
   "outputs": [],
   "source": [
    "# count the alphabetic characters and numeric characters\n",
    "n_alphabetic = np.array([len(get_alphabetic_characters(password)) for password in df.index])\n",
    "n_numeric = np.array([len(get_numeric_characters(password)) for password in df.index])\n",
    "df[\"n_alphabetic\"] = n_alphabetic\n",
    "df[\"n_numeric\"] = n_numeric"
   ]
  },
  {
   "cell_type": "code",
   "execution_count": 21,
   "id": "749dd30a-445c-474f-8da1-ed864feec0a8",
   "metadata": {},
   "outputs": [
    {
     "data": {
      "text/plain": [
       "<Axes: xlabel='n_numeric', ylabel='digit_sum'>"
      ]
     },
     "execution_count": 21,
     "metadata": {},
     "output_type": "execute_result"
    },
    {
     "data": {
      "image/png": "[encoded data removed]",
      "text/plain": [
       "<Figure size 640x480 with 1 Axes>"
      ]
     },
     "metadata": {},
     "output_type": "display_data"
    }
   ],
   "source": [
    "# the digit sum will be greater with an increasing count of numeric characters\n",
    "df.plot(\"n_numeric\", \"digit_sum\", kind=\"scatter\")"
   ]
  },
  {
   "cell_type": "code",
   "execution_count": 22,
   "id": "40c71a8b-7280-4180-892d-443e5204066f",
   "metadata": {},
   "outputs": [
    {
     "data": {
      "text/plain": [
       "<Axes: xlabel='n_alphabetic', ylabel='digit_sum'>"
      ]
     },
     "execution_count": 22,
     "metadata": {},
     "output_type": "execute_result"
    },
    {
     "data": {
      "image/png": "[encoded data removed]",
      "text/plain": [
       "<Figure size 640x480 with 1 Axes>"
      ]
     },
     "metadata": {},
     "output_type": "display_data"
    }
   ],
   "source": [
    "# the digit sum appears to be anticorrelated to the alphabetic character count\n",
    "# this makes sense if you consider that alphabetic characters are taking away the \"character space\" from numeric characters in the passwords\n",
    "df.plot(\"n_alphabetic\", \"digit_sum\", kind=\"scatter\")"
   ]
  },
  {
   "cell_type": "code",
   "execution_count": null,
   "id": "59f2ea49-8c35-410b-920f-febebdcc315e",
   "metadata": {},
   "outputs": [],
   "source": []
  },
  {
   "cell_type": "markdown",
   "id": "826f3b50-4075-4e2d-950b-29f80f098725",
   "metadata": {},
   "source": [
    "## Statistics on data frame columns\n",
    "If your data frame only contains numerical data, you can directly use the data frame methods `.sum()`, `.min()`, `.max()`, `.mean()` etc. to run these computations. The result will be a dictionary-like variable where the keys are the names of the columns and the values are the results of the computations. You can also run the same methods on a series to immediately get a single return value.  \n",
    "\n",
    "Besides computations on single columns, you can also compute correlations across the data frame columns. The corresponding method `.corr()` will return a new data frame with the [Pearson correlation coefficient](https://en.wikipedia.org/wiki/Pearson_correlation_coefficient) between all the columns. If the coefficient is > 0, the two columns are positively correlated, and if the coefficient is < 0, the two columns are negatively correlated. The maximum correlations are reached at +1 and -1 respectively. Note that the Pearson correlation coefficient is only the default option of the method `.corr()`, there are also other correlation coefficients available and you can even compute your own correlation coefficient.\n",
    "\n",
    "- Try the computational methods on the entire data frame. Do the unique passwords contain more alphabetic characters or numeric characters on average?\n",
    "- Use the methods `.idxmax()` and `.idxmin()` to get the passwords (which are the indices of the data frame) for the maximum/minimum value of each column.\n",
    "- Compute the Pearson correlation coefficient across all the columns in the data frame. Look at the individual coefficients, are any of them surprising to you?\n",
    "- Plot the alphabetic character count as a function of the numeric character count. Can you see the strongly negative correlation in the data?"
   ]
  },
  {
   "cell_type": "code",
   "execution_count": 23,
   "id": "1cbf0750-abbf-456b-b844-57dc06cc9378",
   "metadata": {},
   "outputs": [
    {
     "data": {
      "text/plain": [
       "count             999851\n",
       "length           6769546\n",
       "digit_sum       14944438\n",
       "n_alphabetic     2924310\n",
       "n_numeric        3794175\n",
       "dtype: int64"
      ]
     },
     "execution_count": 23,
     "metadata": {},
     "output_type": "execute_result"
    }
   ],
   "source": [
    "# calculate the sum of all columns, this will for example give you the total sum of all digits\n",
    "df.sum()"
   ]
  },
  {
   "cell_type": "code",
   "execution_count": 24,
   "id": "bb026d56-4681-497b-99bb-678277f7656d",
   "metadata": {},
   "outputs": [
    {
     "data": {
      "text/plain": [
       "count            1.352934\n",
       "length           9.160117\n",
       "digit_sum       20.221857\n",
       "n_alphabetic     3.956989\n",
       "n_numeric        5.134035\n",
       "dtype: float64"
      ]
     },
     "execution_count": 24,
     "metadata": {},
     "output_type": "execute_result"
    }
   ],
   "source": [
    "# on average, there are more numeric characters than alphabetic characters in the unique passwords\n",
    "df.mean()"
   ]
  },
  {
   "cell_type": "code",
   "execution_count": 25,
   "id": "079a7db2-9507-458e-93fa-7e30eacfe635",
   "metadata": {},
   "outputs": [
    {
     "data": {
      "text/plain": [
       "count                                                      123456\n",
       "length          df6017dd257e11ae8882143ae2489f599f954021b984eb...\n",
       "digit_sum       0b1c76a6b676544e71c305b2f7f98a9692a0799f924795...\n",
       "n_alphabetic    a1270ac76125ff8e5ea8f42fc4daaec1bd8d9d0a5ea22a...\n",
       "n_numeric       0b1c76a6b676544e71c305b2f7f98a9692a0799f924795...\n",
       "dtype: object"
      ]
     },
     "execution_count": 25,
     "metadata": {},
     "output_type": "execute_result"
    }
   ],
   "source": [
    "# apart from the count, the passwords with the maximum values are some really weird ones...\n",
    "df.idxmax()"
   ]
  },
  {
   "cell_type": "code",
   "execution_count": 26,
   "id": "9d3a5457-d57c-487b-b615-1dadf9cc8177",
   "metadata": {},
   "outputs": [
    {
     "data": {
      "text/plain": [
       "count              mixi521\n",
       "length                   0\n",
       "digit_sum           000000\n",
       "n_alphabetic        123456\n",
       "n_numeric       qwertyuiop\n",
       "dtype: object"
      ]
     },
     "execution_count": 26,
     "metadata": {},
     "output_type": "execute_result"
    }
   ],
   "source": [
    "# the minimum values are not really well defined since there are many passwords with the count 1 or the length 1, looking at just a single password is not really useful\n",
    "df.idxmin()"
   ]
  },
  {
   "cell_type": "code",
   "execution_count": 27,
   "id": "8120cce6-885c-443c-a6da-9a729fcb79ed",
   "metadata": {},
   "outputs": [
    {
     "data": {
      "text/html": [
       "<div>\n",
       "<style scoped>\n",
       "    .dataframe tbody tr th:only-of-type {\n",
       "        vertical-align: middle;\n",
       "    }\n",
       "\n",
       "    .dataframe tbody tr th {\n",
       "        vertical-align: top;\n",
       "    }\n",
       "\n",
       "    .dataframe thead th {\n",
       "        text-align: right;\n",
       "    }\n",
       "</style>\n",
       "<table border=\"1\" class=\"dataframe\">\n",
       "  <thead>\n",
       "    <tr style=\"text-align: right;\">\n",
       "      <th></th>\n",
       "      <th>count</th>\n",
       "      <th>length</th>\n",
       "      <th>digit_sum</th>\n",
       "      <th>n_alphabetic</th>\n",
       "      <th>n_numeric</th>\n",
       "    </tr>\n",
       "  </thead>\n",
       "  <tbody>\n",
       "    <tr>\n",
       "      <th>count</th>\n",
       "      <td>1.000000</td>\n",
       "      <td>-0.008451</td>\n",
       "      <td>-0.004161</td>\n",
       "      <td>-0.003404</td>\n",
       "      <td>-0.002931</td>\n",
       "    </tr>\n",
       "    <tr>\n",
       "      <th>length</th>\n",
       "      <td>-0.008451</td>\n",
       "      <td>1.000000</td>\n",
       "      <td>0.304286</td>\n",
       "      <td>0.391059</td>\n",
       "      <td>0.353614</td>\n",
       "    </tr>\n",
       "    <tr>\n",
       "      <th>digit_sum</th>\n",
       "      <td>-0.004161</td>\n",
       "      <td>0.304286</td>\n",
       "      <td>1.000000</td>\n",
       "      <td>-0.647633</td>\n",
       "      <td>0.892483</td>\n",
       "    </tr>\n",
       "    <tr>\n",
       "      <th>n_alphabetic</th>\n",
       "      <td>-0.003404</td>\n",
       "      <td>0.391059</td>\n",
       "      <td>-0.647633</td>\n",
       "      <td>1.000000</td>\n",
       "      <td>-0.716774</td>\n",
       "    </tr>\n",
       "    <tr>\n",
       "      <th>n_numeric</th>\n",
       "      <td>-0.002931</td>\n",
       "      <td>0.353614</td>\n",
       "      <td>0.892483</td>\n",
       "      <td>-0.716774</td>\n",
       "      <td>1.000000</td>\n",
       "    </tr>\n",
       "  </tbody>\n",
       "</table>\n",
       "</div>"
      ],
      "text/plain": [
       "                 count    length  digit_sum  n_alphabetic  n_numeric\n",
       "count         1.000000 -0.008451  -0.004161     -0.003404  -0.002931\n",
       "length       -0.008451  1.000000   0.304286      0.391059   0.353614\n",
       "digit_sum    -0.004161  0.304286   1.000000     -0.647633   0.892483\n",
       "n_alphabetic -0.003404  0.391059  -0.647633      1.000000  -0.716774\n",
       "n_numeric    -0.002931  0.353614   0.892483     -0.716774   1.000000"
      ]
     },
     "execution_count": 27,
     "metadata": {},
     "output_type": "execute_result"
    }
   ],
   "source": [
    "# the digit sum has a small positive correlation with the length, but a strong positive correlation with the number of numeric characters\n",
    "# the number of alphabetic characters shows a negative correlation on the digit sum and the number of numeric characters\n",
    "df.corr()"
   ]
  },
  {
   "cell_type": "code",
   "execution_count": 28,
   "id": "0e318415-af9e-4f1b-9c5f-3eee04a14acf",
   "metadata": {},
   "outputs": [
    {
     "data": {
      "text/plain": [
       "<Axes: xlabel='n_numeric', ylabel='n_alphabetic'>"
      ]
     },
     "execution_count": 28,
     "metadata": {},
     "output_type": "execute_result"
    },
    {
     "data": {
      "image/png": "[encoded data removed]",
      "text/plain": [
       "<Figure size 640x480 with 1 Axes>"
      ]
     },
     "metadata": {},
     "output_type": "display_data"
    }
   ],
   "source": [
    "# the negative correlation is clearly visible between the numeric characters and the alphabetic characters\n",
    "df.plot(\"n_numeric\", \"n_alphabetic\", kind=\"scatter\")"
   ]
  },
  {
   "cell_type": "code",
   "execution_count": null,
   "id": "789840b8-910c-4df4-bc7e-d48ff74ffb69",
   "metadata": {},
   "outputs": [],
   "source": []
  },
  {
   "cell_type": "markdown",
   "id": "dc0bdc46-6927-478b-8acd-56fd9402fd69",
   "metadata": {},
   "source": [
    "## Creating multiple plots in one figure\n",
    "So far you have only used the functions `plt.plot()`, `plt.bar()` etc. that automatically create a figure with a single plot (which is also called axis). The Jupyter environment will automatically call the function `plt.show()` for you at the end of the cell that will actually display the figure/plot.  \n",
    "\n",
    "If you want to have multiple plots/axes in one figure, you have to define the shape of the figure beforehand. The corresponding function in matplotlib is `plt.subplots()` where you can specify how many rows and columns of axes you want to have in the figure. If you want to create three axes in a row, you can use the following code snippet:\n",
    "```python\n",
    "fig, axs = plt.subplots(ncols=3)\n",
    "```\n",
    "The function will return a figure and an array of axes and they will be automatically displayed if you execute the cell. Instead of calling `plt.plot()`, you can now plot something in a specific axes by calling `axs[0].plot()`. The other arguments will be the same, you can use the x-values, the y-data and some styling just like before. See the following code snippet that will create two axes with different linear functions:\n",
    "```python\n",
    "fig, axs = plt.subplots(ncols=2)\n",
    "axs[0].plot(np.arange(10))\n",
    "axs[1].plot(-np.arange(40))\n",
    "```\n",
    "\n",
    "If you want to plot something directly from a data frame, you have to tell the data frame method which axes you want to use. For example, if you want to plot the digit sum (in the column `\"digit_sum\"`) as a function of the number of alphabetic characters (in the column `\"n_alphabetic\"`) in the second axes of the figure, you can use the following code snippet:\n",
    "```python\n",
    "fig, axs = plt.subplots(ncols=3)\n",
    "df.plot(\"n_alphabetic\", \"digit_sum\", kind=\"scatter\", ax=axs[1])\n",
    "```\n",
    "If you want to change the overall size of the figure, you can pass a list with the width and the height to the parameter `figsize` of the function `plt.subplots()`. As an example, see the following code snippet will return a very wide figure with two axes:\n",
    "```python\n",
    "fig, axs = plt.subplots(ncols=2, figsize=[20, 4])\n",
    "```\n",
    "To save your figure at the end of the cell, you can use the method `fig.savefig()` with the name of the figure. See the following code snippet to create a new figure with three empty axes, and to save it with the name `\"plot.png\"` at the end of the cell:\n",
    "```python\n",
    "fig, axs = plt.subplots(ncols=3)\n",
    "fig.savefig(\"plot.png\")\n",
    "```\n",
    "\n",
    "- Create a new figure with three empty axes in one column. If you do not like the aspect ratio, use the parameter `figsize` to change the size of the figure.\n",
    "- Create a new figure with two axes in one row. Show the digit sum as a function of the password length in the first axes, and show the digit sum as a function of the number of numeric characters in the second axes. In both axes, display the maximum possible digit sum. Assign labels to all the data and add a legend.\n",
    "- Create a new figure with two axes in one row. Display different columns from the data frame in the two axes. Save the figure and open the file on your own device.\n",
    "- EXTRA: Create a figure with 4 axes in 2 rows. How do you have to index the `axs` to select the individual plots? Fill the axes with some data from the data frame. Call `fig.set_tight_layout(True)` if the axes are overlapping with the labels."
   ]
  },
  {
   "cell_type": "code",
   "execution_count": 33,
   "id": "bb5df864-250e-4927-836e-59ece1a6963a",
   "metadata": {},
   "outputs": [
    {
     "data": {
      "image/png": "[encoded data removed]",
      "text/plain": [
       "<Figure size 640x480 with 3 Axes>"
      ]
     },
     "metadata": {},
     "output_type": "display_data"
    }
   ],
   "source": [
    "# by specifying nrows=3, you will receive three equally sized axes in a column\n",
    "fig, axs = plt.subplots(nrows=3)"
   ]
  },
  {
   "cell_type": "code",
   "execution_count": 38,
   "id": "79fd2446-cc30-4fa6-bff4-47b1300fbaf0",
   "metadata": {},
   "outputs": [
    {
     "data": {
      "text/plain": [
       "<matplotlib.legend.Legend at 0x7f748c00c9d0>"
      ]
     },
     "execution_count": 38,
     "metadata": {},
     "output_type": "execute_result"
    },
    {
     "data": {
      "image/png": "[encoded data removed]",
      "text/plain": [
       "<Figure size 1200x400 with 2 Axes>"
      ]
     },
     "metadata": {},
     "output_type": "display_data"
    }
   ],
   "source": [
    "fig, axs = plt.subplots(ncols=2, figsize=[12, 4])\n",
    "\n",
    "# plot the digit sum as a function of the length in the first axes\n",
    "df.plot(\"length\", \"digit_sum\", kind=\"scatter\", ax=axs[0], label=\"data\")\n",
    "axs[0].plot(9*np.arange(df[\"length\"].max()), label=\"maximum\", color=\"orange\")\n",
    "axs[0].legend()\n",
    "\n",
    "# plot the digit sum as a function of the length in the second axes\n",
    "df.plot(\"n_numeric\", \"digit_sum\", kind=\"scatter\", ax=axs[1], label=\"data\")\n",
    "axs[1].plot(9*np.arange(df[\"n_numeric\"].max()), label=\"maximum\", color=\"orange\")\n",
    "axs[1].legend()"
   ]
  },
  {
   "cell_type": "code",
   "execution_count": 32,
   "id": "0e7a0aef-edd2-4955-a2b7-c0759cc3d7b0",
   "metadata": {},
   "outputs": [
    {
     "data": {
      "image/png": "[encoded data removed]",
      "text/plain": [
       "<Figure size 1200x400 with 2 Axes>"
      ]
     },
     "metadata": {},
     "output_type": "display_data"
    }
   ],
   "source": [
    "# display some data from the data frame in the two axes\n",
    "fig, axs = plt.subplots(ncols=2, figsize=[12, 4])\n",
    "df.plot(\"n_numeric\", \"digit_sum\", kind=\"scatter\", ax=axs[0])\n",
    "df.plot(\"n_alphabetic\", \"digit_sum\", kind=\"scatter\", ax=axs[1])\n",
    "fig.savefig(\"plot.png\")"
   ]
  },
  {
   "cell_type": "code",
   "execution_count": 31,
   "id": "da9c8a9a-a0f2-4e3c-ad54-90c4cb878a04",
   "metadata": {},
   "outputs": [
    {
     "data": {
      "text/plain": [
       "<Axes: xlabel='n_alphabetic', ylabel='length'>"
      ]
     },
     "execution_count": 31,
     "metadata": {},
     "output_type": "execute_result"
    },
    {
     "data": {
      "image/png": "[encoded data removed]",
      "text/plain": [
       "<Figure size 1200x800 with 4 Axes>"
      ]
     },
     "metadata": {},
     "output_type": "display_data"
    }
   ],
   "source": [
    "# you can select the separate axes with a row index and a column index, axs[0,1] will be the second axes in the first row\n",
    "fig, axs = plt.subplots(nrows=2, ncols=2, figsize=(12, 8))\n",
    "fig.set_tight_layout(True)\n",
    "df.plot(\"n_numeric\", \"digit_sum\", kind=\"scatter\", ax=axs[0,0])\n",
    "df.plot(\"n_alphabetic\", \"digit_sum\", kind=\"scatter\", ax=axs[0,1])\n",
    "df.plot(\"n_numeric\", \"length\", kind=\"scatter\", ax=axs[1,0])\n",
    "df.plot(\"n_alphabetic\", \"length\", kind=\"scatter\", ax=axs[1,1])"
   ]
  },
  {
   "cell_type": "code",
   "execution_count": null,
   "id": "8750303c-59d8-4a0d-9485-682e3c082872",
   "metadata": {},
   "outputs": [],
   "source": []
  },
  {
   "cell_type": "markdown",
   "id": "13d961ed-d18c-4c73-b845-d10673cff805",
   "metadata": {},
   "source": [
    "## Changing axes labels and titles\n",
    "When you create a figure and axes with the function `plt.subplots()`, you can no longer change the labels and the title of each axes with the functions `plt.xlabel()` etc. Instead, you have to use methods of the specific axes to change these properties. The methods for the xlabel, the ylabel and the title are called `.set_xlabel()`, `.set_ylabel()` and `set_title()`, and they each take a string parameter that will be the label/title. As an example, see the following code snippet that creates two axes with some labels and a title:\n",
    "```python\n",
    "fig, axs = plt.subplots(ncols=2)\n",
    "axs[0].set_title(\"Plot 1\")\n",
    "axs[1].set_title(\"Plot 2\")\n",
    "axs[0].set_xlabel(\"lengths\")\n",
    "axs[1].set_xlabel(\"digit sum\")\n",
    "axs[0].set_ylabel(\"count\")\n",
    "axs[1].set_ylabel(\"count\")\n",
    "```\n",
    "\n",
    "- Reproduce all plots from the previous exercise without using the data frame method `.plot()`. Instead, get the columns that you want to use in the plot from the data frame, and use the axes methods `.plot()`, `.scatter()`, etc. Make sure that you add all xlabels and ylabels, just like the data frame method would do for you automatically. And in addition to the xlabels and ylabels, add a title to each axes that describes the content of the axes."
   ]
  },
  {
   "cell_type": "code",
   "execution_count": null,
   "id": "75421f5a-f395-4b28-ba8c-448f78e523d1",
   "metadata": {},
   "outputs": [],
   "source": []
  }
 ],
 "metadata": {
  "kernelspec": {
   "display_name": "konstanz2023",
   "language": "python",
   "name": "konstanz2023"
  },
  "language_info": {
   "codemirror_mode": {
    "name": "ipython",
    "version": 3
   },
   "file_extension": ".py",
   "mimetype": "text/x-python",
   "name": "python",
   "nbconvert_exporter": "python",
   "pygments_lexer": "ipython3",
   "version": "3.11.5"
  }
 },
 "nbformat": 4,
 "nbformat_minor": 5
}
