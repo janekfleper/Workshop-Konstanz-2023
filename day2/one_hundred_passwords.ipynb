{
 "cells": [
  {
   "cell_type": "markdown",
   "id": "b151cf5c-5bde-4eeb-a1c9-3f313bc92b64",
   "metadata": {},
   "source": [
    "## Reading passwords from a file\n",
    "You are now going to start working with a tiny part of the actual password dataset. Whenever there is data saved in files, you need a way to load the data into your programming environment. In this case you have a plain text file with the first 100 passwords from the large dataset. You can open the file in a new tab to check (and edit) its content. Make sure to save the file after you changed something (and you want to keep those changes).  \n",
    "\n",
    "With the following code snippet you can open a file called `some_file.txt`, print the first line from the file, and close it again:\n",
    "```python\n",
    "with open(\"some_file.txt\") as f:\n",
    "    print(f.readline())\n",
    "```\n",
    "The method `f.readline()` returns the current line as a string and moves the file (with the name `f`) to the next line. If you call the method for a second time, you will get the second line from the file etc... You can call the method `f.readline()` as often as you want, but the returned strings will be empty if you have reached the end of the file.  \n",
    "\n",
    "It is a convention (again) to name the file `f`. If you want to change the name, you also have to use the new name in the indented block of the `with` statement.\n",
    "\n",
    "- Print the first 10 passwords from the file `100.txt`. Open the file in a new tab and compare the printed output to the first 10 lines.\n",
    "- The method `f.readlines()` reads the entire file `f` at once and returns a list of the individual lines. Assign the list to a new variable and check that its length matches the length of the file.\n",
    "- Take a closer look at a few passwords in the list and calculate their lengths. Is there anything \"wrong\" with the data in the list compared to the passwords in the file?"
   ]
  },
  {
   "cell_type": "code",
   "execution_count": null,
   "id": "0727e1a0-8fdf-4aaa-bb31-4586356b02f7",
   "metadata": {},
   "outputs": [],
   "source": []
  },
  {
   "cell_type": "markdown",
   "id": "3fca6f52-f743-4d14-b6bf-aebd461ed5b5",
   "metadata": {},
   "source": [
    "## Preprocessing the file data\n",
    "The reason why the password data was \"wrong\" in the last section was the newline character `\"\\n\"` at the end of the strings. Since there is not a good reason for a password to ever contain a newline character, the best approach is to remove it from the passwords before storing them in a list. If you want to remove the newline character `\"\\n\"` from each line of the file, you can use the method `line.strip()` (use the name of your string variable in place of `line`).\n",
    " \n",
    "- Print the first 10 passwords from the file again and remove the newline characters. The empty line after each password should be gone now.\n",
    "- Create an empty list, epen the file `100.txt` and iterate over the list returned from `f.readlines()`. Strip the newline character from each line before appending it to the empty list.\n",
    "- Check the lengths of a few passwords again to confirm that the data in the list is correct now.\n",
    "- EXTRA: Load all passwords from the file `100.txt` again and strip them in a list comprehension. The cell should have no more than two lines of code (commented lines `#` do not count)."
   ]
  },
  {
   "cell_type": "code",
   "execution_count": null,
   "id": "8287fdb4-fb65-4268-9578-685a68067bb7",
   "metadata": {},
   "outputs": [],
   "source": []
  },
  {
   "cell_type": "markdown",
   "id": "862e9f64-ce87-4e8e-92e6-b4edd9b3ed21",
   "metadata": {},
   "source": [
    "## Filtering the file data\n",
    "When you open the text file in a new tab, you can see that a few lines are empty (or look empty at least). If there are no characters left in a password after you have removed the newline character and whitespace characters, you do not want to keep the password since an empty string cannot be a valid password. If you have a string variable named `s`, there are two ways to check if it is empty:\n",
    "```python\n",
    "if s == \"\":\n",
    "    print(\"The string is empty\")\n",
    "\n",
    "if not s:\n",
    "    print(\"The string is still empty\")\n",
    "```\n",
    "The first option is quite intuitive. The string variable `s` is compared to an empty string with the operator `==` and the condition is `True` if the string is actually empty. The second option looks a bit weird at first sight, but this is the \"pythonic\" way of checking if a string is empty since it is then considered to be `False` in a boolean context. With the keyword `not` this condition is then negated to be `True` for empty strings. Instead of using an `if` statement, you can also pass any variable to the built-in function `bool()` to check its boolean value.\n",
    "\n",
    "- When would you expect a list to equate to `False`? Check if your hypothesis is true. What is the boolean value of the list `[False, False]`? Does the same approach work for dictionaries?\n",
    "- Numbers are also considered to be either `True` or `False`. There is only a single number that equates to `False`, can you find out which one it is?\n",
    "- Create an empty lists for the passwords, and iterate over all lines in the file `100.txt` again. Strip each line during the iteration but only append it to the new list if the line is not empty.\n",
    "- Check the length of the new list of passwords to see how many passwords were filtered out. Take a look at the file again to see if this number is correct.\n",
    "- EXTRA: Load the passwords from the file `100.txt` and filter them with a list comprehension. Why could this be considered as \"inefficient\" compared to the regular loop?"
   ]
  },
  {
   "cell_type": "code",
   "execution_count": null,
   "id": "789da89f-ccdf-43e0-a76f-cbde8876f657",
   "metadata": {},
   "outputs": [],
   "source": []
  },
  {
   "cell_type": "markdown",
   "id": "3ed1e229-54e0-4d27-a086-b4e7520c984c",
   "metadata": {},
   "source": [
    "## First password statistics\n",
    "With the preprocessed and filtered list of passwords you can now start to evaluate the data. As for the single password, the first value you have to compute is the length of each password. While the computation is simple thanks to the built-in function `len()`, the length data will be very important to filter and group the password data during the further analysis.\n",
    "\n",
    "- Store the lengths of the passwords in a new list. You can use a regular `for` loop or a list comprehension to iterate over the passwords.\n",
    "- Compute the average length of the passwords using built-in functions that you already know (no `for` loops are required here). Assign the result to a variable for later use.\n",
    "- What is the type of the average length of the passwords? You can pass any variable to the built-in function `type()` to check its type.\n",
    "- Compute the [(population) variance](https://en.wikipedia.org/wiki/Variance#Population_variance) of the password lengths. Use a list comprehension if possible. You can square a numeric variable named `x` using the expression `x**2`.\n",
    "- Take the square root of the population variance to compute the standard deviation of the password lengths. Instead of the operator `**` you can also use the built-in function `pow()`."
   ]
  },
  {
   "cell_type": "code",
   "execution_count": null,
   "id": "931db282-eca1-46eb-a5e1-93c029d6a538",
   "metadata": {},
   "outputs": [],
   "source": []
  },
  {
   "cell_type": "markdown",
   "id": "7ad1caaa-cce9-4e6a-a98f-9dfe77055c95",
   "metadata": {},
   "source": [
    "## Using arrays for numerical data\n",
    "In principle you could continue to use lists to store any kind of data related to the passwords. There are no restrictions on the type of the items stored in the list and you can even modify or slice the lists if you only want to work with a subset of the passwords. The downside is that lists are very limited when it comes to mathematical operations. As you could see during the last exercise, something as simple as computing the mean value is not directly implemented as a function or method. And the computation of the population variance even requires an iteration over the entire list.  \n",
    "\n",
    "To overcome this limitation of native Python lists, the package [NumPy](https://numpy.org/) provides so-called arrays that are designed to store homogeneous (and multi-dimensional) numerical data and to run (mathematical) operations on the data. To use the package you have to import it with the `import` statement:\n",
    "```python\n",
    "import numpy as np\n",
    "```\n",
    "Instead of just using `import numpy` it is convention to import it with the abbreviation `np`. You now have access to the entire NumPy package with the prefix `np.`.  \n",
    "\n",
    "- Import the NumPy package to your notebook. Write `np.` in a new cell and press tab to see all available functions etc... Try the autocompletion by typing some random letter(s).\n",
    "- Convert the list of password lengths to a NumPy array by passing it to `np.array()`. Use a different variable name for the array, since the list will otherwise be overwritten.\n",
    "- The array can be sliced and printed just like the list. Look at a few individual passwords and a few index ranges in the array and the list. Can you raise an `IndexError` with the array?\n",
    "- You can access the shape of an array variable `a` with the attribute `a.shape`. How does the output differ from the `len()` of a list or an array? Can you think of a reason for this difference?\n",
    "- EXTRA: The type of the data in the array is saved in the attribute `a.dtype`. Check the data type of the array of lengths and find out what it means.\n",
    "- EXTRA: You can pass the data type of the lengths array to `np.iinfo()` to get some more information. What happens if you try to assign a value outside of the allowed range to the array?"
   ]
  },
  {
   "cell_type": "code",
   "execution_count": null,
   "id": "71c0ed2d-230f-4686-99f1-2fb86ac49864",
   "metadata": {},
   "outputs": [],
   "source": []
  },
  {
   "cell_type": "markdown",
   "id": "ea7b8ac4-11c0-41b0-a3a9-0c12c1de4aa4",
   "metadata": {},
   "source": [
    "## EXTRA: Finding the best data type\n",
    "While NumPy arrays are already optimized to store numerical data, you can still do a lot of additional optimization manually. When you pass the list of password lengths to `np.array()`, an array with the dtype `np.int64` is returned. NumPy is able to correctly pick an integer data type since there are only integers in the list of lengths. However, NumPy will always pick the most general data type that correctly represents the data. Since the array will only contain lengths of passwords, we can further restrict the data type by specifying a data type when creating the array. Alternative you can get a copy of an existing array `a` with a different data type using the method `a.astype()`.  \n",
    "\n",
    "Disclaimer: For not even 100 passwords this optimization is not really appropriate yet. However, if you are working on millions of passwords, this optimization will save you a lot of memory.\n",
    "\n",
    "- Specify the requirements for the optimal data type of an array to store password lengths.\n",
    "- Check the available integer data types provided by NumPy. Which one is the best match for the specified requirements?\n",
    "- Create a new array from the lists or create a copy of the existing array using the new data type you picked.\n",
    "- Use the array attributes `size` and `itemsize` to compute the memory size of both arrays. How much memory did you save with the new data type?\n",
    "- Store the maximum allowed integer for the type `np.int64` in the variable `n_max`. Create an array using `np.array([n_max])` and check the data type. How does the data type of the array change if you use `n_max + 1` or `n_max * 10` instead?"
   ]
  },
  {
   "cell_type": "code",
   "execution_count": null,
   "id": "089bf58f-6995-4916-8582-ca9c829e974a",
   "metadata": {},
   "outputs": [],
   "source": []
  },
  {
   "cell_type": "markdown",
   "id": "5112420b-b039-4da4-b982-2aafff740c1e",
   "metadata": {},
   "source": [
    "## Basic array computations\n",
    "Since NumPy arrays are optimized for the handling of numerical data, they already offer a wide range of computations. You can directly use the arithmetic operators `+`, `-`, `*`, `/` and `**` with NumPy arrays, and there are quite a few methods/functions implemented to run computations on single arrays. The most common ones are `sum()`, `mean()`, `std()`, `max()` and `min()`. You can either use them as methods of an array or as functions from the NumPy package. See the following code snippets for the two options to compute the sum of an array  named `a`:\n",
    "```python\n",
    "a.sum()\n",
    "np.sum(a)\n",
    "```\n",
    "Which option you use is mainly a matter of preference. Most computations are implemented as functions and array methods, but less common computations might only be implemented as a function. In any case, you should avoid mixing the two options all the time since this can make your code more difficult to read/understand. Especially if you use different options for the same computation.  \n",
    "\n",
    "Some of the computational methods/functions are also implemented by built-in functions (e.g. `sum()` or `abs()`), but their NumPy equivalents will be much faster (easily up to 100x). You will not be able notice the runtime difference for ~100 passwords, but with larger datasets this becomes very relevant. And since there is no downside to using NumPy when you are dealing with numerical data, you should use it even for small amounts of data.\n",
    "\n",
    "- Try the operators `+`, `-`, `*`, `/` and `**` with the array of lengths and the number 3. How is each operator applied to the array and the scalar value?\n",
    "- What happens when you try to multiply the list of passwords with the number 3? Why is it not possible to divide the list by 3?\n",
    "- Use the computational methods/functions introduced in this exercise on the array of lengths. Check that the mean value and the standard deviation match the results you manually calculated from the list earlier.\n",
    "- EXTRA: Try two more computational methods/functions with the array of lengths. If you don't know where to start, you can type `lengths.` (use your array name here) in a cell and use tab completion to show you the available methods, or you can check the [NumPy user guide](https://numpy.org/doc/stable/user/quickstart.html#functions-and-methods-overview) for some inspiration. If you already have something in mind, you can also look online to find out if there is an implementation in the NumPy package."
   ]
  },
  {
   "cell_type": "code",
   "execution_count": null,
   "id": "6b8f3c60-d156-404b-b98a-3e5b10d790ef",
   "metadata": {},
   "outputs": [],
   "source": []
  },
  {
   "cell_type": "markdown",
   "id": "30657c84-6977-40b4-89e9-cf6d780b8054",
   "metadata": {},
   "source": [
    "## Filtering data in NumPy arrays\n",
    "\n",
    "In addition to the arithmetic operators you can also use the comparison operators `==`, `>`, `<=` etc. directly with NumPy arrays. If you want to compare an array to another array, they must have the same shape (or at least similar shapes), otherwise the comparison is not well defined. If you compare an array to a scalar value, the comparison is done element-wise. You can directly use the result of the comparison as an index of the array. This allows you to quickly filter data in NumPy arrays. See the following example that will return all lengths less than 5:\n",
    "```python\n",
    "lengths[lengths < 5]\n",
    "```\n",
    "The name of the array in this example is `lengths`. If you picked a different name for your array, you have to use that in place of `lengths`.\n",
    "\n",
    "- Use the equality operator with the array of lengths and the number 7. What are the unique values in the resulting array? What is the type of the data in the resulting array?\n",
    "- Get all lengths greater than 6 from the array and compute their average value. You should not need more than one line of code for this task.\n",
    "- Count the number of passwords that have the median length. Can you find more than one way to do this? Hint: In Python `True + True` equals `2`."
   ]
  },
  {
   "cell_type": "code",
   "execution_count": null,
   "id": "357d214d-c3d0-4d23-9131-4017b43dd3f0",
   "metadata": {},
   "outputs": [],
   "source": []
  },
  {
   "cell_type": "markdown",
   "id": "6cc014ea-67ed-4755-ab81-986d91c2aa15",
   "metadata": {},
   "source": [
    "## A simple plot\n",
    "The most popular Python package for plotting is [matplotlib](https://matplotlib.org/). You can do everything from a simple line plot to advanced groupplots, and the package works great together with NumPy. Instead of importing the entire package `matplotlib` it is usually sufficient if you import just `matplotlib.pyplot` since the most common functions are all implemented there. By convention you should rename the import to `plt`. You can then create a simple plot with the following function:\n",
    "```python\n",
    "plt.plot([x], y, [fmt])\n",
    "```\n",
    "where the square brackets indicate that both the `x` (values) and the `fmt` (format) are optional. If there is only one argument, it will be interpreted as the `y` (data). The format is a string that defines the shape of the markers, the line between the points and their color. By default, the plot will be a blue line without any markers. If you want to learn more about the parameters of the function `plt.plot()`, take a look at the docstring or the documentation at [https://matplotlib.org](https://matplotlib.org/stable/api/_as_gen/matplotlib.pyplot.plot.html).\n",
    "\n",
    "- Import the module `matplotlib.pyplot` and rename it to `plt`. What happens when you call the function `plt.plot()` without any data/arguments?\n",
    "- Compute the passsword length distribution with the function `np.bincount()`. If you do not understand the length distribution array, look at the examples in the docstring of the function.\n",
    "- Pass the length distribution data to the function `plt.plot()`. If you don't like the solid line, look for other formats in the docstring/documentation.\n",
    "- If you only passed the y-data to the plot function, why are the x-values correct anyway? What are the x-values when you plot the array of lengths instead of their distribution?"
   ]
  },
  {
   "cell_type": "code",
   "execution_count": null,
   "id": "09f171da-2f1c-4305-900e-d76176bc693f",
   "metadata": {},
   "outputs": [],
   "source": []
  },
  {
   "cell_type": "markdown",
   "id": "3e53a912-be02-488c-a001-f951b0ba57f3",
   "metadata": {},
   "source": [
    "## Improving the first plot\n",
    "If you want to display the length distribution of the passwords, a histogram would be much better suited than the simple plot from the previous exercise. In matplotlib you can do this with the function `plt.bar()`. Compared to `plt.plot()` this function requires both the x-values and the y-data (height) to display anything.\n",
    "\n",
    "- Look at the docstring or the [documentation](https://matplotlib.org/stable/api/_as_gen/matplotlib.pyplot.bar.html) of the function `plt.bar()`. Can you understand that both the x-values and the y-data (called height) are required?\n",
    "- Get the length distribution data without the leading zeros. Try to find a general solution that works for any array of password lengths.\n",
    "- Generate the x-values to accompany the histogram data. You can either pass the built-in `range()` to the function `np.array()` or you can use the function `np.arange()`.\n",
    "- Create a bar plot using the x-values and the reduced histogram data. If a ValueError is raised due to a shape mismatch, one of the arrays probably has the wrong length.\n",
    "- Add labels to the x-axis and the y-axis with the functions `plt.xlabel()` and `plt.ylabel()`. Also add a title with the function `plt.title()`.\n",
    "- Change one property of the bars to further improve the plot (based on your personal preference). You can pick something from the docstring of `plt.bar()` or you can find something else online."
   ]
  },
  {
   "cell_type": "code",
   "execution_count": null,
   "id": "2f148567-415a-47ae-944a-be864192820e",
   "metadata": {},
   "outputs": [],
   "source": []
  },
  {
   "cell_type": "markdown",
   "id": "8b464c0d-26a1-4832-9cb7-ec230d59f988",
   "metadata": {},
   "source": [
    "## Readable and reusable code with functions\n",
    "So far you have directly written and executed your code in the cells, which is one of the big advantages of the Jupyter environment. This was a perfectly fine approach since most of the tasks required just a few lines of code and you never had to use more than one for-loop. Wrapping a task in a function makes sense as soon you have to repeat the task many times. So far all the required computational tasks were already implemented in native Python functions (e.g. `len()` or `sum()`) and in the NumPy package (e.g. `np.mean()` or `np.std()`).  \n",
    "If you want to compute the digit sums of all passwords, there is no function available in native Python or NumPy. Implementing the computation of the digit sum in a function will therefore make your code a lot more readable and reusable. You can just call `compute_digit_sum(password)` for every password in the dataset and you do not have to recall the implementation of the computation of the digit sum every time.  \n",
    "The simplest function only requires a name and one indented line of code. In most cases you also want the function to accept parameters and to return one value (or multiple values). You can use the following template to write your own function for the computation of the sum of digits:\n",
    "```python\n",
    "def compute_digit_sum(password):\n",
    "    digit_sum = \n",
    "    \n",
    "    return digit_sum\n",
    "```\n",
    "The parameter is called `password` and it is only defined in the scope of the function (indicated by the indentation). The keyword `return` is followed by the computed digit sum that you want to return from the function.\n",
    "\n",
    "- Recall how the computation of the sum of digits worked. You can either copy the cell from the previous notebook or you can rewrite the computation.\n",
    "- Implement the computation as a function. You can use the template above or you can write the function from scratch.\n",
    "- Compute the sum of digits for all the passwords and store the result in a NumPy array. You can store it in a list first, but the final result must be a NumPy array.\n",
    "- Display the digit sum data in a new plot. What would be suitable data to use for the x-values? Label the axes, give the plot a title and modify a few plot properties to your liking.\n",
    "- EXTRA: If you are curious, you can try to write the computation of the sum of digits for all passwords without a function. Do you agree that using the function increases the readability?"
   ]
  },
  {
   "cell_type": "code",
   "execution_count": null,
   "id": "2842d3ef-42b2-4dab-ae1e-a9a941231f4c",
   "metadata": {},
   "outputs": [],
   "source": []
  },
  {
   "cell_type": "markdown",
   "id": "26647cfc-8fb7-496e-b474-0875dadcf3f5",
   "metadata": {},
   "source": [
    "## Labeling data in plots\n",
    "When you have multiple lines and/or markers in a single plot, you want to label the data and display the labels in a legend. In matplotlib all the plot functions such as `plt.plot()`, `plt.bar()` etc. have the string parameter `label` that allows you to label the data. You can then add a legend to the plot where the markers/lines will be displayed along with their labels. See the following code snippet that creates a simple line plot with a label and a legend:\n",
    "```python\n",
    "plt.plot(-np.arange(10) / 2, \"r-\", label=\"something linear\")\n",
    "plt.legend()\n",
    "```\n",
    "All labels that are assigned in the same cell before calling `plt.legend()` will be included in the legend. You should therefore call `plt.legend()` at tne end of a cell in most cases. If you want to exclude something from the legend, just omit the parameter `label` in that function.  \n",
    "\n",
    "To include some general information about the dataset in a label or a title, you can use string formatting to include variables in a string. The recommended way is to use so-called f-strings where the variables are just written directly in the string. As an example, consider a plot where the length distribution of the passwords with a digit sum lower than the value of the variable `max_digit_sum` is shown. You can then use the variable `max_digit_sum` to create the following title:\n",
    "```python\n",
    "plt.title(f\"Length distribution of passwords with a digit sum lower than {max_digit_sum}\")\n",
    "```\n",
    "\n",
    "- Create an f-string that presents a password from the dataset including all the properties of the password that you have computed in this notebook.\n",
    "- Plot the digit sums as a function of the password length and label the axes accordingly. Use a reasonable format to display the data.\n",
    "- Compute the maximum possible digit sum as a function of the password length and include this in the plot by calling `plt.plot()` again.\n",
    "- Assign labels to all the data with the `label` parameter and add a legend to the plot. How can you change the position of the legend in the plot?\n",
    "- Add a title to the plot that includes the number of passwords in the dataset. The title should still be correct if you run the entire notebook with a different dataset."
   ]
  },
  {
   "cell_type": "code",
   "execution_count": null,
   "id": "f724912b-fbd3-41ca-afde-5fa28112bc14",
   "metadata": {},
   "outputs": [],
   "source": []
  },
  {
   "cell_type": "markdown",
   "id": "00bb75bc-bafd-4c66-82c3-a6fedf15a8e4",
   "metadata": {},
   "source": [
    "## Counting characters\n",
    "In this exercise you are going to count the characters of all passwords you have read from the file in a single dictionary. As a reminder, the count of a character tells you how often this character appeared in the passwords of your dataset. If you have the following list of passwords:\n",
    "```\n",
    "passwords = [\"abc\", \"dac\", \"bba\"]\n",
    "```\n",
    "the dictionary where the characters are counted should be `{\"a\": 3, \"b\": 3\", \"c\": 2, \"d\": 1}`.\n",
    "\n",
    "- Start with an empty dictionary to store the character counts. As before, a character should only appear in the dictionary if it has a count of at least 1.\n",
    "- Iterate over the passwords and then iterate over the characters of each password in two (stacked) `for` loops. Count the characters in the dictionary as you did for the single password in the previous notebook.\n",
    "- Use the built-in function `max()` to get the maximum value from the dictionary. Iterate over the dictionary to find the key that corresponds to the maximum value.\n",
    "- Visualize the character counts in a bar plot. Label the axes and pick a descriptive title.\n",
    "- Create three new dictionaries to separate the counts of the alphabetic characters, the numeric characters and the special characters. Create a bar plot for each one and label it accordingly."
   ]
  },
  {
   "cell_type": "code",
   "execution_count": null,
   "id": "cc27415d-677c-40cc-8c8e-617d969ff9d0",
   "metadata": {},
   "outputs": [],
   "source": []
  },
  {
   "cell_type": "markdown",
   "id": "1fc04c67-a13e-4ebb-9a53-f6be88c41f3f",
   "metadata": {
    "jp-MarkdownHeadingCollapsed": true
   },
   "source": [
    "## EXTRA: Sorting the character counts\n",
    "The plots in the previous exercise look a bit messy since the character count data is not ordered in any reasonable way. Due to the iteration over the passwords and the characters, the characters are currently just ordered by their first occurrence in the password dataset. For all three categories it would be nice to sort the values in descending order such that the characters are ordered by their frequencies from left to right in the plot. Alternatively, you could also sort the alphabetic data by the keys in alphabetic order (meaning \"A\" to \"Z\"), and you could sort the numeric data by the keys in numeric order (meaning \"0\" to \"9\").  \n",
    "\n",
    "There are two options to approach the sorting. You can either use the native Python function `sorted()` or you can make use of the NumPy package and the functions `np.sort()` and `np.argsort()`. If you want to try the former option, read the section on using the `key` parameter in the `sorted()` function [here](https://realpython.com/sort-python-dictionary/#using-the-key-parameter-and-lambda-functions). If you want to use the NumPy approach, just read the remaining instructions in this cell.  \n",
    "\n",
    "Even though NumPy is optimized for numerical data, the sorting functions also work for string data. If you sort an array of strings, it is ordered alphabetically from \"A\" to \"Z\" based on the first character in each string. Even though this might sound a bit complicated, this approach is used whenever strings have to be sorted, for example books in a library. The catch here is that you have to sort the keys together with the values, but to use the NumPy functions you need to separate the keys and values into two arrays. Note that you cannot directly create arrays from the dictionary keys and dictionary values, you have to pass them to the built-in function `list()` before turning them into an array:\n",
    "```python\n",
    "keys = np.array(list(alphabetic_counts.keys()))\n",
    "values = np.array(list(alphabetic_counts.values()))\n",
    "```\n",
    "The function `np.sort()` can sort the arrays individually but if you want to keep the arrays aligned during the sorting, you have to use the function `np.argsort()`. Instead of the sorted array, this function will return indices that you can use to sort both arrays (the keys and the values).\n",
    "\n",
    "- Start with the alphabetic character counts, sort them by their keys and show the sorted data in a bar plot. Use either of the two options mentioned above.\n",
    "- Sort the numeric character counts by the keys and by the values. Display your results in two different plots.\n",
    "- Sort the three dictionaries individually by their values and merge the data again. You can then display the three categories in a single plot."
   ]
  },
  {
   "cell_type": "code",
   "execution_count": null,
   "id": "916a7b6c-e9e0-4669-be6d-b5dd064384fe",
   "metadata": {},
   "outputs": [],
   "source": []
  }
 ],
 "metadata": {
  "kernelspec": {
   "display_name": "konstanz2023",
   "language": "python",
   "name": "konstanz2023"
  },
  "language_info": {
   "codemirror_mode": {
    "name": "ipython",
    "version": 3
   },
   "file_extension": ".py",
   "mimetype": "text/x-python",
   "name": "python",
   "nbconvert_exporter": "python",
   "pygments_lexer": "ipython3",
   "version": "3.11.5"
  }
 },
 "nbformat": 4,
 "nbformat_minor": 5
}
