{
 "cells": [
  {
   "cell_type": "markdown",
   "id": "b151cf5c-5bde-4eeb-a1c9-3f313bc92b64",
   "metadata": {},
   "source": [
    "## Reading passwords from a file\n",
    "You are now going to start working with a tiny part of the actual password dataset. Whenever there is data saved in files, you need a way to load the data into your programming environment. In this case you have a plain text file with the first 100 passwords from the large dataset. You can open the file in a new tab to check (and edit) its content. Make sure to save the file after you changed something (and you want to keep those changes).  \n",
    "\n",
    "With the following code snippet you can open a file called `some_file.txt`, print the first line from the file, and close it again:\n",
    "```python\n",
    "with open(\"some_file.txt\") as f:\n",
    "    print(f.readline())\n",
    "```\n",
    "The method `f.readline()` returns the current line as a string and moves the file (with the name `f`) to the next line. If you call the method for a second time, you will get the second line from the file etc... You can call the method `f.readline()` as often as you want, but the returned strings will be empty if you have reached the end of the file.  \n",
    "\n",
    "It is a convention (again) to name the file `f`. If you want to change the name, you also have to use the new name in the indented block of the `with` statement.\n",
    "\n",
    "- Print the first 10 passwords from the file `100.txt`. Open the file in a new tab and compare the printed output to the first 10 lines.\n",
    "- The method `f.readlines()` reads the entire file `f` at once and returns a list of the individual lines. Assign the list to a new variable and check that its length matches the length of the file.\n",
    "- Take a closer look at a few passwords in the list and calculate their lengths. Is there anything \"wrong\" with the data in the list compared to the passwords in the file?"
   ]
  },
  {
   "cell_type": "code",
   "execution_count": 1,
   "id": "c464dfb4-8007-4d38-b0ee-cfc4fbbb30db",
   "metadata": {},
   "outputs": [
    {
     "name": "stdout",
     "output_type": "stream",
     "text": [
      "lfc\n",
      "\n",
      "LFL870206\n",
      "\n",
      "123abc\n",
      "\n",
      "123abc@\n",
      "\n",
      "teh-cnt\n",
      "\n",
      "sweet1\n",
      "\n",
      "hfrtnxbr\n",
      "\n",
      "25bush\n",
      "\n",
      "5172980a\n",
      "\n",
      "north33\n",
      "\n"
     ]
    }
   ],
   "source": [
    "# the passwords match the file content but there are empty lines printed after the passwords\n",
    "with open(\"100.txt\") as f:\n",
    "    # count to 10 with the for loop\n",
    "    for i in range(10):\n",
    "        print(f.readline())"
   ]
  },
  {
   "cell_type": "code",
   "execution_count": 2,
   "id": "9c16e6cf-c831-44b5-800f-dca4f5348fc3",
   "metadata": {},
   "outputs": [
    {
     "data": {
      "text/plain": [
       "100"
      ]
     },
     "execution_count": 2,
     "metadata": {},
     "output_type": "execute_result"
    }
   ],
   "source": [
    "# store the entire file in the 'passwords' list\n",
    "with open(\"100.txt\") as f:\n",
    "    passwords = f.readlines()\n",
    "len(passwords)"
   ]
  },
  {
   "cell_type": "code",
   "execution_count": 3,
   "id": "42d5f0c2-0a99-492c-8060-4c097a39b992",
   "metadata": {},
   "outputs": [
    {
     "data": {
      "text/plain": [
       "('sweet1\\n', 7)"
      ]
     },
     "execution_count": 3,
     "metadata": {},
     "output_type": "execute_result"
    }
   ],
   "source": [
    "# there is the character \"\\n\" at the end of the passwords, this causes the length to be off by 1\n",
    "i = 5\n",
    "passwords[i], len(passwords[i])"
   ]
  },
  {
   "cell_type": "code",
   "execution_count": null,
   "id": "0727e1a0-8fdf-4aaa-bb31-4586356b02f7",
   "metadata": {},
   "outputs": [],
   "source": []
  },
  {
   "cell_type": "markdown",
   "id": "3fca6f52-f743-4d14-b6bf-aebd461ed5b5",
   "metadata": {},
   "source": [
    "## Preprocessing the file data\n",
    "The reason why the password data was \"wrong\" in the last section was the newline character `\"\\n\"` at the end of the strings. Since there is not a good reason for a password to ever contain a newline character, the best approach is to remove it from the passwords before storing them in a list. If you want to remove the newline character `\"\\n\"` from each line of the file, you can use the method `line.strip()` (use the name of your string variable in place of `line`).\n",
    " \n",
    "- Print the first 10 passwords from the file again and remove the newline characters. The empty line after each password should be gone now.\n",
    "- Create an empty list, epen the file `100.txt` and iterate over the list returned from `f.readlines()`. Strip the newline character from each line before appending it to the empty list.\n",
    "- Check the lengths of a few passwords again to confirm that the data in the list is correct now.\n",
    "- EXTRA: Load all passwords from the file `100.txt` again and strip them in a list comprehension. The cell should have no more than two lines of code (commented lines `#` do not count)."
   ]
  },
  {
   "cell_type": "code",
   "execution_count": 4,
   "id": "555e1859-86f0-4457-a510-65ef1d4e169a",
   "metadata": {},
   "outputs": [
    {
     "name": "stdout",
     "output_type": "stream",
     "text": [
      "lfc\n",
      "LFL870206\n",
      "123abc\n",
      "123abc@\n",
      "teh-cnt\n",
      "sweet1\n",
      "hfrtnxbr\n",
      "25bush\n",
      "5172980a\n",
      "north33\n"
     ]
    }
   ],
   "source": [
    "# you can call the method strip() directly on each string returned by f.readline()\n",
    "with open(\"100.txt\") as f:\n",
    "    for i in range(10):\n",
    "        print(f.readline().strip())"
   ]
  },
  {
   "cell_type": "code",
   "execution_count": 5,
   "id": "4cb072f1-765b-4c96-a8f9-0f24855df1c2",
   "metadata": {},
   "outputs": [],
   "source": [
    "# create an empty list\n",
    "passwords = []\n",
    "with open(\"100.txt\") as f:\n",
    "    # instead of getting printed, the lines are appended to the list of passwords\n",
    "    for line in f.readlines():\n",
    "        passwords.append(line.strip())"
   ]
  },
  {
   "cell_type": "code",
   "execution_count": 6,
   "id": "e20b0b3f-4f9d-42b7-a634-d96e59424d17",
   "metadata": {},
   "outputs": [
    {
     "data": {
      "text/plain": [
       "('fffff', 5)"
      ]
     },
     "execution_count": 6,
     "metadata": {},
     "output_type": "execute_result"
    }
   ],
   "source": [
    "# the newline character \"\\n\" is gone now and the length is correct\n",
    "i = 99\n",
    "passwords[i], len(passwords[i])"
   ]
  },
  {
   "cell_type": "code",
   "execution_count": 7,
   "id": "92f1e58e-42e9-4978-8203-dbfabff3a191",
   "metadata": {},
   "outputs": [],
   "source": [
    "with open(\"100.txt\") as f:\n",
    "    passwords = [line.strip() for line in f.readlines()]"
   ]
  },
  {
   "cell_type": "code",
   "execution_count": null,
   "id": "8287fdb4-fb65-4268-9578-685a68067bb7",
   "metadata": {},
   "outputs": [],
   "source": []
  },
  {
   "cell_type": "markdown",
   "id": "862e9f64-ce87-4e8e-92e6-b4edd9b3ed21",
   "metadata": {},
   "source": [
    "## Filtering the file data\n",
    "When you open the text file in a new tab, you can see that a few lines are empty (or look empty at least). If there are no characters left in a password after you have removed the newline character and whitespace characters, you do not want to keep the password since an empty string cannot be a valid password. If you have a string variable named `s`, there are two ways to check if it is empty:\n",
    "```python\n",
    "if s == \"\":\n",
    "    print(\"The string is empty\")\n",
    "\n",
    "if not s:\n",
    "    print(\"The string is still empty\")\n",
    "```\n",
    "The first option is quite intuitive. The string variable `s` is compared to an empty string with the operator `==` and the condition is `True` if the string is actually empty. The second option looks a bit weird at first sight, but this is the \"pythonic\" way of checking if a string is empty since it is then considered to be `False` in a boolean context. With the keyword `not` this condition is then negated to be `True` for empty strings. Instead of using an `if` statement, you can also pass any variable to the built-in function `bool()` to check its boolean value.\n",
    "\n",
    "- When would you expect a list to equate to `False`? Check if your hypothesis is true. What is the boolean value of the list `[False, False]`? Does the same approach work for dictionaries?\n",
    "- Numbers are also considered to be either `True` or `False`. There is only a single number that equates to `False`, can you find out which one it is?\n",
    "- Create an empty lists for the passwords, and iterate over all lines in the file `100.txt` again. Strip each line during the iteration but only append it to the new list if the line is not empty.\n",
    "- Check the length of the new list of passwords to see how many passwords were filtered out. Take a look at the file again to see if this number is correct.\n",
    "- EXTRA: Load the passwords from the file `100.txt` and filter them with a list comprehension. Why could this be considered as \"inefficient\" compared to the regular loop?"
   ]
  },
  {
   "cell_type": "code",
   "execution_count": 8,
   "id": "a337d6ba-d8c9-4adb-87be-72065ad23f09",
   "metadata": {},
   "outputs": [
    {
     "data": {
      "text/plain": [
       "False"
      ]
     },
     "execution_count": 8,
     "metadata": {},
     "output_type": "execute_result"
    }
   ],
   "source": [
    "# only an empty list is considered False, similar to the empty string \n",
    "l = []\n",
    "bool(l)"
   ]
  },
  {
   "cell_type": "code",
   "execution_count": 9,
   "id": "96a6e324-5955-4df5-904f-945cdb141810",
   "metadata": {},
   "outputs": [
    {
     "data": {
      "text/plain": [
       "True"
      ]
     },
     "execution_count": 9,
     "metadata": {},
     "output_type": "execute_result"
    }
   ],
   "source": [
    "# the list is equal to True since it is not empty, it does not matter what the values of the list elements are\n",
    "l = [False, False]\n",
    "bool(l)"
   ]
  },
  {
   "cell_type": "code",
   "execution_count": 10,
   "id": "6642ad63-2480-4b56-9510-656224e4f763",
   "metadata": {},
   "outputs": [
    {
     "data": {
      "text/plain": [
       "True"
      ]
     },
     "execution_count": 10,
     "metadata": {},
     "output_type": "execute_result"
    }
   ],
   "source": [
    "# dictionaries work just like lists, they are only False if they are completely empty\n",
    "d = {\"a\":1, \"b\":2, \"c\":3}\n",
    "bool(d)"
   ]
  },
  {
   "cell_type": "code",
   "execution_count": 11,
   "id": "6262ac87-e1bb-4c7a-a721-505a69e9835a",
   "metadata": {},
   "outputs": [
    {
     "data": {
      "text/plain": [
       "True"
      ]
     },
     "execution_count": 11,
     "metadata": {},
     "output_type": "execute_result"
    }
   ],
   "source": [
    "# only the number 0 equates to False, every other number is considered to be True\n",
    "n = 7\n",
    "bool(n)"
   ]
  },
  {
   "cell_type": "code",
   "execution_count": 12,
   "id": "e1de35de-2fcc-4d8d-9381-5f2c1b968e75",
   "metadata": {},
   "outputs": [],
   "source": [
    "passwords = []\n",
    "with open(\"100.txt\") as f:\n",
    "    for line in f.readlines():\n",
    "        # keep the stripped in line in a variable ...\n",
    "        password = line.strip()\n",
    "        # ... but only append it to the list if it is not empty\n",
    "        if password:\n",
    "            passwords.append(password)"
   ]
  },
  {
   "cell_type": "code",
   "execution_count": 13,
   "id": "a990bf08-b1f0-42b4-853d-926b24b75a2b",
   "metadata": {},
   "outputs": [
    {
     "data": {
      "text/plain": [
       "97"
      ]
     },
     "execution_count": 13,
     "metadata": {},
     "output_type": "execute_result"
    }
   ],
   "source": [
    "# there are 97 passwords in the list, which agrees with the three empty lines in the data file\n",
    "len(passwords)"
   ]
  },
  {
   "cell_type": "code",
   "execution_count": 14,
   "id": "cab1558e-99fa-473a-82b6-526e50f153db",
   "metadata": {},
   "outputs": [],
   "source": [
    "# each (non-empty) line has to be stripped twice\n",
    "with open(\"100.txt\") as f:\n",
    "    passwords = [line.strip() for line in f.readlines() if line.strip()]"
   ]
  },
  {
   "cell_type": "code",
   "execution_count": null,
   "id": "789da89f-ccdf-43e0-a76f-cbde8876f657",
   "metadata": {},
   "outputs": [],
   "source": []
  },
  {
   "cell_type": "markdown",
   "id": "3ed1e229-54e0-4d27-a086-b4e7520c984c",
   "metadata": {},
   "source": [
    "## First password statistics\n",
    "With the preprocessed and filtered list of passwords you can now start to evaluate the data. As for the single password, the first value you have to compute is the length of each password. While the computation is simple thanks to the built-in function `len()`, the length data will be very important to filter and group the password data during the further analysis.\n",
    "\n",
    "- Store the lengths of the passwords in a new list. You can use a regular `for` loop or a list comprehension to iterate over the passwords.\n",
    "- Compute the average length of the passwords using built-in functions that you already know (no `for` loops are required here). Assign the result to a variable for later use.\n",
    "- What is the type of the average length of the passwords? You can pass any variable to the built-in function `type()` to check its type.\n",
    "- Compute the [(population) variance](https://en.wikipedia.org/wiki/Variance#Population_variance) of the password lengths. Use a list comprehension if possible. You can square a numeric variable named `x` using the expression `x**2`.\n",
    "- Take the square root of the population variance to compute the standard deviation of the password lengths. Instead of the operator `**` you can also use the built-in function `pow()`."
   ]
  },
  {
   "cell_type": "code",
   "execution_count": 15,
   "id": "a0d952b2-5d52-49d6-88ee-c71151cb4a68",
   "metadata": {},
   "outputs": [],
   "source": [
    "# regular for loop\n",
    "password_lengths = []\n",
    "for password in passwords:\n",
    "    password_lengths.append(len(password))"
   ]
  },
  {
   "cell_type": "code",
   "execution_count": 16,
   "id": "31ad8eaf-43f4-441c-9318-f61a97723445",
   "metadata": {},
   "outputs": [],
   "source": [
    "# list comprehension\n",
    "password_lengths = [len(password) for password in passwords]"
   ]
  },
  {
   "cell_type": "code",
   "execution_count": 17,
   "id": "4f7fea4d-06a2-4889-8b14-c7ac5f19fd04",
   "metadata": {},
   "outputs": [
    {
     "data": {
      "text/plain": [
       "7.845360824742268"
      ]
     },
     "execution_count": 17,
     "metadata": {},
     "output_type": "execute_result"
    }
   ],
   "source": [
    "# the sum of all lengths divided by the number of lengths is the average length\n",
    "length_average = sum(password_lengths) / len(password_lengths)\n",
    "length_average"
   ]
  },
  {
   "cell_type": "code",
   "execution_count": 18,
   "id": "abf40a66-0655-4e6c-8548-4426ab153869",
   "metadata": {},
   "outputs": [
    {
     "data": {
      "text/plain": [
       "float"
      ]
     },
     "execution_count": 18,
     "metadata": {},
     "output_type": "execute_result"
    }
   ],
   "source": [
    "# the length_average is of type float which corresponds to a real number from mathematics\n",
    "type(length_average)"
   ]
  },
  {
   "cell_type": "code",
   "execution_count": 19,
   "id": "7d0e6c7f-c841-4e6e-a4c1-01813cb8ae29",
   "metadata": {},
   "outputs": [
    {
     "data": {
      "text/plain": [
       "3.161653735784886"
      ]
     },
     "execution_count": 19,
     "metadata": {},
     "output_type": "execute_result"
    }
   ],
   "source": [
    "# the population variance is calculated from the average squared deviation from the average length\n",
    "length_variance = sum([(length - length_average)**2 for length in password_lengths]) / len(password_lengths)\n",
    "length_variance"
   ]
  },
  {
   "cell_type": "code",
   "execution_count": 20,
   "id": "3e368daf-acda-40bd-9b49-69123eca158c",
   "metadata": {},
   "outputs": [
    {
     "data": {
      "text/plain": [
       "(1.778103972152609, 1.778103972152609, 1.778103972152609)"
      ]
     },
     "execution_count": 20,
     "metadata": {},
     "output_type": "execute_result"
    }
   ],
   "source": [
    "# you can take the square root by using the exponent 1/2 or 0.5\n",
    "length_variance**(1/2), length_variance**0.5, pow(length_variance, 0.5)"
   ]
  },
  {
   "cell_type": "code",
   "execution_count": null,
   "id": "931db282-eca1-46eb-a5e1-93c029d6a538",
   "metadata": {},
   "outputs": [],
   "source": []
  },
  {
   "cell_type": "markdown",
   "id": "7ad1caaa-cce9-4e6a-a98f-9dfe77055c95",
   "metadata": {},
   "source": [
    "## Using arrays for numerical data\n",
    "In principle you could continue to use lists to store any kind of data related to the passwords. There are no restrictions on the type of the items stored in the list and you can even modify or slice the lists if you only want to work with a subset of the passwords. The downside is that lists are very limited when it comes to mathematical operations. As you could see during the last exercise, something as simple as computing the mean value is not directly implemented as a function or method. And the computation of the population variance even requires an iteration over the entire list.  \n",
    "\n",
    "To overcome this limitation of native Python lists, the package [NumPy](https://numpy.org/) provides so-called arrays that are designed to store homogeneous (and multi-dimensional) numerical data and to run (mathematical) operations on the data. To use the package you have to import it with the `import` statement:\n",
    "```python\n",
    "import numpy as np\n",
    "```\n",
    "Instead of just using `import numpy` it is convention to import it with the abbreviation `np`. You now have access to the entire NumPy package with the prefix `np.`.  \n",
    "\n",
    "- Import the NumPy package to your notebook. Write `np.` in a new cell and press tab to see all available functions etc... Try the autocompletion by typing some random letter(s).\n",
    "- Convert the list of password lengths to a NumPy array by passing it to `np.array()`. Use a different variable name for the array, since the list will otherwise be overwritten.\n",
    "- The array can be sliced and printed just like the list. Look at a few individual passwords and a few index ranges in the array and the list. Can you raise an `IndexError` with the array?\n",
    "- You can access the shape of an array variable `a` with the attribute `a.shape`. How does the output differ from the `len()` of a list or an array? Can you think of a reason for this difference?\n",
    "- EXTRA: The type of the data in the array is saved in the attribute `a.dtype`. Check the data type of the array of lengths and find out what it means.\n",
    "- EXTRA: You can pass the data type of the lengths array to `np.iinfo()` to get some more information. What happens if you try to assign a value outside of the allowed range to the array?"
   ]
  },
  {
   "cell_type": "code",
   "execution_count": 21,
   "id": "022a110b-0b93-4c6c-99c5-9b830f3c18b2",
   "metadata": {},
   "outputs": [],
   "source": [
    "import numpy as np"
   ]
  },
  {
   "cell_type": "code",
   "execution_count": null,
   "id": "87f964cb-1165-4feb-9408-b27ac8e430ef",
   "metadata": {},
   "outputs": [],
   "source": [
    "# the autocompletion will show all function etc. that are available in the NumPy package\n",
    "np."
   ]
  },
  {
   "cell_type": "code",
   "execution_count": 23,
   "id": "fe7e9efc-a449-47a0-8565-22c724550cdf",
   "metadata": {},
   "outputs": [],
   "source": [
    "# call the array \"lengths\" to keep the initial list of password lengths\n",
    "lengths = np.array(password_lengths)"
   ]
  },
  {
   "cell_type": "code",
   "execution_count": 24,
   "id": "a406c5ea-64a2-4efd-b1b1-f3a20172c633",
   "metadata": {},
   "outputs": [
    {
     "data": {
      "text/plain": [
       "(7, 5, array([ 6,  8,  7,  8, 10,  7, 12, 10,  8,  8]))"
      ]
     },
     "execution_count": 24,
     "metadata": {},
     "output_type": "execute_result"
    }
   ],
   "source": [
    "# all the indexing of lists also works for the array\n",
    "lengths[9], lengths[-1], lengths[10:20]"
   ]
  },
  {
   "cell_type": "code",
   "execution_count": 25,
   "id": "54e5953e-af6b-407c-902a-fab394c52dae",
   "metadata": {},
   "outputs": [
    {
     "ename": "IndexError",
     "evalue": "index 137 is out of bounds for axis 0 with size 97",
     "output_type": "error",
     "traceback": [
      "\u001b[0;31m---------------------------------------------------------------------------\u001b[0m",
      "\u001b[0;31mIndexError\u001b[0m                                Traceback (most recent call last)",
      "Cell \u001b[0;32mIn[25], line 2\u001b[0m\n\u001b[1;32m      1\u001b[0m \u001b[38;5;66;03m# the IndexError even tells you the size of the array (along the selected axis)\u001b[39;00m\n\u001b[0;32m----> 2\u001b[0m \u001b[43mlengths\u001b[49m\u001b[43m[\u001b[49m\u001b[38;5;241;43m137\u001b[39;49m\u001b[43m]\u001b[49m\n",
      "\u001b[0;31mIndexError\u001b[0m: index 137 is out of bounds for axis 0 with size 97"
     ]
    }
   ],
   "source": [
    "# the IndexError even tells you the size of the array (along the selected axis)\n",
    "lengths[137]"
   ]
  },
  {
   "cell_type": "code",
   "execution_count": 26,
   "id": "d9339955-d483-44e6-a042-f9c32c33d76f",
   "metadata": {},
   "outputs": [
    {
     "data": {
      "text/plain": [
       "(97,)"
      ]
     },
     "execution_count": 26,
     "metadata": {},
     "output_type": "execute_result"
    }
   ],
   "source": [
    "# the shape is always a tuple since NumPy arrays can be multi-dimensional\n",
    "lengths.shape"
   ]
  },
  {
   "cell_type": "code",
   "execution_count": 27,
   "id": "ce81b1a6-d05a-434d-ab81-03e284a38c08",
   "metadata": {},
   "outputs": [
    {
     "data": {
      "text/plain": [
       "97"
      ]
     },
     "execution_count": 27,
     "metadata": {},
     "output_type": "execute_result"
    }
   ],
   "source": [
    "# the length of the array always returns the size of the first axis\n",
    "len(lengths)"
   ]
  },
  {
   "cell_type": "code",
   "execution_count": 28,
   "id": "afd867fa-a20c-4095-bfb4-d43989f866a3",
   "metadata": {},
   "outputs": [
    {
     "data": {
      "text/plain": [
       "dtype('int64')"
      ]
     },
     "execution_count": 28,
     "metadata": {},
     "output_type": "execute_result"
    }
   ],
   "source": [
    "# the data type is a 64 bit (signed) integer\n",
    "lengths.dtype"
   ]
  },
  {
   "cell_type": "code",
   "execution_count": 29,
   "id": "dc5ace5e-70bc-41e8-b74a-89e8b2e292b0",
   "metadata": {},
   "outputs": [
    {
     "data": {
      "text/plain": [
       "iinfo(min=-9223372036854775808, max=9223372036854775807, dtype=int64)"
      ]
     },
     "execution_count": 29,
     "metadata": {},
     "output_type": "execute_result"
    }
   ],
   "source": [
    "# the np.iinfo() reveals the minimum and maximum allowed values of the data type\n",
    "np.iinfo(lengths.dtype)"
   ]
  },
  {
   "cell_type": "code",
   "execution_count": 30,
   "id": "7d8b2094-5a6d-45e1-9dd9-dd37bb315b68",
   "metadata": {},
   "outputs": [
    {
     "ename": "OverflowError",
     "evalue": "Python int too large to convert to C long",
     "output_type": "error",
     "traceback": [
      "\u001b[0;31m---------------------------------------------------------------------------\u001b[0m",
      "\u001b[0;31mOverflowError\u001b[0m                             Traceback (most recent call last)",
      "Cell \u001b[0;32mIn[30], line 2\u001b[0m\n\u001b[1;32m      1\u001b[0m \u001b[38;5;66;03m# an OverflowError is raised when you try to assign a value smaller/greater than the minimum/maximum allowed value\u001b[39;00m\n\u001b[0;32m----> 2\u001b[0m \u001b[43mlengths\u001b[49m\u001b[43m[\u001b[49m\u001b[38;5;241;43m0\u001b[39;49m\u001b[43m]\u001b[49m \u001b[38;5;241m=\u001b[39m \u001b[38;5;241m9223372036854775808\u001b[39m\n",
      "\u001b[0;31mOverflowError\u001b[0m: Python int too large to convert to C long"
     ]
    }
   ],
   "source": [
    "# an OverflowError is raised when you try to assign a value smaller/greater than the minimum/maximum allowed value\n",
    "lengths[0] = 9223372036854775808"
   ]
  },
  {
   "cell_type": "code",
   "execution_count": null,
   "id": "71c0ed2d-230f-4686-99f1-2fb86ac49864",
   "metadata": {},
   "outputs": [],
   "source": []
  },
  {
   "cell_type": "markdown",
   "id": "ea7b8ac4-11c0-41b0-a3a9-0c12c1de4aa4",
   "metadata": {},
   "source": [
    "## EXTRA: Finding the best data type\n",
    "While NumPy arrays are already optimized to store numerical data, you can still do a lot of additional optimization manually. When you pass the list of password lengths to `np.array()`, an array with the dtype `np.int64` is returned. NumPy is able to correctly pick an integer data type since there are only integers in the list of lengths. However, NumPy will always pick the most general data type that correctly represents the data. Since the array will only contain lengths of passwords, we can further restrict the data type by specifying a data type when creating the array. Alternative you can get a copy of an existing array `a` with a different data type using the method `a.astype()`.  \n",
    "\n",
    "Disclaimer: For not even 100 passwords this optimization is not really appropriate yet. However, if you are working on millions of passwords, this optimization will save you a lot of memory.\n",
    "\n",
    "- Specify the requirements for the optimal data type of an array to store password lengths.\n",
    "- Check the available integer data types provided by NumPy. Which one is the best match for the specified requirements?\n",
    "- Create a new array from the lists or create a copy of the existing array using the new data type you picked.\n",
    "- Use the array attributes `size` and `itemsize` to compute the memory size of both arrays. How much memory did you save with the new data type?\n",
    "- Store the maximum allowed integer for the type `np.int64` in the variable `n_max`. Create an array using `np.array([n_max])` and check the data type. How does the data type of the array change if you use `n_max + 1` or `n_max * 10` instead?"
   ]
  },
  {
   "cell_type": "code",
   "execution_count": 31,
   "id": "a95ba641-1bcc-450d-8f10-77e8e57f3b3d",
   "metadata": {},
   "outputs": [],
   "source": [
    "# the password lengths will never be negative which allows you to use an unsigned integer type\n",
    "# using a limit of 255 characters is reasonable for passwords, the corresponding data type would be np.uint8\n",
    "# with the data type np.uint16 the maximum length would be 65535 which will definitely be enough"
   ]
  },
  {
   "cell_type": "code",
   "execution_count": 32,
   "id": "d2e2b23c-d870-4fca-b7d8-cf8b69633cad",
   "metadata": {},
   "outputs": [],
   "source": [
    "# use the dtype np.uint8 which only allows values in the range [0, 255]\n",
    "lengths_uint8 = np.array(password_lengths, np.uint8)"
   ]
  },
  {
   "cell_type": "code",
   "execution_count": 33,
   "id": "08cbc9e1-f017-49f8-ad89-81500f999ceb",
   "metadata": {},
   "outputs": [
    {
     "data": {
      "text/plain": [
       "(97, 8, 97, 1)"
      ]
     },
     "execution_count": 33,
     "metadata": {},
     "output_type": "execute_result"
    }
   ],
   "source": [
    "# compare the size and the itemsize to the original array\n",
    "lengths.size, lengths.itemsize, lengths_uint8.size, lengths_uint8.itemsize"
   ]
  },
  {
   "cell_type": "code",
   "execution_count": 34,
   "id": "de1cdf59-2c40-44fe-9f7f-5b00864274e0",
   "metadata": {},
   "outputs": [
    {
     "data": {
      "text/plain": [
       "(776, 97, 8.0)"
      ]
     },
     "execution_count": 34,
     "metadata": {},
     "output_type": "execute_result"
    }
   ],
   "source": [
    "# the array with the new data type uses 8x less memory\n",
    "memory_size = lengths.size * lengths.itemsize\n",
    "memory_size_uint8 = lengths_uint8.size * lengths_uint8.itemsize\n",
    "memory_size, memory_size_uint8, memory_size / memory_size_uint8"
   ]
  },
  {
   "cell_type": "code",
   "execution_count": 35,
   "id": "9150161a-c943-4720-95b6-b3a0e10b3e44",
   "metadata": {},
   "outputs": [],
   "source": [
    "# get the maximum allowed value from np.iinfo()\n",
    "n_max = np.iinfo(np.int64).max"
   ]
  },
  {
   "cell_type": "code",
   "execution_count": 36,
   "id": "0fe57ecd-42dc-4689-9d82-e66787f9eb6d",
   "metadata": {},
   "outputs": [
    {
     "data": {
      "text/plain": [
       "dtype('int64')"
      ]
     },
     "execution_count": 36,
     "metadata": {},
     "output_type": "execute_result"
    }
   ],
   "source": [
    "# with just n_max the array will have the data type np.int64\n",
    "np.array([n_max]).dtype"
   ]
  },
  {
   "cell_type": "code",
   "execution_count": 37,
   "id": "ceeb2189-2989-447e-8d8c-1c1e733e9483",
   "metadata": {},
   "outputs": [
    {
     "data": {
      "text/plain": [
       "dtype('uint64')"
      ]
     },
     "execution_count": 37,
     "metadata": {},
     "output_type": "execute_result"
    }
   ],
   "source": [
    "# with n_max + 1 the data type will be 'uint64' (unsigned 64 bit integer) which has a greater maximum value\n",
    "np.array([n_max + 1]).dtype"
   ]
  },
  {
   "cell_type": "code",
   "execution_count": 38,
   "id": "7a64e231-6b63-477f-893c-af89216aa029",
   "metadata": {},
   "outputs": [
    {
     "data": {
      "text/plain": [
       "dtype('O')"
      ]
     },
     "execution_count": 38,
     "metadata": {},
     "output_type": "execute_result"
    }
   ],
   "source": [
    "# with n_max * 10 the data type will be 'O' (object) since there is no larger integer data type available in NumPy\n",
    "np.array([n_max * 10]).dtype"
   ]
  },
  {
   "cell_type": "code",
   "execution_count": null,
   "id": "089bf58f-6995-4916-8582-ca9c829e974a",
   "metadata": {},
   "outputs": [],
   "source": []
  },
  {
   "cell_type": "markdown",
   "id": "5112420b-b039-4da4-b982-2aafff740c1e",
   "metadata": {},
   "source": [
    "## Basic array computations\n",
    "Since NumPy arrays are optimized for the handling of numerical data, they already offer a wide range of computations. You can directly use the arithmetic operators `+`, `-`, `*`, `/` and `**` with NumPy arrays, and there are quite a few methods/functions implemented to run computations on single arrays. The most common ones are `sum()`, `mean()`, `std()`, `max()` and `min()`. You can either use them as methods of an array or as functions from the NumPy package. See the following code snippets for the two options to compute the sum of an array  named `a`:\n",
    "```python\n",
    "a.sum()\n",
    "np.sum(a)\n",
    "```\n",
    "Which option you use is mainly a matter of preference. Most computations are implemented as functions and array methods, but less common computations might only be implemented as a function. In any case, you should avoid mixing the two options all the time since this can make your code more difficult to read/understand. Especially if you use different options for the same computation.  \n",
    "\n",
    "Some of the computational methods/functions are also implemented by built-in functions (e.g. `sum()` or `abs()`), but their NumPy equivalents will be much faster (easily up to 100x). You will not be able notice the runtime difference for ~100 passwords, but with larger datasets this becomes very relevant. And since there is no downside to using NumPy when you are dealing with numerical data, you should use it even for small amounts of data.\n",
    "\n",
    "- Try the operators `+`, `-`, `*`, `/` and `**` with the array of lengths and the number 3. How is each operator applied to the array and the scalar value?\n",
    "- What happens when you try to multiply the list of passwords with the number 3? Why is it not possible to divide the list by 3?\n",
    "- Use the computational methods/functions introduced in this exercise on the array of lengths. Check that the mean value and the standard deviation match the results you manually calculated from the list earlier.\n",
    "- EXTRA: Try two more computational methods/functions with the array of lengths. If you don't know where to start, you can type `lengths.` (use your array name here) in a cell and use tab completion to show you the available methods, or you can check the [NumPy user guide](https://numpy.org/doc/stable/user/quickstart.html#functions-and-methods-overview) for some inspiration. If you already have something in mind, you can also look online to find out if there is an implementation in the NumPy package."
   ]
  },
  {
   "cell_type": "code",
   "execution_count": 39,
   "id": "20cb789c-4d24-4e44-88cc-c9e43786b7f0",
   "metadata": {},
   "outputs": [
    {
     "data": {
      "text/plain": [
       "(array([ 0,  6,  3,  4,  4,  3,  5,  3,  5,  4,  3,  5,  4,  5,  7,  4,  9,\n",
       "         7,  5,  5,  2,  4,  5,  5,  5,  5,  3,  8,  4,  7,  4, 10,  7,  6,\n",
       "         3,  3,  5,  5,  7,  5,  5,  5,  5,  3, 10,  3,  6,  5,  4,  8,  7,\n",
       "         6,  5,  7,  3,  4,  6,  6,  6,  3,  4,  4,  3,  6,  7,  1,  5,  6,\n",
       "         4,  7,  6,  5,  4,  4,  3,  5,  5,  3,  4,  5,  6,  8,  5,  8,  4,\n",
       "         4,  2,  3,  5,  6,  4,  5,  6,  2,  4,  4,  2]),\n",
       " array([ 9, 27, 18, 21, 21, 18, 24, 18, 24, 21, 18, 24, 21, 24, 30, 21, 36,\n",
       "        30, 24, 24, 15, 21, 24, 24, 24, 24, 18, 33, 21, 30, 21, 39, 30, 27,\n",
       "        18, 18, 24, 24, 30, 24, 24, 24, 24, 18, 39, 18, 27, 24, 21, 33, 30,\n",
       "        27, 24, 30, 18, 21, 27, 27, 27, 18, 21, 21, 18, 27, 30, 12, 24, 27,\n",
       "        21, 30, 27, 24, 21, 21, 18, 24, 24, 18, 21, 24, 27, 33, 24, 33, 21,\n",
       "        21, 15, 18, 24, 27, 21, 24, 27, 15, 21, 21, 15]))"
      ]
     },
     "execution_count": 39,
     "metadata": {},
     "output_type": "execute_result"
    }
   ],
   "source": [
    "# the operator is applied to every item in the array individually\n",
    "lengths - 3, lengths * 3"
   ]
  },
  {
   "cell_type": "code",
   "execution_count": 40,
   "id": "c4e19842-3d0c-46fb-a20e-6c160d025275",
   "metadata": {},
   "outputs": [
    {
     "name": "stdout",
     "output_type": "stream",
     "text": [
      "[3, 9, 6, 7, 7, 6, 8, 6, 8, 7, 6, 8, 7, 8, 10, 7, 12, 10, 8, 8, 5, 7, 8, 8, 8, 8, 6, 11, 7, 10, 7, 13, 10, 9, 6, 6, 8, 8, 10, 8, 8, 8, 8, 6, 13, 6, 9, 8, 7, 11, 10, 9, 8, 10, 6, 7, 9, 9, 9, 6, 7, 7, 6, 9, 10, 4, 8, 9, 7, 10, 9, 8, 7, 7, 6, 8, 8, 6, 7, 8, 9, 11, 8, 11, 7, 7, 5, 6, 8, 9, 7, 8, 9, 5, 7, 7, 5, 3, 9, 6, 7, 7, 6, 8, 6, 8, 7, 6, 8, 7, 8, 10, 7, 12, 10, 8, 8, 5, 7, 8, 8, 8, 8, 6, 11, 7, 10, 7, 13, 10, 9, 6, 6, 8, 8, 10, 8, 8, 8, 8, 6, 13, 6, 9, 8, 7, 11, 10, 9, 8, 10, 6, 7, 9, 9, 9, 6, 7, 7, 6, 9, 10, 4, 8, 9, 7, 10, 9, 8, 7, 7, 6, 8, 8, 6, 7, 8, 9, 11, 8, 11, 7, 7, 5, 6, 8, 9, 7, 8, 9, 5, 7, 7, 5, 3, 9, 6, 7, 7, 6, 8, 6, 8, 7, 6, 8, 7, 8, 10, 7, 12, 10, 8, 8, 5, 7, 8, 8, 8, 8, 6, 11, 7, 10, 7, 13, 10, 9, 6, 6, 8, 8, 10, 8, 8, 8, 8, 6, 13, 6, 9, 8, 7, 11, 10, 9, 8, 10, 6, 7, 9, 9, 9, 6, 7, 7, 6, 9, 10, 4, 8, 9, 7, 10, 9, 8, 7, 7, 6, 8, 8, 6, 7, 8, 9, 11, 8, 11, 7, 7, 5, 6, 8, 9, 7, 8, 9, 5, 7, 7, 5]\n"
     ]
    }
   ],
   "source": [
    "# the list is repeated three times instead of every item getting multiplied by 3\n",
    "print(password_lengths * 3)"
   ]
  },
  {
   "cell_type": "code",
   "execution_count": 41,
   "id": "efcb93b8-cac8-4b66-81de-e8320775f707",
   "metadata": {},
   "outputs": [
    {
     "ename": "TypeError",
     "evalue": "unsupported operand type(s) for /: 'list' and 'int'",
     "output_type": "error",
     "traceback": [
      "\u001b[0;31m---------------------------------------------------------------------------\u001b[0m",
      "\u001b[0;31mTypeError\u001b[0m                                 Traceback (most recent call last)",
      "Cell \u001b[0;32mIn[41], line 2\u001b[0m\n\u001b[1;32m      1\u001b[0m \u001b[38;5;66;03m# division by 3 is not possible, you would have to slice the list\u001b[39;00m\n\u001b[0;32m----> 2\u001b[0m \u001b[43mpassword_lengths\u001b[49m\u001b[43m \u001b[49m\u001b[38;5;241;43m/\u001b[39;49m\u001b[43m \u001b[49m\u001b[38;5;241;43m3\u001b[39;49m\n",
      "\u001b[0;31mTypeError\u001b[0m: unsupported operand type(s) for /: 'list' and 'int'"
     ]
    }
   ],
   "source": [
    "# division by 3 is not possible, you would have to slice the list\n",
    "password_lengths / 3"
   ]
  },
  {
   "cell_type": "code",
   "execution_count": 42,
   "id": "b5236feb-9600-493a-a500-c5e52d85673e",
   "metadata": {},
   "outputs": [
    {
     "data": {
      "text/plain": [
       "(761, 7.845360824742268, 1.7781039721526093, 13, 3)"
      ]
     },
     "execution_count": 42,
     "metadata": {},
     "output_type": "execute_result"
    }
   ],
   "source": [
    "# the mean value and the standard deviation agree with the manually calculated values\n",
    "np.sum(lengths), np.mean(lengths), np.std(lengths), np.max(lengths), np.min(lengths)"
   ]
  },
  {
   "cell_type": "code",
   "execution_count": 43,
   "id": "84776c62-03e7-4d7a-9c84-6965a7a8662d",
   "metadata": {},
   "outputs": [
    {
     "data": {
      "text/plain": [
       "3.161653735784887"
      ]
     },
     "execution_count": 43,
     "metadata": {},
     "output_type": "execute_result"
    }
   ],
   "source": [
    "# compute the variance of the lengths, which also matches the previously calculated value\n",
    "np.var(lengths)"
   ]
  },
  {
   "cell_type": "code",
   "execution_count": 44,
   "id": "508dbc29-9ec9-46fe-ab66-bfa469189256",
   "metadata": {},
   "outputs": [
    {
     "data": {
      "text/plain": [
       "8.0"
      ]
     },
     "execution_count": 44,
     "metadata": {},
     "output_type": "execute_result"
    }
   ],
   "source": [
    "# find the median value of the lengths\n",
    "np.median(lengths)"
   ]
  },
  {
   "cell_type": "code",
   "execution_count": null,
   "id": "6b8f3c60-d156-404b-b98a-3e5b10d790ef",
   "metadata": {},
   "outputs": [],
   "source": []
  },
  {
   "cell_type": "markdown",
   "id": "30657c84-6977-40b4-89e9-cf6d780b8054",
   "metadata": {},
   "source": [
    "## Filtering data in NumPy arrays\n",
    "\n",
    "In addition to the arithmetic operators you can also use the comparison operators `==`, `>`, `<=` etc. directly with NumPy arrays. If you want to compare an array to another array, they must have the same shape (or at least similar shapes), otherwise the comparison is not well defined. If you compare an array to a scalar value, the comparison is done element-wise. You can directly use the result of the comparison as an index of the array. This allows you to quickly filter data in NumPy arrays. See the following example that will return all lengths less than 5:\n",
    "```python\n",
    "lengths[lengths < 5]\n",
    "```\n",
    "The name of the array in this example is `lengths`. If you picked a different name for your array, you have to use that in place of `lengths`.\n",
    "\n",
    "- Use the equality operator with the array of lengths and the number 7. What are the unique values in the resulting array? What is the type of the data in the resulting array?\n",
    "- Get all lengths greater than 6 from the array and compute their average value. You should not need more than one line of code for this task.\n",
    "- Count the number of passwords that have the median length. Can you find more than one way to do this? Hint: In Python `True + True` equals `2`."
   ]
  },
  {
   "cell_type": "code",
   "execution_count": 45,
   "id": "3022c357-91eb-488f-8506-2555ba388600",
   "metadata": {},
   "outputs": [
    {
     "data": {
      "text/plain": [
       "array([False, False, False,  True,  True, False, False, False, False,\n",
       "        True, False, False,  True, False, False,  True, False, False,\n",
       "       False, False, False,  True, False, False, False, False, False,\n",
       "       False,  True, False,  True, False, False, False, False, False,\n",
       "       False, False, False, False, False, False, False, False, False,\n",
       "       False, False, False,  True, False, False, False, False, False,\n",
       "       False,  True, False, False, False, False,  True,  True, False,\n",
       "       False, False, False, False, False,  True, False, False, False,\n",
       "        True,  True, False, False, False, False,  True, False, False,\n",
       "       False, False, False,  True,  True, False, False, False, False,\n",
       "        True, False, False, False,  True,  True, False])"
      ]
     },
     "execution_count": 45,
     "metadata": {},
     "output_type": "execute_result"
    }
   ],
   "source": [
    "# the comparison of the lengths to the number 7 returns an array with only True and False values\n",
    "lengths == 7"
   ]
  },
  {
   "cell_type": "code",
   "execution_count": 46,
   "id": "f276af37-f72a-4826-83f3-1411ba5c4efc",
   "metadata": {},
   "outputs": [
    {
     "data": {
      "text/plain": [
       "dtype('bool')"
      ]
     },
     "execution_count": 46,
     "metadata": {},
     "output_type": "execute_result"
    }
   ],
   "source": [
    "# the data type of the array is 'bool', which is short for 'boolean'\n",
    "(lengths == 7).dtype"
   ]
  },
  {
   "cell_type": "code",
   "execution_count": 47,
   "id": "5da78fcd-c71a-4790-9f85-8915823a8200",
   "metadata": {},
   "outputs": [
    {
     "data": {
      "text/plain": [
       "array([ 9,  7,  7,  8,  8,  7,  8,  7,  8, 10,  7, 12, 10,  8,  8,  7,  8,\n",
       "        8,  8,  8, 11,  7, 10,  7, 13, 10,  9,  8,  8, 10,  8,  8,  8,  8,\n",
       "       13,  9,  8,  7, 11, 10,  9,  8, 10,  7,  9,  9,  9,  7,  7,  9, 10,\n",
       "        8,  9,  7, 10,  9,  8,  7,  7,  8,  8,  7,  8,  9, 11,  8, 11,  7,\n",
       "        7,  8,  9,  7,  8,  9,  7,  7])"
      ]
     },
     "execution_count": 47,
     "metadata": {},
     "output_type": "execute_result"
    }
   ],
   "source": [
    "# directly index the lengths array with the result of the comparison\n",
    "lengths[lengths > 6]"
   ]
  },
  {
   "cell_type": "code",
   "execution_count": 48,
   "id": "a2485905-6129-461d-8060-cfa02215a074",
   "metadata": {},
   "outputs": [
    {
     "data": {
      "text/plain": [
       "8.473684210526315"
      ]
     },
     "execution_count": 48,
     "metadata": {},
     "output_type": "execute_result"
    }
   ],
   "source": [
    "# compute the mean value of the filtered lengths\n",
    "np.mean(lengths[lengths > 6])"
   ]
  },
  {
   "cell_type": "code",
   "execution_count": 49,
   "id": "7800e7a5-3698-41cd-a0e7-f6ed98a31548",
   "metadata": {},
   "outputs": [
    {
     "data": {
      "text/plain": [
       "8.0"
      ]
     },
     "execution_count": 49,
     "metadata": {},
     "output_type": "execute_result"
    }
   ],
   "source": [
    "# use the function np.median() which returns 8 (or rather 8.0)\n",
    "median_length = np.median(lengths)\n",
    "median_length"
   ]
  },
  {
   "cell_type": "code",
   "execution_count": 50,
   "id": "87c33ce2-06e5-4f21-bfef-8b451bfbf2bf",
   "metadata": {},
   "outputs": [
    {
     "data": {
      "text/plain": [
       "26"
      ]
     },
     "execution_count": 50,
     "metadata": {},
     "output_type": "execute_result"
    }
   ],
   "source": [
    "# compute the length of the filtered lengths\n",
    "len(lengths[lengths == median_length])"
   ]
  },
  {
   "cell_type": "code",
   "execution_count": 51,
   "id": "80e10a32-a2ab-4b55-94b0-aaacf253fb76",
   "metadata": {},
   "outputs": [
    {
     "data": {
      "text/plain": [
       "26"
      ]
     },
     "execution_count": 51,
     "metadata": {},
     "output_type": "execute_result"
    }
   ],
   "source": [
    "# take the sum of the boolean array which effectively counts the True values\n",
    "np.sum(lengths == median_length)"
   ]
  },
  {
   "cell_type": "code",
   "execution_count": null,
   "id": "357d214d-c3d0-4d23-9131-4017b43dd3f0",
   "metadata": {},
   "outputs": [],
   "source": []
  },
  {
   "cell_type": "markdown",
   "id": "6cc014ea-67ed-4755-ab81-986d91c2aa15",
   "metadata": {},
   "source": [
    "## A simple plot\n",
    "The most popular Python package for plotting is [matplotlib](https://matplotlib.org/). You can do everything from a simple line plot to advanced groupplots, and the package works great together with NumPy. Instead of importing the entire package `matplotlib` it is usually sufficient if you import just `matplotlib.pyplot` since the most common functions are all implemented there. By convention you should rename the import to `plt`. You can then create a simple plot with the following function:\n",
    "```python\n",
    "plt.plot([x], y, [fmt])\n",
    "```\n",
    "where the square brackets indicate that both the `x` (values) and the `fmt` (format) are optional. If there is only one argument, it will be interpreted as the `y` (data). The format is a string that defines the shape of the markers, the line between the points and their color. By default, the plot will be a blue line without any markers. If you want to learn more about the parameters of the function `plt.plot()`, take a look at the docstring or the documentation at [https://matplotlib.org](https://matplotlib.org/stable/api/_as_gen/matplotlib.pyplot.plot.html).\n",
    "\n",
    "- Import the module `matplotlib.pyplot` and rename it to `plt`. What happens when you call the function `plt.plot()` without any data/arguments?\n",
    "- Compute the passsword length distribution with the function `np.bincount()`. If you do not understand the length distribution array, look at the examples in the docstring of the function.\n",
    "- Pass the length distribution data to the function `plt.plot()`. If you don't like the solid line, look for other formats in the docstring/documentation.\n",
    "- If you only passed the y-data to the plot function, why are the x-values correct anyway? What are the x-values when you plot the array of lengths instead of their distribution?"
   ]
  },
  {
   "cell_type": "code",
   "execution_count": 52,
   "id": "169aaa4f-d763-4d2a-82b7-7631786ef1ab",
   "metadata": {},
   "outputs": [],
   "source": [
    "# import the module and rename it\n",
    "import matplotlib.pyplot as plt"
   ]
  },
  {
   "cell_type": "code",
   "execution_count": 53,
   "id": "6e4741b2-b0d5-41c3-bb92-c5260d23838e",
   "metadata": {},
   "outputs": [
    {
     "data": {
      "text/plain": [
       "[]"
      ]
     },
     "execution_count": 53,
     "metadata": {},
     "output_type": "execute_result"
    },
    {
     "data": {
      "image/png": "[encoded data removed]",
      "text/plain": [
       "<Figure size 640x480 with 1 Axes>"
      ]
     },
     "metadata": {},
     "output_type": "display_data"
    }
   ],
   "source": [
    "# an empty plot is created and displayed with both axes centered around 0\n",
    "plt.plot()"
   ]
  },
  {
   "cell_type": "code",
   "execution_count": 54,
   "id": "91b5c2ab-140f-4f4c-8429-a6da6dc18ee0",
   "metadata": {},
   "outputs": [
    {
     "data": {
      "text/plain": [
       "array([ 0,  0,  0,  1,  1,  4, 15, 21, 26, 13,  9,  4,  1,  2])"
      ]
     },
     "execution_count": 54,
     "metadata": {},
     "output_type": "execute_result"
    }
   ],
   "source": [
    "# the lengths are binned from 0 to max(lengths)\n",
    "length_counts = np.bincount(lengths)\n",
    "length_counts"
   ]
  },
  {
   "cell_type": "code",
   "execution_count": 55,
   "id": "adb7334d-396c-4e5b-8ef9-bb8b42e8860d",
   "metadata": {},
   "outputs": [
    {
     "data": {
      "text/plain": [
       "[<matplotlib.lines.Line2D at 0x7f70ff96d510>]"
      ]
     },
     "execution_count": 55,
     "metadata": {},
     "output_type": "execute_result"
    },
    {
     "data": {
      "image/png": "[encoded data removed]",
      "text/plain": [
       "<Figure size 640x480 with 1 Axes>"
      ]
     },
     "metadata": {},
     "output_type": "display_data"
    }
   ],
   "source": [
    "# use red plusses to plot the length distribution\n",
    "plt.plot(length_counts, \"r+\")"
   ]
  },
  {
   "cell_type": "code",
   "execution_count": 56,
   "id": "47934d31-ad51-4292-8f8e-eb639c220d40",
   "metadata": {},
   "outputs": [
    {
     "data": {
      "text/plain": [
       "[<matplotlib.lines.Line2D at 0x7f70ff9d4ed0>]"
      ]
     },
     "execution_count": 56,
     "metadata": {},
     "output_type": "execute_result"
    },
    {
     "data": {
      "image/png": "[encoded data removed]",
      "text/plain": [
       "<Figure size 640x480 with 1 Axes>"
      ]
     },
     "metadata": {},
     "output_type": "display_data"
    }
   ],
   "source": [
    "# by default the x-values will go from 0 to len(y) - 1, this just happens to be correct for the result of np.bincount()\n",
    "# if you just plot the lengths, they will be shown in the order of the passwords in the file '100.txt' and the x-values will go from 0 to 96\n",
    "plt.plot(lengths, \"bo\")"
   ]
  },
  {
   "cell_type": "code",
   "execution_count": null,
   "id": "09f171da-2f1c-4305-900e-d76176bc693f",
   "metadata": {},
   "outputs": [],
   "source": []
  },
  {
   "cell_type": "markdown",
   "id": "3e53a912-be02-488c-a001-f951b0ba57f3",
   "metadata": {},
   "source": [
    "## Improving the first plot\n",
    "If you want to display the length distribution of the passwords, a histogram would be much better suited than the simple plot from the previous exercise. In matplotlib you can do this with the function `plt.bar()`. Compared to `plt.plot()` this function requires both the x-values and the y-data (height) to display anything.\n",
    "\n",
    "- Look at the docstring or the [documentation](https://matplotlib.org/stable/api/_as_gen/matplotlib.pyplot.bar.html) of the function `plt.bar()`. Can you understand that both the x-values and the y-data (called height) are required?\n",
    "- Get the length distribution data without the leading zeros. Try to find a general solution that works for any array of password lengths.\n",
    "- Generate the x-values to accompany the histogram data. You can either pass the built-in `range()` to the function `np.array()` or you can use the function `np.arange()`.\n",
    "- Create a bar plot using the x-values and the reduced histogram data. If a ValueError is raised due to a shape mismatch, one of the arrays probably has the wrong length.\n",
    "- Add labels to the x-axis and the y-axis with the functions `plt.xlabel()` and `plt.ylabel()`. Also add a title with the function `plt.title()`.\n",
    "- Change one property of the bars to further improve the plot (based on your personal preference). You can pick something from the docstring of `plt.bar()` or you can find something else online."
   ]
  },
  {
   "cell_type": "code",
   "execution_count": null,
   "id": "6e2f1e7d-5f0a-487c-bcf0-a0c52a0cc920",
   "metadata": {},
   "outputs": [],
   "source": [
    "# according to the function signature both x and height are required\n",
    "plt.bar("
   ]
  },
  {
   "cell_type": "code",
   "execution_count": 63,
   "id": "44adb16c-f448-4f27-9f1c-8207b5750adc",
   "metadata": {},
   "outputs": [
    {
     "data": {
      "text/plain": [
       "array([ 1,  1,  4, 15, 21, 26, 13,  9,  4,  1,  2])"
      ]
     },
     "execution_count": 63,
     "metadata": {},
     "output_type": "execute_result"
    }
   ],
   "source": [
    "# slice the array returned by np.bincount() with the minimum length\n",
    "length_counts = np.bincount(lengths)[np.min(lengths):]\n",
    "length_counts"
   ]
  },
  {
   "cell_type": "code",
   "execution_count": 64,
   "id": "b7997f3d-d981-48fd-8e2d-79b06d784238",
   "metadata": {},
   "outputs": [],
   "source": [
    "# get the range from the minimum and maximum lengths\n",
    "x = np.array(range(np.min(lengths), np.max(lengths)+1))\n",
    "x = np.arange(np.min(lengths), np.max(lengths)+1)"
   ]
  },
  {
   "cell_type": "code",
   "execution_count": 65,
   "id": "123e5e93-b53e-4635-a442-cd05934f88c6",
   "metadata": {},
   "outputs": [
    {
     "data": {
      "text/plain": [
       "(array([ 1,  1,  4, 15, 21, 26, 13,  9,  4,  1,  2]),\n",
       " array([ 3,  4,  5,  6,  7,  8,  9, 10, 11, 12, 13]))"
      ]
     },
     "execution_count": 65,
     "metadata": {},
     "output_type": "execute_result"
    }
   ],
   "source": [
    "# check that the two arrays have the same shapes\n",
    "length_counts, x"
   ]
  },
  {
   "cell_type": "code",
   "execution_count": 66,
   "id": "c267d81e-73f2-4e66-b821-ca3ae85fe7b2",
   "metadata": {},
   "outputs": [
    {
     "data": {
      "text/plain": [
       "Text(0.5, 1.0, 'Length distribution of 97 passwords')"
      ]
     },
     "execution_count": 66,
     "metadata": {},
     "output_type": "execute_result"
    },
    {
     "data": {
      "image/png": "[encoded data removed]",
      "text/plain": [
       "<Figure size 640x480 with 1 Axes>"
      ]
     },
     "metadata": {},
     "output_type": "display_data"
    }
   ],
   "source": [
    "# plot the length distribution as bars with black edges\n",
    "plt.bar(x, length_counts, edgecolor=\"k\")\n",
    "# label the x-axis and the y-axis with a string\n",
    "plt.xlabel(\"Password length\")\n",
    "plt.ylabel(\"Count\")\n",
    "# set the title to a string\n",
    "plt.title(\"Length distribution of 97 passwords\")"
   ]
  },
  {
   "cell_type": "code",
   "execution_count": null,
   "id": "2f148567-415a-47ae-944a-be864192820e",
   "metadata": {},
   "outputs": [],
   "source": []
  },
  {
   "cell_type": "markdown",
   "id": "8b464c0d-26a1-4832-9cb7-ec230d59f988",
   "metadata": {},
   "source": [
    "## Readable and reusable code with functions\n",
    "So far you have directly written and executed your code in the cells, which is one of the big advantages of the Jupyter environment. This was a perfectly fine approach since most of the tasks required just a few lines of code and you never had to use more than one for-loop. Wrapping a task in a function makes sense as soon you have to repeat the task many times. So far all the required computational tasks were already implemented in native Python functions (e.g. `len()` or `sum()`) and in the NumPy package (e.g. `np.mean()` or `np.std()`).  \n",
    "If you want to compute the digit sums of all passwords, there is no function available in native Python or NumPy. Implementing the computation of the digit sum in a function will therefore make your code a lot more readable and reusable. You can just call `compute_digit_sum(password)` for every password in the dataset and you do not have to recall the implementation of the computation of the digit sum every time.  \n",
    "The simplest function only requires a name and one indented line of code. In most cases you also want the function to accept parameters and to return one value (or multiple values). You can use the following template to write your own function for the computation of the sum of digits:\n",
    "```python\n",
    "def compute_digit_sum(password):\n",
    "    digit_sum = \n",
    "    \n",
    "    return digit_sum\n",
    "```\n",
    "The parameter is called `password` and it is only defined in the scope of the function (indicated by the indentation). The keyword `return` is followed by the computed digit sum that you want to return from the function.\n",
    "\n",
    "- Recall how the computation of the sum of digits worked. You can either copy the cell from the previous notebook or you can rewrite the computation.\n",
    "- Implement the computation as a function. You can use the template above or you can write the function from scratch.\n",
    "- Compute the sum of digits for all the passwords and store the result in a NumPy array. You can store it in a list first, but the final result must be a NumPy array.\n",
    "- Display the digit sum data in a new plot. What would be suitable data to use for the x-values? Label the axes, give the plot a title and modify a few plot properties to your liking.\n",
    "- EXTRA: If you are curious, you can try to write the computation of the sum of digits for all passwords without a function. Do you agree that using the function increases the readability?"
   ]
  },
  {
   "cell_type": "code",
   "execution_count": 67,
   "id": "9a77190a-e60b-47dc-9fc7-da3550c34957",
   "metadata": {},
   "outputs": [
    {
     "data": {
      "text/plain": [
       "21"
      ]
     },
     "execution_count": 67,
     "metadata": {},
     "output_type": "execute_result"
    }
   ],
   "source": [
    "# computation of the digit sum with a line comprehension\n",
    "password = \"123456\"\n",
    "sum([int(c) for c in password if c.isnumeric()])"
   ]
  },
  {
   "cell_type": "code",
   "execution_count": 68,
   "id": "79d624eb-accb-49d2-8f24-5c557b64ceb8",
   "metadata": {},
   "outputs": [],
   "source": [
    "# function implementation with a regular for-loop\n",
    "def compute_digit_sum(password):\n",
    "    digit_sum = 0\n",
    "    for char in password:\n",
    "        if char.isnumeric():\n",
    "            digit_sum += int(char)\n",
    "    return digit_sum"
   ]
  },
  {
   "cell_type": "code",
   "execution_count": 69,
   "id": "43c90d04-ef94-4bb9-b6ec-b5811d0e238d",
   "metadata": {},
   "outputs": [],
   "source": [
    "# the function implementation with a list comprehension allows you to directly return the result\n",
    "def compute_digit_sum(password):\n",
    "    return sum([int(c) for c in password if c.isnumeric()])"
   ]
  },
  {
   "cell_type": "code",
   "execution_count": 70,
   "id": "b0358d92-f469-4be8-95a0-53a94b6b40cc",
   "metadata": {},
   "outputs": [],
   "source": [
    "# start from an empty list and iterate over the passwords to append the digit sums\n",
    "digit_sums = []\n",
    "for password in passwords:\n",
    "    digit_sums.append(compute_digit_sum(password))\n",
    "digit_sums = np.array(digit_sums)"
   ]
  },
  {
   "cell_type": "code",
   "execution_count": 71,
   "id": "75e3b0d8-4e57-4fff-adea-c90e5dd63413",
   "metadata": {},
   "outputs": [],
   "source": [
    "# use a list comprehesion and directly pass the list to an array\n",
    "digit_sums = np.array([compute_digit_sum(password) for password in passwords])"
   ]
  },
  {
   "cell_type": "code",
   "execution_count": 72,
   "id": "f5f68835-59d9-4469-9d56-b4f3b173b529",
   "metadata": {},
   "outputs": [
    {
     "data": {
      "text/plain": [
       "Text(0.5, 1.0, 'Computation of the digit sum of 97 passwords')"
      ]
     },
     "execution_count": 72,
     "metadata": {},
     "output_type": "execute_result"
    },
    {
     "data": {
      "image/png": "[encoded data removed]",
      "text/plain": [
       "<Figure size 640x480 with 1 Axes>"
      ]
     },
     "metadata": {},
     "output_type": "display_data"
    }
   ],
   "source": [
    "# plot the digit sum as a function of the length, use diamond-shaped markers with a black edge\n",
    "plt.plot(lengths, digit_sums, \"d\", markersize=7, markeredgewidth=1, markeredgecolor=\"k\")\n",
    "# label the two axes based on the data\n",
    "plt.xlabel(\"Password length\")\n",
    "plt.ylabel(\"Sum of digits\")\n",
    "# describe the plot in the title\n",
    "plt.title(\"Computation of the digit sum of 97 passwords\")"
   ]
  },
  {
   "cell_type": "code",
   "execution_count": 73,
   "id": "b9a13352-1ef2-41ae-871c-2cf71ef71481",
   "metadata": {},
   "outputs": [
    {
     "data": {
      "text/plain": [
       "array([ 0, 23,  6,  6,  0,  1,  0,  7, 32,  6,  1,  2,  7, 14,  0, 12, 16,\n",
       "       45,  2, 44,  2, 44, 44, 44, 44, 44,  6, 15,  0, 45, 22,  6, 48,  1,\n",
       "        6,  0, 28,  0, 54, 32, 32, 32, 32,  0,  0, 22,  6, 14,  6,  6, 45,\n",
       "        1,  2, 19,  6,  0, 45, 24, 36,  0, 31, 16,  0,  0,  9, 13,  0,  0,\n",
       "        0, 56,  0,  5,  0,  0,  0,  5,  0,  2,  0,  0,  0, 18,  0,  0,  0,\n",
       "        2,  0,  0, 12,  0,  0, 12, 25,  0,  0,  0,  0])"
      ]
     },
     "execution_count": 73,
     "metadata": {},
     "output_type": "execute_result"
    }
   ],
   "source": [
    "# compute the digit sums without a function using regular for loops\n",
    "digit_sums = []\n",
    "for password in passwords:\n",
    "    digit_sum = 0\n",
    "    for c in password:\n",
    "        if c.isnumeric():\n",
    "            digit_sum += int(c)\n",
    "    digit_sums.append(digit_sum)\n",
    "np.array(digit_sums)"
   ]
  },
  {
   "cell_type": "code",
   "execution_count": 74,
   "id": "8ace2aaf-79e8-467b-9d09-3cd5faa90088",
   "metadata": {},
   "outputs": [
    {
     "data": {
      "text/plain": [
       "array([ 0, 23,  6,  6,  0,  1,  0,  7, 32,  6,  1,  2,  7, 14,  0, 12, 16,\n",
       "       45,  2, 44,  2, 44, 44, 44, 44, 44,  6, 15,  0, 45, 22,  6, 48,  1,\n",
       "        6,  0, 28,  0, 54, 32, 32, 32, 32,  0,  0, 22,  6, 14,  6,  6, 45,\n",
       "        1,  2, 19,  6,  0, 45, 24, 36,  0, 31, 16,  0,  0,  9, 13,  0,  0,\n",
       "        0, 56,  0,  5,  0,  0,  0,  5,  0,  2,  0,  0,  0, 18,  0,  0,  0,\n",
       "        2,  0,  0, 12,  0,  0, 12, 25,  0,  0,  0,  0])"
      ]
     },
     "execution_count": 74,
     "metadata": {},
     "output_type": "execute_result"
    }
   ],
   "source": [
    "# compute the digit sums without a function using list comprehensions\n",
    "np.array([sum([int(c) for c in password if c.isnumeric()]) for password in passwords])"
   ]
  },
  {
   "cell_type": "code",
   "execution_count": null,
   "id": "2842d3ef-42b2-4dab-ae1e-a9a941231f4c",
   "metadata": {},
   "outputs": [],
   "source": []
  },
  {
   "cell_type": "markdown",
   "id": "26647cfc-8fb7-496e-b474-0875dadcf3f5",
   "metadata": {},
   "source": [
    "## Labeling data in plots\n",
    "When you have multiple lines and/or markers in a single plot, you want to label the data and display the labels in a legend. In matplotlib all the plot functions such as `plt.plot()`, `plt.bar()` etc. have the string parameter `label` that allows you to label the data. You can then add a legend to the plot where the markers/lines will be displayed along with their labels. See the following code snippet that creates a simple line plot with a label and a legend:\n",
    "```python\n",
    "plt.plot(-np.arange(10) / 2, \"r-\", label=\"something linear\")\n",
    "plt.legend()\n",
    "```\n",
    "All labels that are assigned in the same cell before calling `plt.legend()` will be included in the legend. You should therefore call `plt.legend()` at tne end of a cell in most cases. If you want to exclude something from the legend, just omit the parameter `label` in that function.  \n",
    "\n",
    "To include some general information about the dataset in a label or a title, you can use string formatting to include variables in a string. The recommended way is to use so-called f-strings where the variables are just written directly in the string. As an example, consider a plot where the length distribution of the passwords with a digit sum lower than the value of the variable `max_digit_sum` is shown. You can then use the variable `max_digit_sum` to create the following title:\n",
    "```python\n",
    "plt.title(f\"Length distribution of passwords with a digit sum lower than {max_digit_sum}\")\n",
    "```\n",
    "\n",
    "- Create an f-string that presents a password from the dataset including all the properties of the password that you have computed in this notebook.\n",
    "- Plot the digit sums as a function of the password length and label the axes accordingly. Use a reasonable format to display the data.\n",
    "- Compute the maximum possible digit sum as a function of the password length and include this in the plot by calling `plt.plot()` again.\n",
    "- Assign labels to all the data with the `label` parameter and add a legend to the plot. How can you change the position of the legend in the plot?\n",
    "- Add a title to the plot that includes the number of passwords in the dataset. The title should still be correct if you run the entire notebook with a different dataset."
   ]
  },
  {
   "cell_type": "code",
   "execution_count": 75,
   "id": "04593920-67d5-4bc8-8706-f981a4b80ae6",
   "metadata": {},
   "outputs": [
    {
     "data": {
      "text/plain": [
       "\"The password '10261994' has the length 8 and the digit sum 32\""
      ]
     },
     "execution_count": 75,
     "metadata": {},
     "output_type": "execute_result"
    }
   ],
   "source": [
    "# define an index to select a passowrd and read the corresponding length and digit sum\n",
    "i = 40\n",
    "f\"The password '{passwords[i]}' has the length {lengths[i]} and the digit sum {digit_sums[i]}\""
   ]
  },
  {
   "cell_type": "code",
   "execution_count": 76,
   "id": "4b37d664-b54b-44d9-874f-f8d679523bf2",
   "metadata": {},
   "outputs": [
    {
     "data": {
      "text/plain": [
       "<matplotlib.legend.Legend at 0x7f70fd8e15d0>"
      ]
     },
     "execution_count": 76,
     "metadata": {},
     "output_type": "execute_result"
    },
    {
     "data": {
      "image/png": "[encoded data removed]",
      "text/plain": [
       "<Figure size 640x480 with 1 Axes>"
      ]
     },
     "metadata": {},
     "output_type": "display_data"
    }
   ],
   "source": [
    "# plot the digit_sums as a function of the lengths with diamond markers with a black edge, the label is just \"data\"\n",
    "plt.plot(lengths, digit_sums, \"d\", markeredgewidth=1, markeredgecolor=\"k\", label=\"data\")\n",
    "# plot the maximum possible digit sum as a function of the length with the label \"maximum\", the x-values are automatically correct\n",
    "plt.plot(9*np.arange(np.max(lengths) + 1), label=\"maximum\")\n",
    "# assign the usual labels to the axes\n",
    "plt.xlabel(\"Password length\")\n",
    "plt.ylabel(\"Sum of digits\")\n",
    "# include the number of passwords in the dataset in the title\n",
    "plt.title(f\"Computation of the digit sum of {len(passwords)} passwords\")\n",
    "# display the legend in the upper center of the plot\n",
    "plt.legend(loc=\"upper center\")"
   ]
  },
  {
   "cell_type": "code",
   "execution_count": null,
   "id": "f724912b-fbd3-41ca-afde-5fa28112bc14",
   "metadata": {},
   "outputs": [],
   "source": []
  },
  {
   "cell_type": "markdown",
   "id": "00bb75bc-bafd-4c66-82c3-a6fedf15a8e4",
   "metadata": {},
   "source": [
    "## Counting characters\n",
    "In this exercise you are going to count the characters of all passwords you have read from the file in a single dictionary. As a reminder, the count of a character tells you how often this character appeared in the passwords of your dataset. If you have the following list of passwords:\n",
    "```\n",
    "passwords = [\"abc\", \"dac\", \"bba\"]\n",
    "```\n",
    "the dictionary where the characters are counted should be `{\"a\": 3, \"b\": 3\", \"c\": 2, \"d\": 1}`.\n",
    "\n",
    "- Start with an empty dictionary to store the character counts. As before, a character should only appear in the dictionary if it has a count of at least 1.\n",
    "- Iterate over the passwords and then iterate over the characters of each password in two (stacked) `for` loops. Count the characters in the dictionary as you did for the single password in the previous notebook.\n",
    "- Use the built-in function `max()` to get the maximum value from the dictionary. Iterate over the dictionary to find the key that corresponds to the maximum value.\n",
    "- Visualize the character counts in a bar plot. Label the axes and pick a descriptive title.\n",
    "- Create three new dictionaries to separate the counts of the alphabetic characters, the numeric characters and the special characters. Create a bar plot for each one and label it accordingly."
   ]
  },
  {
   "cell_type": "code",
   "execution_count": 77,
   "id": "9f7ef717-9a44-4abb-8a6d-2aa4930c09f5",
   "metadata": {},
   "outputs": [
    {
     "data": {
      "text/plain": [
       "{'l': 25,\n",
       " 'f': 11,\n",
       " 'c': 12,\n",
       " 'L': 2,\n",
       " 'F': 1,\n",
       " '8': 39,\n",
       " '7': 12,\n",
       " '0': 36,\n",
       " '2': 31,\n",
       " '6': 24,\n",
       " '1': 61,\n",
       " '3': 32,\n",
       " 'a': 45,\n",
       " 'b': 10,\n",
       " '@': 1,\n",
       " 't': 26,\n",
       " 'e': 38,\n",
       " 'h': 13,\n",
       " '-': 14,\n",
       " 'n': 30,\n",
       " 's': 20,\n",
       " 'w': 6,\n",
       " 'r': 35,\n",
       " 'x': 2,\n",
       " '5': 25,\n",
       " 'u': 8,\n",
       " '9': 27,\n",
       " 'o': 26,\n",
       " 'y': 9,\n",
       " 'm': 14,\n",
       " '4': 29,\n",
       " 'i': 22,\n",
       " 'd': 20,\n",
       " 'p': 8,\n",
       " '.': 2,\n",
       " 'A': 2,\n",
       " 'q': 6,\n",
       " 'k': 10,\n",
       " 'v': 7,\n",
       " 'g': 11,\n",
       " 'j': 6,\n",
       " 'z': 2,\n",
       " ':': 1}"
      ]
     },
     "execution_count": 77,
     "metadata": {},
     "output_type": "execute_result"
    }
   ],
   "source": [
    "# start with an empty dictionary and iterate over the characters\n",
    "character_count = {}\n",
    "for password in passwords:\n",
    "    for character in password:\n",
    "        # add 1 to the count if the key already exists or add the key with the value to the dictionary\n",
    "        if character in character_count:\n",
    "            character_count[character] += 1\n",
    "        else:\n",
    "            character_count[character] = 1\n",
    "\n",
    "# the keys are ordered by the first occurrence of the character in the password\n",
    "character_count"
   ]
  },
  {
   "cell_type": "code",
   "execution_count": 78,
   "id": "e0ef27e1-bebd-4fc1-b4c0-9bc6180b1f1a",
   "metadata": {},
   "outputs": [],
   "source": [
    "# the maximum count is 61\n",
    "max_count = max(character_count.values())"
   ]
  },
  {
   "cell_type": "code",
   "execution_count": 79,
   "id": "ec7c48c8-4467-4f91-9f4b-b94f4c9e15e8",
   "metadata": {},
   "outputs": [
    {
     "name": "stdout",
     "output_type": "stream",
     "text": [
      "The key '1' has the maximum count of 61\n"
     ]
    }
   ],
   "source": [
    "# the maximum count corresponds to the key '1'\n",
    "for key, value in character_count.items():\n",
    "    if value == max_count:\n",
    "        print(f\"The key '{key}' has the maximum count of {max_count}\")"
   ]
  },
  {
   "cell_type": "code",
   "execution_count": 80,
   "id": "3130ea0e-2fd8-4f28-aeeb-1f9793ff16db",
   "metadata": {},
   "outputs": [
    {
     "data": {
      "text/plain": [
       "Text(0.5, 1.0, 'Character counts of 97 passwords')"
      ]
     },
     "execution_count": 80,
     "metadata": {},
     "output_type": "execute_result"
    },
    {
     "data": {
      "image/png": "[encoded data removed]",
      "text/plain": [
       "<Figure size 640x480 with 1 Axes>"
      ]
     },
     "metadata": {},
     "output_type": "display_data"
    }
   ],
   "source": [
    "# use the keys as the x-data and the values as the y-data\n",
    "plt.bar(character_count.keys(), character_count.values())\n",
    "plt.xlabel(\"Unique characters\")\n",
    "plt.ylabel(\"Counts\")\n",
    "plt.title(f\"Character counts of {len(passwords)} passwords\")"
   ]
  },
  {
   "cell_type": "code",
   "execution_count": null,
   "id": "cc27415d-677c-40cc-8c8e-617d969ff9d0",
   "metadata": {},
   "outputs": [],
   "source": []
  },
  {
   "cell_type": "code",
   "execution_count": 81,
   "id": "8fc00557-1d83-4467-8a38-7ba36cda6355",
   "metadata": {},
   "outputs": [],
   "source": [
    "# create three empty dictionaries\n",
    "alphabetic_counts = {}\n",
    "numeric_counts = {}\n",
    "special_counts = {}\n",
    "\n",
    "# iterate over the character_count items\n",
    "for key, value in character_count.items():\n",
    "    # run the categorization on the keys and assign the key-value pairs to the respective dictionaries\n",
    "    if key.isalpha():\n",
    "        alphabetic_counts[key] = value\n",
    "    elif key.isnumeric():\n",
    "        numeric_counts[key] = value\n",
    "    else:\n",
    "        special_counts[key] = value"
   ]
  },
  {
   "cell_type": "code",
   "execution_count": 82,
   "id": "239e7713-2922-45b0-ba4d-0721f0f2f76a",
   "metadata": {},
   "outputs": [
    {
     "data": {
      "text/plain": [
       "Text(0.5, 1.0, 'Alphabetic character counts of 97 passwords')"
      ]
     },
     "execution_count": 82,
     "metadata": {},
     "output_type": "execute_result"
    },
    {
     "data": {
      "image/png": "[encoded data removed]",
      "text/plain": [
       "<Figure size 640x480 with 1 Axes>"
      ]
     },
     "metadata": {},
     "output_type": "display_data"
    }
   ],
   "source": [
    "plt.bar(alphabetic_counts.keys(), alphabetic_counts.values())\n",
    "plt.xlabel(\"Unique characters\")\n",
    "plt.ylabel(\"Counts\")\n",
    "plt.title(f\"Alphabetic character counts of {len(passwords)} passwords\")"
   ]
  },
  {
   "cell_type": "code",
   "execution_count": 83,
   "id": "312abd97-89b3-4fff-85be-107077e36d83",
   "metadata": {},
   "outputs": [
    {
     "data": {
      "text/plain": [
       "Text(0.5, 1.0, 'Numeric character counts of 97 passwords')"
      ]
     },
     "execution_count": 83,
     "metadata": {},
     "output_type": "execute_result"
    },
    {
     "data": {
      "image/png": "[encoded data removed]",
      "text/plain": [
       "<Figure size 640x480 with 1 Axes>"
      ]
     },
     "metadata": {},
     "output_type": "display_data"
    }
   ],
   "source": [
    "plt.bar(numeric_counts.keys(), numeric_counts.values())\n",
    "plt.xlabel(\"Unique characters\")\n",
    "plt.ylabel(\"Counts\")\n",
    "plt.title(f\"Numeric character counts of {len(passwords)} passwords\")"
   ]
  },
  {
   "cell_type": "code",
   "execution_count": 84,
   "id": "da74b001-a2ec-4f90-a7f9-378be5174eb5",
   "metadata": {},
   "outputs": [
    {
     "data": {
      "text/plain": [
       "Text(0.5, 1.0, 'Special character counts of 97 passwords')"
      ]
     },
     "execution_count": 84,
     "metadata": {},
     "output_type": "execute_result"
    },
    {
     "data": {
      "image/png": "[encoded data removed]",
      "text/plain": [
       "<Figure size 640x480 with 1 Axes>"
      ]
     },
     "metadata": {},
     "output_type": "display_data"
    }
   ],
   "source": [
    "plt.bar(special_counts.keys(), special_counts.values())\n",
    "plt.xlabel(\"Unique characters\")\n",
    "plt.ylabel(\"Counts\")\n",
    "plt.title(f\"Special character counts of {len(passwords)} passwords\")"
   ]
  },
  {
   "cell_type": "code",
   "execution_count": null,
   "id": "9aef32b6-f584-45fe-b105-baf82ba283b1",
   "metadata": {},
   "outputs": [],
   "source": []
  },
  {
   "cell_type": "markdown",
   "id": "1fc04c67-a13e-4ebb-9a53-f6be88c41f3f",
   "metadata": {},
   "source": [
    "## EXTRA: Sorting the character counts\n",
    "The plots in the previous exercise look a bit messy since the character count data is not ordered in any reasonable way. Due to the iteration over the passwords and the characters, the characters are currently just ordered by their first occurrence in the password dataset. For all three categories it would be nice to sort the values in descending order such that the characters are ordered by their frequencies from left to right in the plot. Alternatively, you could also sort the alphabetic data by the keys in alphabetic order (meaning \"A\" to \"Z\"), and you could sort the numeric data by the keys in numeric order (meaning \"0\" to \"9\").  \n",
    "\n",
    "There are two options to approach the sorting. You can either use the native Python function `sorted()` or you can make use of the NumPy package and the functions `np.sort()` and `np.argsort()`. If you want to try the former option, read the section on using the `key` parameter in the `sorted()` function [here](https://realpython.com/sort-python-dictionary/#using-the-key-parameter-and-lambda-functions). If you want to use the NumPy approach, just read the remaining instructions in this cell.  \n",
    "\n",
    "Even though NumPy is optimized for numerical data, the sorting functions also work for string data. If you sort an array of strings, it is ordered alphabetically from \"A\" to \"Z\" based on the first character in each string. Even though this might sound a bit complicated, this approach is used whenever strings have to be sorted, for example books in a library. The catch here is that you have to sort the keys together with the values, but to use the NumPy functions you need to separate the keys and values into two arrays. Note that you cannot directly create arrays from the dictionary keys and dictionary values, you have to pass them to the built-in function `list()` before turning them into an array:\n",
    "```python\n",
    "keys = np.array(list(alphabetic_counts.keys()))\n",
    "values = np.array(list(alphabetic_counts.values()))\n",
    "```\n",
    "The function `np.sort()` can sort the arrays individually but if you want to keep the arrays aligned during the sorting, you have to use the function `np.argsort()`. Instead of the sorted array, this function will return indices that you can use to sort both arrays (the keys and the values).\n",
    "\n",
    "- Start with the alphabetic character counts, sort them by their keys and show the sorted data in a bar plot. Use either of the two options mentioned above.\n",
    "- Sort the numeric character counts by the keys and by the values. Display your results in two different plots.\n",
    "- Sort the three dictionaries individually by their values and merge the data again. You can then display the three categories in a single plot."
   ]
  },
  {
   "cell_type": "code",
   "execution_count": null,
   "id": "1ca2625d-867c-48d8-869e-994c341c20f3",
   "metadata": {},
   "outputs": [],
   "source": []
  }
 ],
 "metadata": {
  "kernelspec": {
   "display_name": "konstanz2023",
   "language": "python",
   "name": "konstanz2023"
  },
  "language_info": {
   "codemirror_mode": {
    "name": "ipython",
    "version": 3
   },
   "file_extension": ".py",
   "mimetype": "text/x-python",
   "name": "python",
   "nbconvert_exporter": "python",
   "pygments_lexer": "ipython3",
   "version": "3.11.5"
  }
 },
 "nbformat": 4,
 "nbformat_minor": 5
}
