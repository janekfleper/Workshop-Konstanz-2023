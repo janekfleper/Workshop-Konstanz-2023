{
 "cells": [
  {
   "cell_type": "markdown",
   "id": "65eb3e4b-dbc7-4e1a-9825-b304f4bd56e4",
   "metadata": {},
   "source": [
    "## Importing packages\n",
    "If you are working with a notebook, it is a good practice to import all the packages that you need at the top of the notebook. This will automatically give you a rough idea of what the notebook is about, and you will avoid random package imports throughout the notebook.\n",
    "\n",
    "- Import the three packages you have used so far with their correct renaming conventions."
   ]
  },
  {
   "cell_type": "code",
   "execution_count": null,
   "id": "52b4674d-0603-48ef-996e-88b4237ff128",
   "metadata": {},
   "outputs": [],
   "source": []
  },
  {
   "cell_type": "markdown",
   "id": "73a35407-2b53-4976-8dee-97698d37c913",
   "metadata": {},
   "source": [
    "## Preparing the data frame again\n",
    "Load the passwords again, and prepare the data frame with all the columns from yesterday. The index should contain the **unique** passwords and you should have the counts, the lengths, the digit sums, the number of alphabetic characters and the number of numeric characters in the data frame."
   ]
  },
  {
   "cell_type": "code",
   "execution_count": null,
   "id": "ae339e89-de40-48fc-ad6d-92b45b420a2d",
   "metadata": {},
   "outputs": [],
   "source": []
  },
  {
   "cell_type": "markdown",
   "id": "921e24f1-a4db-4b66-99f3-c75931a1596a",
   "metadata": {},
   "source": [
    "## Computing the palindrome depth\n",
    "A palindrome is a word/string that reads the same backwards as forwards, for example \"radar\" or \"level\". Instead of just checking all passwords whether they are a palindrome or not, the exercise is to count the number of matching characters up to the middle when reading the password backwards and forwards. If the number of characters is odd, you can include the middle character in the count. See the following examples to clarify how the palindrome depth is defined:\n",
    "```\n",
    "radar -> 3\n",
    "12abcd21 -> 2\n",
    "levels -> 0\n",
    "```\n",
    "\n",
    "- Write the function that computes the palindrome depth for a single password and calculate the depth for all passwords in your data frame.\n",
    "- Identify the actual palindromes using the palindrome depths and the lengths of the passwords.\n",
    "- Visualize your results and see if you can find anything interesting."
   ]
  },
  {
   "cell_type": "code",
   "execution_count": null,
   "id": "7951b6a7-d777-4afe-a5b6-4296a27cf5b4",
   "metadata": {},
   "outputs": [],
   "source": []
  },
  {
   "cell_type": "markdown",
   "id": "9a1dbcd7-45ff-4315-8bce-a88dc26aecbd",
   "metadata": {},
   "source": [
    "## Computing the password strength\n",
    "The [password strength](https://en.wikipedia.org/wiki/Password_strength) estimates how many trials you need on average to crack a password using a brute-force approach. The equation for the information entropy is\n",
    "$$\n",
    "H = L \\frac{\\log{N}}{\\log{2}}\n",
    "$$\n",
    "where $L$ is the length of the password and $N$ is number of possible symbols that depends on the set of symbols. If a passwords consists only of numeric characters, there will only be 10 possible symbols. On the other hand, if a password contains numeric characters and alphabetic characters the number of possible symbols will be higher. See the table on [Entropy per symbol](https://en.wikipedia.org/wiki/Password_strength#Random_passwords) for the relevant symbol sets.\n",
    "\n",
    "- Identify the symbol set of a password. You should at least differentiate between the following three symbol sets:\n",
    "    - Arabic numerals (0–9)\n",
    "    - Case insensitive Latin alphabet (a–z or A–Z)\n",
    "    - All ASCII printable characters (a-z, A-Z, 0-9 and special characters)\n",
    "    - Use more symbol sets if you want to\n",
    "- Write the function that computes the password strength of a single password based on the symbol set and the password length.\n",
    "- Compute the password strength for each password in the data frame and add the result as a new column.\n",
    "- Visualize your results and see if you can find anything interesting."
   ]
  },
  {
   "cell_type": "code",
   "execution_count": null,
   "id": "9ffae7ea-5f45-4fea-b662-ec93fd613130",
   "metadata": {},
   "outputs": [],
   "source": []
  },
  {
   "cell_type": "markdown",
   "id": "01c2fd95-a93a-44f0-a91d-12382394034b",
   "metadata": {},
   "source": [
    "## Numeric character frequencies\n",
    "For each passwords count the individual numeric characters. If a numeric character does not occur in a password, the count must be zero. See the following example as an illustration:\n",
    "```python\n",
    "password = \"1234123459\"\n",
    "```\n",
    "Represented as a dictionary the numeric character counts would be `{\"0\": 0, \"1\": 2, \"2\": 2, \"3\": 2, \"4\": 2, \"5\": 1, \"6\": 0, \"7\": 0, \"8\": 0, \"9\": 1}`.\n",
    "\n",
    "- Write the function that counts the individual numeric characters in a single password.\n",
    "- Get the counts from each password in the data frame and assign the data to the data frame. You need ten additional columns in the data frame, one for each numeric character.\n",
    "- Visualize your results and see if you can find anything interesting."
   ]
  },
  {
   "cell_type": "code",
   "execution_count": null,
   "id": "18d5b6b0-2034-4fa0-bc60-bf2e23a7a86f",
   "metadata": {},
   "outputs": [],
   "source": []
  }
 ],
 "metadata": {
  "kernelspec": {
   "display_name": "konstanz2023",
   "language": "python",
   "name": "konstanz2023"
  },
  "language_info": {
   "codemirror_mode": {
    "name": "ipython",
    "version": 3
   },
   "file_extension": ".py",
   "mimetype": "text/x-python",
   "name": "python",
   "nbconvert_exporter": "python",
   "pygments_lexer": "ipython3",
   "version": "3.11.5"
  }
 },
 "nbformat": 4,
 "nbformat_minor": 5
}
